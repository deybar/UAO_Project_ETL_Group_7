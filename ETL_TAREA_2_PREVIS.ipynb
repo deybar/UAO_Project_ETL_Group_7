{
 "cells": [
  {
   "cell_type": "markdown",
   "metadata": {
    "id": "bu7AGbg0BjuM"
   },
   "source": [
    "# Metodos en python para extracción de datos\n",
    "\n",
    "Codigo en python el cual realiza la conexion a base de datos y exporta en formato excel los datos historicos de despacho mediante la función obtener_despachos, ademas mediante la función obtener_eventos_rastreo_gps podemos traer la data de un vehiculo en especifico con su detalle operativo\n"
   ]
  },
  {
   "cell_type": "code",
   "execution_count": 2,
   "metadata": {
    "colab": {
     "base_uri": "https://localhost:8080/"
    },
    "executionInfo": {
     "elapsed": 2521,
     "status": "ok",
     "timestamp": 1742010793371,
     "user": {
      "displayName": "DEYBAR ANDRES MORA SEGURA",
      "userId": "11821311452975598528"
     },
     "user_tz": 300
    },
    "id": "yi4fE6cNB8wY",
    "outputId": "02584474-f25c-4012-eca6-d8f93616be53"
   },
   "outputs": [
    {
     "name": "stdout",
     "output_type": "stream",
     "text": [
      "Requirement already satisfied: mysql-connector-python==8.0.33 in /usr/local/lib/python3.11/dist-packages (8.0.33)\n",
      "Requirement already satisfied: protobuf<=3.20.3,>=3.11.0 in /usr/local/lib/python3.11/dist-packages (from mysql-connector-python==8.0.33) (3.20.3)\n"
     ]
    }
   ],
   "source": [
    "pip install mysql-connector-python==8.0.33"
   ]
  },
  {
   "cell_type": "markdown",
   "metadata": {
    "id": "OYzk8EsSWqRX"
   },
   "source": [
    "# IMPORTACIÓN DE PAQUETES"
   ]
  },
  {
   "cell_type": "code",
   "execution_count": 1,
   "metadata": {
    "executionInfo": {
     "elapsed": 464,
     "status": "ok",
     "timestamp": 1742010802272,
     "user": {
      "displayName": "DEYBAR ANDRES MORA SEGURA",
      "userId": "11821311452975598528"
     },
     "user_tz": 300
    },
    "id": "QRLzcDcSS0sj"
   },
   "outputs": [],
   "source": [
    "import pandas as pd\n",
    "import mysql.connector\n",
    "from mysql.connector import Error\n",
    "import os\n",
    "import csv\n",
    "import numpy as np\n",
    "import matplotlib.pyplot as plt"
   ]
  },
  {
   "cell_type": "markdown",
   "metadata": {
    "id": "zdvEPH8uWkz9"
   },
   "source": [
    "# CONEXIÓN A LA BASE DE DATOS"
   ]
  },
  {
   "cell_type": "code",
   "execution_count": 3,
   "metadata": {
    "executionInfo": {
     "elapsed": 14,
     "status": "ok",
     "timestamp": 1742010806254,
     "user": {
      "displayName": "DEYBAR ANDRES MORA SEGURA",
      "userId": "11821311452975598528"
     },
     "user_tz": 300
    },
    "id": "4Ji7Rdt18sm4"
   },
   "outputs": [],
   "source": [
    "\n",
    "# Función para conectar a la base de datos\n",
    "def conectar_bd(database):\n",
    "    try:\n",
    "        conexion = mysql.connector.connect(\n",
    "            host=os.getenv(\"DB_HOST\", \"147.93.47.161\"),\n",
    "            user=os.getenv(\"DB_USER\", \"masterbus\"),\n",
    "            password=os.getenv(\"DB_PASSWORD\", \"9@#$%&yhif\"),\n",
    "            database=database\n",
    "        )\n",
    "        if conexion.is_connected():\n",
    "            print(f\"✅ Conexión a la base de datos {database} establecida.\")\n",
    "            return conexion\n",
    "    except Error as e:\n",
    "        print(f\"❌ Error al conectar a MySQL ({database}): {e}\")\n",
    "        return None\n",
    "\n",
    "# Función para obtener el esquema de la base de datos\n",
    "def obtener_esquema(conexion):\n",
    "    if not conexion:\n",
    "        print(\"❌ No hay conexión a la base de datos.\")\n",
    "        return None\n",
    "    try:\n",
    "        cursor = conexion.cursor()\n",
    "        query = \"\"\"\n",
    "            SELECT TABLE_NAME, COLUMN_NAME, DATA_TYPE, COLUMN_TYPE\n",
    "            FROM INFORMATION_SCHEMA.COLUMNS\n",
    "            WHERE TABLE_SCHEMA = %s\n",
    "        \"\"\"\n",
    "        cursor.execute(query, (conexion.database,))\n",
    "        resultado = cursor.fetchall()\n",
    "        esquema = {}\n",
    "        for tabla, columna, tipo, columna_tipo in resultado:\n",
    "            if tabla not in esquema:\n",
    "                esquema[tabla] = []\n",
    "            esquema[tabla].append({\"columna\": columna, \"tipo\": tipo, \"detalle\": columna_tipo})\n",
    "        cursor.close()\n",
    "        return esquema\n",
    "    except Error as e:\n",
    "        print(f\"❌ Error al obtener el esquema: {e}\")\n",
    "        return None"
   ]
  },
  {
   "cell_type": "markdown",
   "metadata": {
    "id": "aIPo9qMaWjPK"
   },
   "source": [
    "# EXTRACCIÓN DE LOS DATOS\n"
   ]
  },
  {
   "cell_type": "code",
   "execution_count": 4,
   "metadata": {
    "executionInfo": {
     "elapsed": 17,
     "status": "ok",
     "timestamp": 1742010814876,
     "user": {
      "displayName": "DEYBAR ANDRES MORA SEGURA",
      "userId": "11821311452975598528"
     },
     "user_tz": 300
    },
    "id": "kMKRvyIgBjuP"
   },
   "outputs": [],
   "source": [
    "\n",
    "def obtener_despachos(conexion, fecha_ini, fecha_fin, archivo_csv=\"despachos.csv\"):\n",
    "    if not conexion:\n",
    "        print(\"❌ No hay conexión a la base de datos.\")\n",
    "        return None\n",
    "\n",
    "    try:\n",
    "        cursor = conexion.cursor(dictionary=True)\n",
    "        query = \"\"\"\n",
    "            SELECT FECHA_INICIAL, HORA_INICIAL_PLAN, HORA_INICIAL_REAL, HORA_INICIAL_AUX, FECHA_FINAL,\n",
    "                   HORA_FINAL_PLAN, HORA_FINAL_REAL, HORA_FINAL_AUX, FK_RUTA, PASAJEROS, DISTANCIA,\n",
    "                   FK_VEHICULO, FK_CONDUCTOR, ESTADO_DESPACHO, PK_INTERVALO_DESPACHO, PK_INFORMACION_REGISTRADORA\n",
    "            FROM\n",
    "            (\n",
    "                SELECT PK_INTERVALO_DESPACHO, FECHA_INICIAL, HORA_INICIAL AS HORA_INICIAL_PLAN,\n",
    "                       (SELECT HORA_REAL FROM tbl_planilla_despacho WHERE FK_INTERVALO_DESPACHO = PK_INTERVALO_DESPACHO AND TIPO_PUNTO = 1) AS HORA_INICIAL_REAL,\n",
    "                       FECHA_FINAL, HORA_FINAL AS HORA_FINAL_PLAN,\n",
    "                       (SELECT HORA_REAL FROM tbl_planilla_despacho WHERE FK_INTERVALO_DESPACHO = PK_INTERVALO_DESPACHO AND TIPO_PUNTO = 3) AS HORA_FINAL_REAL,\n",
    "                       (SELECT ESTADO_DESPACHO FROM tbl_planilla_despacho WHERE FK_INTERVALO_DESPACHO = PK_INTERVALO_DESPACHO AND TIPO_PUNTO = 3) AS ESTADO_DESPACHO\n",
    "                FROM tbl_intervalo_despacho\n",
    "                WHERE FECHA_INICIAL BETWEEN %s AND %s AND ESTADO = 1\n",
    "            ) AS ta\n",
    "            INNER JOIN\n",
    "            (\n",
    "                SELECT HORA_SALIDA_BASE_SALIDA AS HORA_INICIAL_AUX, HORA_INGRESO AS HORA_FINAL_AUX, FK_RUTA,\n",
    "                       DIFERENCIA_NUM AS PASAJEROS, DISTANCIA_METROS AS DISTANCIA, FK_VEHICULO, FK_CONDUCTOR,\n",
    "                       FK_INTERVALO_DESPACHO, PK_INFORMACION_REGISTRADORA\n",
    "                FROM tbl_informacion_registradora\n",
    "                WHERE FECHA_SALIDA_BASE_SALIDA BETWEEN %s AND %s\n",
    "            ) AS tb\n",
    "            ON ta.PK_INTERVALO_DESPACHO = tb.FK_INTERVALO_DESPACHO\n",
    "        \"\"\"\n",
    "        cursor.execute(query, (fecha_ini, fecha_fin, fecha_ini, fecha_fin))\n",
    "        resultados = cursor.fetchall()\n",
    "\n",
    "        if not resultados:\n",
    "            print(\"⚠️ No hay registros de despachos para exportar.\")\n",
    "            return None\n",
    "        #despacho = pd.DataFrame(resultados)\n",
    "\n",
    "        # descargar en un csv\n",
    "        with open(archivo_csv, mode='w', newline='', encoding='utf-8') as file:\n",
    "            writer = csv.DictWriter(file, fieldnames=resultados[0].keys())\n",
    "            writer.writeheader()\n",
    "            writer.writerows(resultados)\n",
    "\n",
    "        print(f\"✅ Datos exportados en '{archivo_csv}'.\")\n",
    "        cursor.close()\n",
    "        return archivo_csv\n",
    "    except Error as e:\n",
    "        print(f\"❌ Error al obtener los despachos: {e}\")\n",
    "        return None\n",
    "\n",
    "# Función para cerrar la conexión a la base de datos\n",
    "def cerrar_conexion(conexion):\n",
    "    if conexion and conexion.is_connected():\n",
    "        conexion.close()\n",
    "        print(\"✅ Conexión cerrada correctamente.\")\n"
   ]
  },
  {
   "cell_type": "code",
   "execution_count": 5,
   "metadata": {
    "colab": {
     "base_uri": "https://localhost:8080/"
    },
    "executionInfo": {
     "elapsed": 100926,
     "status": "ok",
     "timestamp": 1742010925390,
     "user": {
      "displayName": "DEYBAR ANDRES MORA SEGURA",
      "userId": "11821311452975598528"
     },
     "user_tz": 300
    },
    "id": "i1DQKpEyU2GN",
    "outputId": "5fc8553e-0153-419f-c0ed-e8209d7b5314"
   },
   "outputs": [
    {
     "name": "stdout",
     "output_type": "stream",
     "text": [
      "✅ Conexión a la base de datos bd_montebello_rdw establecida.\n",
      "✅ Conexión a la base de datos bd_montebello_rdw_gps establecida.\n",
      "✅ Datos exportados en 'despachos.csv'.\n",
      "✅ Conexión cerrada correctamente.\n"
     ]
    }
   ],
   "source": [
    "# Extracción de la Información:\n",
    "\n",
    "if __name__ == \"__main__\":\n",
    "    conexion_principal = conectar_bd(\"bd_montebello_rdw\") # consolidados de rutas despachos.csv\n",
    "    conexion_gps = conectar_bd(\"bd_montebello_rdw_gps\") # Demanda de pasajeros, eventos vehiculos por recorrido\n",
    "\n",
    "    if conexion_principal and conexion_gps:\n",
    "        # Obtener esquemas de las bases de datos ---  Solo si es necesario\n",
    "        esquema_principal = obtener_esquema(conexion_principal)\n",
    "\n",
    "        fecha_ini = '2024-04-16'\n",
    "        fecha_fin = '2025-03-25'\n",
    "        datos = obtener_despachos(conexion_principal, fecha_ini, fecha_fin)\n",
    "\n",
    "\n",
    "    cerrar_conexion(conexion_principal)"
   ]
  },
  {
   "cell_type": "code",
   "execution_count": 6,
   "metadata": {
    "executionInfo": {
     "elapsed": 202,
     "status": "ok",
     "timestamp": 1742010936394,
     "user": {
      "displayName": "DEYBAR ANDRES MORA SEGURA",
      "userId": "11821311452975598528"
     },
     "user_tz": 300
    },
    "id": "0QF4bQBAIqH8"
   },
   "outputs": [],
   "source": [
    "datos = pd.read_csv(\"despachos.csv\")"
   ]
  },
  {
   "cell_type": "code",
   "execution_count": 7,
   "metadata": {
    "colab": {
     "base_uri": "https://localhost:8080/"
    },
    "executionInfo": {
     "elapsed": 96,
     "status": "ok",
     "timestamp": 1742010939649,
     "user": {
      "displayName": "DEYBAR ANDRES MORA SEGURA",
      "userId": "11821311452975598528"
     },
     "user_tz": 300
    },
    "id": "8A9wpklRVS23",
    "outputId": "100752f6-ba11-4ad5-e7c8-3683d5cb3daf"
   },
   "outputs": [
    {
     "name": "stdout",
     "output_type": "stream",
     "text": [
      "<class 'pandas.core.frame.DataFrame'>\n",
      "RangeIndex: 55952 entries, 0 to 55951\n",
      "Data columns (total 16 columns):\n",
      " #   Column                       Non-Null Count  Dtype \n",
      "---  ------                       --------------  ----- \n",
      " 0   FECHA_INICIAL                55952 non-null  object\n",
      " 1   HORA_INICIAL_PLAN            55952 non-null  object\n",
      " 2   HORA_INICIAL_REAL            55265 non-null  object\n",
      " 3   HORA_INICIAL_AUX             55952 non-null  object\n",
      " 4   FECHA_FINAL                  55952 non-null  object\n",
      " 5   HORA_FINAL_PLAN              55952 non-null  object\n",
      " 6   HORA_FINAL_REAL              49744 non-null  object\n",
      " 7   HORA_FINAL_AUX               55952 non-null  object\n",
      " 8   FK_RUTA                      55952 non-null  int64 \n",
      " 9   PASAJEROS                    55952 non-null  int64 \n",
      " 10  DISTANCIA                    55952 non-null  int64 \n",
      " 11  FK_VEHICULO                  55952 non-null  int64 \n",
      " 12  FK_CONDUCTOR                 55952 non-null  int64 \n",
      " 13  ESTADO_DESPACHO              55952 non-null  int64 \n",
      " 14  PK_INTERVALO_DESPACHO        55952 non-null  int64 \n",
      " 15  PK_INFORMACION_REGISTRADORA  55952 non-null  int64 \n",
      "dtypes: int64(8), object(8)\n",
      "memory usage: 6.8+ MB\n"
     ]
    }
   ],
   "source": [
    "datos.info()"
   ]
  },
  {
   "cell_type": "markdown",
   "metadata": {
    "id": "UoEYmmg8hmfQ"
   },
   "source": [
    "De la información general del conjunto de datos de despachos se puede observar que:\n",
    "\n",
    " - Hay un total de 50884 registros realizados, que corresponden al número de despachos entre las fechas del '2024-04-16' al  '2025-03-11'\n",
    "  - La información relacionada consta de 16 variables que se le miden despacho\n",
    "  - Hay 8 variables con tipo de dato entero y 8 variables objeto o caracteres."
   ]
  },
  {
   "cell_type": "markdown",
   "metadata": {
    "id": "vwaNpY87rkaG"
   },
   "source": [
    "# CONVERSIÓN DE FORMATO PARA PREVISUALIZAR"
   ]
  },
  {
   "cell_type": "code",
   "execution_count": 8,
   "metadata": {
    "executionInfo": {
     "elapsed": 49,
     "status": "ok",
     "timestamp": 1742010946233,
     "user": {
      "displayName": "DEYBAR ANDRES MORA SEGURA",
      "userId": "11821311452975598528"
     },
     "user_tz": 300
    },
    "id": "d-0ESqjXEnJW"
   },
   "outputs": [],
   "source": [
    "# Convertir FECHA_INICIAL y FECHA_FINAL a datetime\n",
    "datos['FECHA_INICIAL'] = pd.to_datetime(datos['FECHA_INICIAL']).dt.date\n",
    "datos['FECHA_FINAL'] = pd.to_datetime(datos['FECHA_FINAL']).dt.date"
   ]
  },
  {
   "cell_type": "code",
   "execution_count": 9,
   "metadata": {
    "executionInfo": {
     "elapsed": 3353,
     "status": "ok",
     "timestamp": 1742010953639,
     "user": {
      "displayName": "DEYBAR ANDRES MORA SEGURA",
      "userId": "11821311452975598528"
     },
     "user_tz": 300
    },
    "id": "PXpBEsDDLCYn"
   },
   "outputs": [],
   "source": [
    "# Convertir las columnas de timedelta64[ns] a horas (o minutos, segundos, etc.)\n",
    "datos['HORA_INICIAL_PLAN'] = pd.to_timedelta(datos['HORA_INICIAL_PLAN']).dt.components['hours']\n",
    "datos['HORA_INICIAL_REAL'] = pd.to_timedelta(datos['HORA_INICIAL_REAL']).dt.components['hours']\n",
    "datos['HORA_INICIAL_AUX'] = pd.to_timedelta(datos['HORA_INICIAL_AUX']).dt.components['hours']\n",
    "datos['HORA_FINAL_PLAN'] = pd.to_timedelta(datos['HORA_FINAL_PLAN']).dt.components['hours']\n",
    "datos['HORA_FINAL_REAL'] = pd.to_timedelta(datos['HORA_FINAL_REAL']).dt.components['hours']\n",
    "datos['HORA_FINAL_AUX'] = pd.to_timedelta(datos['HORA_FINAL_AUX']).dt.components['hours']"
   ]
  },
  {
   "cell_type": "markdown",
   "metadata": {
    "id": "ySUrsoagrhRv"
   },
   "source": [
    "# DATOS FALTANTES"
   ]
  },
  {
   "cell_type": "code",
   "execution_count": 10,
   "metadata": {
    "executionInfo": {
     "elapsed": 5,
     "status": "ok",
     "timestamp": 1742010957950,
     "user": {
      "displayName": "DEYBAR ANDRES MORA SEGURA",
      "userId": "11821311452975598528"
     },
     "user_tz": 300
    },
    "id": "Sd552MAgbhKq"
   },
   "outputs": [],
   "source": [
    "# Calcular el porcentaje de datos faltantes\n",
    "porcentaje_faltantes = (datos.isnull().sum() / len(datos)) * 100"
   ]
  },
  {
   "cell_type": "code",
   "execution_count": 11,
   "metadata": {
    "colab": {
     "base_uri": "https://localhost:8080/",
     "height": 570
    },
    "executionInfo": {
     "elapsed": 3223,
     "status": "ok",
     "timestamp": 1742010964514,
     "user": {
      "displayName": "DEYBAR ANDRES MORA SEGURA",
      "userId": "11821311452975598528"
     },
     "user_tz": 300
    },
    "id": "C9biRIvuclqu",
    "outputId": "f7fb9a61-7a43-40d9-d272-777e5b9aa82e"
   },
   "outputs": [
    {
     "data": {
      "image/png": "[encoded data removed]",
      "text/plain": [
       "<Figure size 1000x600 with 1 Axes>"
      ]
     },
     "metadata": {},
     "output_type": "display_data"
    }
   ],
   "source": [
    "# Crear el gráfico de barras horizontal\n",
    "plt.figure(figsize=(10, 6))\n",
    "porcentaje_faltantes.sort_values().plot(kind='barh', color='darkred')\n",
    "\n",
    "# Añadir título y etiquetas\n",
    "plt.title('Porcentaje de Datos Faltantes', fontsize=16)\n",
    "plt.xlabel('Porcentaje de Datos Faltantes', fontsize=12)\n",
    "plt.ylabel('Columnas', fontsize=12)\n",
    "\n",
    "# Mostrar el porcentaje en las barras\n",
    "for i, v in enumerate(porcentaje_faltantes.sort_values()):\n",
    "    plt.text(v , i, f'{v:.1f}%', color='black', va='center')\n",
    "\n",
    "# Mostrar el gráfico\n",
    "plt.show()"
   ]
  },
  {
   "cell_type": "markdown",
   "metadata": {
    "id": "hsPLcvQ1hhcM"
   },
   "source": [
    "De acuerdo con la gráfica anterior, se puede observar que del total de 50884, despachos, el 10.8% no cuenta con una hora real final registrada, seguida del 1.2% de despachos que no registraron Hora inicial real."
   ]
  },
  {
   "cell_type": "markdown",
   "metadata": {
    "id": "THF_XeL8y1cT"
   },
   "source": [
    "# DESCRIPCIÓN DE LOS DATOS"
   ]
  },
  {
   "cell_type": "code",
   "execution_count": 12,
   "metadata": {
    "executionInfo": {
     "elapsed": 41,
     "status": "ok",
     "timestamp": 1742010974584,
     "user": {
      "displayName": "DEYBAR ANDRES MORA SEGURA",
      "userId": "11821311452975598528"
     },
     "user_tz": 300
    },
    "id": "IF2h1DCoZ1j3"
   },
   "outputs": [],
   "source": [
    "df_cuantitativo = datos[['HORA_INICIAL_PLAN','HORA_INICIAL_REAL','HORA_INICIAL_AUX','HORA_FINAL_PLAN','HORA_FINAL_REAL',\n",
    "                         'HORA_FINAL_AUX','PASAJEROS','DISTANCIA']]"
   ]
  },
  {
   "cell_type": "code",
   "execution_count": 13,
   "metadata": {
    "colab": {
     "base_uri": "https://localhost:8080/",
     "height": 300
    },
    "executionInfo": {
     "elapsed": 276,
     "status": "ok",
     "timestamp": 1742010976735,
     "user": {
      "displayName": "DEYBAR ANDRES MORA SEGURA",
      "userId": "11821311452975598528"
     },
     "user_tz": 300
    },
    "id": "ea2kV_xSW3LK",
    "outputId": "7a062255-8745-42b4-9e66-6a3cc415fd65"
   },
   "outputs": [
    {
     "data": {
      "text/html": [
       "<div>\n",
       "<style scoped>\n",
       "    .dataframe tbody tr th:only-of-type {\n",
       "        vertical-align: middle;\n",
       "    }\n",
       "\n",
       "    .dataframe tbody tr th {\n",
       "        vertical-align: top;\n",
       "    }\n",
       "\n",
       "    .dataframe thead th {\n",
       "        text-align: right;\n",
       "    }\n",
       "</style>\n",
       "<table border=\"1\" class=\"dataframe\">\n",
       "  <thead>\n",
       "    <tr style=\"text-align: right;\">\n",
       "      <th></th>\n",
       "      <th>count</th>\n",
       "      <th>mean</th>\n",
       "      <th>std</th>\n",
       "      <th>min</th>\n",
       "      <th>25%</th>\n",
       "      <th>50%</th>\n",
       "      <th>75%</th>\n",
       "      <th>max</th>\n",
       "    </tr>\n",
       "  </thead>\n",
       "  <tbody>\n",
       "    <tr>\n",
       "      <th>HORA_INICIAL_PLAN</th>\n",
       "      <td>55952.0</td>\n",
       "      <td>9.92</td>\n",
       "      <td>3.83</td>\n",
       "      <td>3.0</td>\n",
       "      <td>6.0</td>\n",
       "      <td>10.0</td>\n",
       "      <td>13.0</td>\n",
       "      <td>20.0</td>\n",
       "    </tr>\n",
       "    <tr>\n",
       "      <th>HORA_INICIAL_REAL</th>\n",
       "      <td>55265.0</td>\n",
       "      <td>9.96</td>\n",
       "      <td>3.80</td>\n",
       "      <td>4.0</td>\n",
       "      <td>7.0</td>\n",
       "      <td>10.0</td>\n",
       "      <td>13.0</td>\n",
       "      <td>19.0</td>\n",
       "    </tr>\n",
       "    <tr>\n",
       "      <th>HORA_INICIAL_AUX</th>\n",
       "      <td>55952.0</td>\n",
       "      <td>9.86</td>\n",
       "      <td>3.93</td>\n",
       "      <td>0.0</td>\n",
       "      <td>6.0</td>\n",
       "      <td>10.0</td>\n",
       "      <td>13.0</td>\n",
       "      <td>19.0</td>\n",
       "    </tr>\n",
       "    <tr>\n",
       "      <th>HORA_FINAL_PLAN</th>\n",
       "      <td>55952.0</td>\n",
       "      <td>12.37</td>\n",
       "      <td>3.86</td>\n",
       "      <td>5.0</td>\n",
       "      <td>9.0</td>\n",
       "      <td>12.0</td>\n",
       "      <td>16.0</td>\n",
       "      <td>22.0</td>\n",
       "    </tr>\n",
       "    <tr>\n",
       "      <th>HORA_FINAL_REAL</th>\n",
       "      <td>49744.0</td>\n",
       "      <td>11.84</td>\n",
       "      <td>3.75</td>\n",
       "      <td>5.0</td>\n",
       "      <td>9.0</td>\n",
       "      <td>12.0</td>\n",
       "      <td>15.0</td>\n",
       "      <td>21.0</td>\n",
       "    </tr>\n",
       "    <tr>\n",
       "      <th>HORA_FINAL_AUX</th>\n",
       "      <td>55952.0</td>\n",
       "      <td>13.07</td>\n",
       "      <td>4.99</td>\n",
       "      <td>4.0</td>\n",
       "      <td>9.0</td>\n",
       "      <td>12.0</td>\n",
       "      <td>16.0</td>\n",
       "      <td>23.0</td>\n",
       "    </tr>\n",
       "    <tr>\n",
       "      <th>PASAJEROS</th>\n",
       "      <td>55952.0</td>\n",
       "      <td>46.16</td>\n",
       "      <td>16.31</td>\n",
       "      <td>1.0</td>\n",
       "      <td>36.0</td>\n",
       "      <td>45.0</td>\n",
       "      <td>55.0</td>\n",
       "      <td>868.0</td>\n",
       "    </tr>\n",
       "    <tr>\n",
       "      <th>DISTANCIA</th>\n",
       "      <td>55952.0</td>\n",
       "      <td>37019.56</td>\n",
       "      <td>5634.92</td>\n",
       "      <td>0.0</td>\n",
       "      <td>35900.0</td>\n",
       "      <td>36700.0</td>\n",
       "      <td>38600.0</td>\n",
       "      <td>91300.0</td>\n",
       "    </tr>\n",
       "  </tbody>\n",
       "</table>\n",
       "</div>"
      ],
      "text/plain": [
       "                     count      mean      std  min      25%      50%      75%  \\\n",
       "HORA_INICIAL_PLAN  55952.0      9.92     3.83  3.0      6.0     10.0     13.0   \n",
       "HORA_INICIAL_REAL  55265.0      9.96     3.80  4.0      7.0     10.0     13.0   \n",
       "HORA_INICIAL_AUX   55952.0      9.86     3.93  0.0      6.0     10.0     13.0   \n",
       "HORA_FINAL_PLAN    55952.0     12.37     3.86  5.0      9.0     12.0     16.0   \n",
       "HORA_FINAL_REAL    49744.0     11.84     3.75  5.0      9.0     12.0     15.0   \n",
       "HORA_FINAL_AUX     55952.0     13.07     4.99  4.0      9.0     12.0     16.0   \n",
       "PASAJEROS          55952.0     46.16    16.31  1.0     36.0     45.0     55.0   \n",
       "DISTANCIA          55952.0  37019.56  5634.92  0.0  35900.0  36700.0  38600.0   \n",
       "\n",
       "                       max  \n",
       "HORA_INICIAL_PLAN     20.0  \n",
       "HORA_INICIAL_REAL     19.0  \n",
       "HORA_INICIAL_AUX      19.0  \n",
       "HORA_FINAL_PLAN       22.0  \n",
       "HORA_FINAL_REAL       21.0  \n",
       "HORA_FINAL_AUX        23.0  \n",
       "PASAJEROS            868.0  \n",
       "DISTANCIA          91300.0  "
      ]
     },
     "execution_count": 13,
     "metadata": {},
     "output_type": "execute_result"
    }
   ],
   "source": [
    "df_cuantitativo.describe().round(2).T"
   ]
  },
  {
   "cell_type": "markdown",
   "metadata": {
    "id": "o4FwnQtEjF3Z"
   },
   "source": [
    "De la descripción de datos numéricos se puede observar que:\n",
    "- Entre las hora inicial planeada y real: se observan que los promedios son símilares tomando valores de 9,9 y 9.87 queriendo decir que en promedio los despachos salen a esa hora.\n",
    "\n",
    "- Entre Hora final planeada y real: Se observa que hay diferencias aparentes entre sus medias la media de horas finales planeadas es a las 12:36 y para las horas planeadas es de 11.86. Esto sugiere inicialmente, que hay un retraso promedio en los retrasos al comparar estas dos medias. Sus desviaciones parecen similares siendo la hora final real un poco más variable.\n",
    "\n",
    "- Observando los mínimos y máximos de Todas las variables temporales, se observan que están dentro de los rango establecidos posibles para un rango horario desde las 0 a las 24 horas.\n",
    "\n",
    "## Sobre Datos FK:\n",
    "\n",
    "Estos datos no tienen una interpretación numérica ya que es un código de una ruta establecida. Estas corresponden al trayecto que debe recorrer el bus despachado. Se observa que hay un total de 6 rutas registrados en los datos.\n",
    "\n",
    "## Sobre Pasajeros:\n",
    "\n",
    "Se observa que en promedio los despachos recogen a 46 pasajeros con una desviación de más o menos 16 pasajeros, en un rango entre 1 a 868 pasajeros. Acá tendrémos que observar el máximo tomado puesto que los buses tienen un cupo máximo aproximado de 40 pasajeros incluidos aquellos que viajan de pie, en un mismo despacho.\n",
    "\n",
    "## Sobre Distancia (mts):\n",
    "\n",
    "Se observa que en promedio las distancia recorrido en los despachos es de  36882.71 con una desviación estándar de más o meno 5595.14 metros con valores que van desde 0mts hasta 91300.0 mts. Estos datos se deben contrastar con los parámetros esperados, observando aquellos que obtuvieron un recorrido de 0mts.\n"
   ]
  },
  {
   "cell_type": "code",
   "execution_count": 14,
   "metadata": {
    "executionInfo": {
     "elapsed": 11,
     "status": "ok",
     "timestamp": 1742010987097,
     "user": {
      "displayName": "DEYBAR ANDRES MORA SEGURA",
      "userId": "11821311452975598528"
     },
     "user_tz": 300
    },
    "id": "4YhRG3UVXNhn"
   },
   "outputs": [],
   "source": [
    "df_cualitativo = datos[['FECHA_INICIAL','FECHA_FINAL','FK_RUTA','ESTADO_DESPACHO']]"
   ]
  },
  {
   "cell_type": "code",
   "execution_count": 15,
   "metadata": {
    "colab": {
     "base_uri": "https://localhost:8080/",
     "height": 241
    },
    "executionInfo": {
     "elapsed": 21,
     "status": "ok",
     "timestamp": 1742010989394,
     "user": {
      "displayName": "DEYBAR ANDRES MORA SEGURA",
      "userId": "11821311452975598528"
     },
     "user_tz": 300
    },
    "id": "8d3AkvLYdrSd",
    "outputId": "f6f3a1c8-5a29-47ce-d50b-59f7a911b701"
   },
   "outputs": [
    {
     "data": {
      "text/plain": [
       "FK_RUTA\n",
       "3    48.87\n",
       "1    47.92\n",
       "6     1.79\n",
       "5     1.42\n",
       "Name: proportion, dtype: float64"
      ]
     },
     "execution_count": 15,
     "metadata": {},
     "output_type": "execute_result"
    }
   ],
   "source": [
    "# Grafica de boxplot\n",
    "(df_cualitativo['FK_RUTA'].value_counts(normalize = True) * 100).round(2)"
   ]
  },
  {
   "cell_type": "markdown",
   "metadata": {
    "id": "nP5o1OaGwyT5"
   },
   "source": [
    "En cuanto al tipo de rutas se puede observar que hay un total de 4 rutas diferentes. La ruta 3 y la ruta 1 son las que más despachos registraron en el data set, con una participación del 48,8% para la ruta 3 y un 48,1% para la ruta 1. La ruta 6 y 5 tienen mucho menos participación con un porcentaje de 1,7% y 1,4% del total de despachos."
   ]
  },
  {
   "cell_type": "markdown",
   "metadata": {
    "id": "FtY3RvVRrPmL"
   },
   "source": [
    "# DATOS ATIPICOS"
   ]
  },
  {
   "cell_type": "code",
   "execution_count": 16,
   "metadata": {
    "colab": {
     "base_uri": "https://localhost:8080/",
     "height": 842
    },
    "executionInfo": {
     "elapsed": 1114,
     "status": "ok",
     "timestamp": 1742010994943,
     "user": {
      "displayName": "DEYBAR ANDRES MORA SEGURA",
      "userId": "11821311452975598528"
     },
     "user_tz": 300
    },
    "id": "HRe8c9iFqy_Q",
    "outputId": "70a5ed75-c012-4eda-ab4c-3d337295fe60"
   },
   "outputs": [
    {
     "data": {
      "image/png": "[encoded data removed]",
      "text/plain": [
       "<Figure size 1500x1000 with 8 Axes>"
      ]
     },
     "metadata": {},
     "output_type": "display_data"
    }
   ],
   "source": [
    "df_cuantitativo = df_cuantitativo.dropna()\n",
    "\n",
    "# Configurar el marco de subplots\n",
    "fig, axes = plt.subplots(2, 4, figsize=(15, 10))  # 2 filas x 4 columnas\n",
    "plt.subplots_adjust(wspace=0.4, hspace=0.4)  # Espaciado entre subplots\n",
    "\n",
    "# Aplanar el array de ejes para iteración fácil\n",
    "axes = axes.flat\n",
    "\n",
    "# Generar un boxplot para cada variable\n",
    "for i, columna in enumerate(df_cuantitativo.columns):\n",
    "    # Crear boxplot con parámetros personalizados\n",
    "    bp = axes[i].boxplot(df_cuantitativo[columna],\n",
    "                        vert=True,  # Vertical\n",
    "                        patch_artist=True,  # Para rellenar las cajas\n",
    "                        flierprops=dict(marker='o',  # Outliers en círculos\n",
    "                                       markerfacecolor='red',  # Color rojo\n",
    "                                       markeredgecolor='red',\n",
    "                                       markersize=4),\n",
    "                        boxprops=dict(facecolor='gray',  # Color gris\n",
    "                                     color='black'),  # Borde negro\n",
    "                        medianprops=dict(color='black'))  # Línea mediana negra\n",
    "\n",
    "    # Configuraciones adicionales\n",
    "    axes[i].set_title(columna, fontsize=10, fontweight='bold')\n",
    "    axes[i].set_ylabel('Valores', fontsize=8)\n",
    "    axes[i].tick_params(axis='both', labelsize=8)\n",
    "    axes[i].grid(True, linestyle='--', alpha=0.6)\n",
    "\n",
    "# Eliminar ejes vacíos si hay menos variables que subplots\n",
    "for j in range(i+1, len(axes)):\n",
    "    fig.delaxes(axes[j])\n",
    "\n",
    "# Ajustar layout y mostrar\n",
    "plt.tight_layout()\n",
    "plt.show()"
   ]
  },
  {
   "cell_type": "markdown",
   "metadata": {
    "id": "JD7zBTPHtzDh"
   },
   "source": [
    "1. HORA_INICIAL_PLAN\n",
    "La distribución de las horas planificadas de inicio muestra una mediana centrada, con un rango intercuartílico estrecho, lo que sugiere una programación generalmente uniforme. Sin embargo, outliers en los extremos inferiores y superiores indican horarios de inicio excepcionalmente tempranos (antes del bigote inferior) o tardíos (después del bigote superior).\n",
    "\n",
    "2. HORA_INICIAL_REAL\n",
    "Comparado con la planificación, este gráfico presenta una dispersión más amplia, con una mediana ligeramente desplazada hacia valores mayores, lo que sugiere retrasos frecuentes. Los outliers superiores (horas muy tardías) son numerosos y se concentran en franjas extremas, indicando despachos que iniciaron con demoras críticas, posiblemente por fallas mecánicas, congestión de rutas o imprevistos logísticos. Los outliers inferiores (horas prematuras) son escasos pero relevantes, apuntando a despachos adelantados no documentados.\n",
    "\n",
    "3. HORA_INICIAL_AUX\n",
    "Las horas registradas por sistemas auxiliares muestran una distribución bimodal (dos picos en la caja), lo que sugiere inconsistencias entre dispositivos de registro. Los outliers dispersos en ambos extremos podrían deberse a errores de sincronización horaria entre sistemas, registros manuales incorrectos o eventos excepcionales (ej: cambios de huso horario no actualizados).\n",
    "\n",
    "4. HORA_FINAL_PLAN\n",
    "La planificación de finalización tiene un IQR compacto, con una mediana alineada a jornadas laborales típicas. No obstante, los outliers superiores (horas muy tardías) revelan planes que exceden significativamente la duración esperada, posiblemente por rutas extensas asignadas sin ajustar los tiempos. Estos casos requieren revisión para evitar sobrecargas en conductores o vehículos.\n",
    "\n",
    "5. HORA_FINAL_REAL\n",
    "Este gráfico contrasta marcadamente con la planificación: la mediana está desplazada hacia arriba, y el IQR es más amplio, evidenciando que las finalizaciones reales suelen ser más tardías que lo previsto. Los outliers superiores (horas extremadamente tardías) son frecuentes y podrían vincularse a factores como condiciones climáticas adversas, accidentes o fallas en vehículos. La presencia de outliers inferiores (finalizaciones abruptas) sugiere interrupciones no planificadas, como cancelaciones de viajes.\n",
    "\n",
    "6. HORA_FINAL_AUX\n",
    "Similar a HORA_INICIAL_AUX, este gráfico muestra inconsistencias técnicas: outliers alejados del bigote superior indican registros de finalización con horas incongruentes.\n",
    "\n",
    "7. DISTANCIA\n",
    "La distancia recorrida tiene una distribución sesgada a la derecha (cola larga hacia valores altos), con una mediana baja pero outliers extremos en el rango superior. Estos valores atípicos representan viajes con distancias anormalmente largas, que podrían deberse a desvíos no autorizados, errores en la asignación de rutas o incluso fraudes (ej: vehículos tomando rutas innecesarias). Los outliers inferiores (distancias cercanas a cero) son mínimos pero alertan sobre viajes cancelados o registros erróneos.\n",
    "\n",
    "8. PASAJEROS\n",
    "La distribución de pasajeros es altamente variable, con una mediana baja y un IQR amplio, reflejando la fluctuación natural de la demanda. Sin embargo, los outliers superiores (valores muy altos) indican viajes con sobrecupo, lo que podría violar normas de seguridad. Por otro lado, los outliers inferiores (viajes vacíos) sugieren despachos innecesarios o fallas en la coordinación entre la oferta y la demanda."
   ]
  },
  {
   "cell_type": "markdown",
   "metadata": {},
   "source": [
    "# Filtrado de datos\n",
    "Se procede a filtrar los datos atipicos referentes al conteo de los pasajeros."
   ]
  },
  {
   "cell_type": "code",
   "execution_count": null,
   "metadata": {},
   "outputs": [],
   "source": []
  }
 ],
 "metadata": {
  "colab": {
   "collapsed_sections": [
    "OYzk8EsSWqRX",
    "zdvEPH8uWkz9",
    "aIPo9qMaWjPK",
    "vwaNpY87rkaG",
    "ySUrsoagrhRv",
    "FtY3RvVRrPmL"
   ],
   "provenance": []
  },
  "kernelspec": {
   "display_name": "Python 3",
   "language": "python",
   "name": "python3"
  },
  "language_info": {
   "codemirror_mode": {
    "name": "ipython",
    "version": 3
   },
   "file_extension": ".py",
   "mimetype": "text/x-python",
   "name": "python",
   "nbconvert_exporter": "python",
   "pygments_lexer": "ipython3",
   "version": "3.13.2"
  }
 },
 "nbformat": 4,
 "nbformat_minor": 0
}
