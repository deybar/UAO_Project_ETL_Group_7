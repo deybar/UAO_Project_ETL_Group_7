{
 "cells": [
  {
   "cell_type": "markdown",
   "metadata": {},
   "source": [
    "# Importar Librerías Necesarias\n",
    "Importar librerías como pandas, numpy y matplotlib para el análisis y visualización de datos."
   ]
  },
  {
   "cell_type": "code",
   "execution_count": 110,
   "metadata": {},
   "outputs": [],
   "source": [
    "import pandas as pd  # Para manipulación y análisis de datos\n",
    "import numpy as np  # Para cálculos numéricos y manejo de arrays\n",
    "import matplotlib.pyplot as plt  # Para visualización de datos\n",
    "import seaborn as sns\n",
    "\n",
    "# Configuración opcional para gráficos más claros\n",
    "plt.style.use('ggplot')  # Estilo de gráficos\n",
    "plt.rcParams['figure.figsize'] = (10, 6)  # Tamaño predeterminado de las figuras"
   ]
  },
  {
   "cell_type": "markdown",
   "metadata": {},
   "source": [
    "# Cargar el Conjunto de Datos\n",
    "Cargar el conjunto de datos desde un archivo CSV o fuente similar utilizando pandas."
   ]
  },
  {
   "cell_type": "code",
   "execution_count": 111,
   "metadata": {},
   "outputs": [
    {
     "data": {
      "text/html": [
       "<div>\n",
       "<style scoped>\n",
       "    .dataframe tbody tr th:only-of-type {\n",
       "        vertical-align: middle;\n",
       "    }\n",
       "\n",
       "    .dataframe tbody tr th {\n",
       "        vertical-align: top;\n",
       "    }\n",
       "\n",
       "    .dataframe thead th {\n",
       "        text-align: right;\n",
       "    }\n",
       "</style>\n",
       "<table border=\"1\" class=\"dataframe\">\n",
       "  <thead>\n",
       "    <tr style=\"text-align: right;\">\n",
       "      <th></th>\n",
       "      <th>FECHA_INICIAL</th>\n",
       "      <th>HORA_INICIAL_PLAN</th>\n",
       "      <th>HORA_INICIAL_REAL</th>\n",
       "      <th>HORA_INICIAL_AUX</th>\n",
       "      <th>FECHA_FINAL</th>\n",
       "      <th>HORA_FINAL_PLAN</th>\n",
       "      <th>HORA_FINAL_REAL</th>\n",
       "      <th>HORA_FINAL_AUX</th>\n",
       "      <th>FK_RUTA</th>\n",
       "      <th>PASAJEROS</th>\n",
       "      <th>DISTANCIA</th>\n",
       "      <th>FK_VEHICULO</th>\n",
       "      <th>FK_CONDUCTOR</th>\n",
       "      <th>ESTADO_DESPACHO</th>\n",
       "      <th>PK_INTERVALO_DESPACHO</th>\n",
       "      <th>PK_INFORMACION_REGISTRADORA</th>\n",
       "    </tr>\n",
       "  </thead>\n",
       "  <tbody>\n",
       "    <tr>\n",
       "      <th>0</th>\n",
       "      <td>2024-04-16</td>\n",
       "      <td>4:02:00</td>\n",
       "      <td>NaN</td>\n",
       "      <td>0:00:00</td>\n",
       "      <td>2024-04-16</td>\n",
       "      <td>6:02:00</td>\n",
       "      <td>5:43:49</td>\n",
       "      <td>5:43:49</td>\n",
       "      <td>5</td>\n",
       "      <td>49</td>\n",
       "      <td>35400</td>\n",
       "      <td>51</td>\n",
       "      <td>38</td>\n",
       "      <td>2</td>\n",
       "      <td>244808</td>\n",
       "      <td>347194</td>\n",
       "    </tr>\n",
       "    <tr>\n",
       "      <th>1</th>\n",
       "      <td>2024-04-16</td>\n",
       "      <td>4:27:00</td>\n",
       "      <td>NaN</td>\n",
       "      <td>0:00:00</td>\n",
       "      <td>2024-04-16</td>\n",
       "      <td>7:26:00</td>\n",
       "      <td>6:17:02</td>\n",
       "      <td>6:00:50</td>\n",
       "      <td>3</td>\n",
       "      <td>49</td>\n",
       "      <td>33200</td>\n",
       "      <td>28</td>\n",
       "      <td>72</td>\n",
       "      <td>2</td>\n",
       "      <td>244812</td>\n",
       "      <td>347197</td>\n",
       "    </tr>\n",
       "    <tr>\n",
       "      <th>2</th>\n",
       "      <td>2024-04-16</td>\n",
       "      <td>4:50:00</td>\n",
       "      <td>4:56:47</td>\n",
       "      <td>4:56:47</td>\n",
       "      <td>2024-04-16</td>\n",
       "      <td>7:01:00</td>\n",
       "      <td>6:12:07</td>\n",
       "      <td>6:12:07</td>\n",
       "      <td>6</td>\n",
       "      <td>28</td>\n",
       "      <td>27200</td>\n",
       "      <td>66</td>\n",
       "      <td>304</td>\n",
       "      <td>2</td>\n",
       "      <td>244814</td>\n",
       "      <td>347198</td>\n",
       "    </tr>\n",
       "    <tr>\n",
       "      <th>3</th>\n",
       "      <td>2024-04-16</td>\n",
       "      <td>4:12:00</td>\n",
       "      <td>NaN</td>\n",
       "      <td>0:00:00</td>\n",
       "      <td>2024-04-16</td>\n",
       "      <td>7:11:00</td>\n",
       "      <td>6:16:04</td>\n",
       "      <td>6:16:04</td>\n",
       "      <td>3</td>\n",
       "      <td>41</td>\n",
       "      <td>42800</td>\n",
       "      <td>22</td>\n",
       "      <td>321</td>\n",
       "      <td>2</td>\n",
       "      <td>244810</td>\n",
       "      <td>347199</td>\n",
       "    </tr>\n",
       "    <tr>\n",
       "      <th>4</th>\n",
       "      <td>2024-04-16</td>\n",
       "      <td>5:00:00</td>\n",
       "      <td>5:00:12</td>\n",
       "      <td>5:00:12</td>\n",
       "      <td>2024-04-16</td>\n",
       "      <td>7:00:00</td>\n",
       "      <td>6:35:30</td>\n",
       "      <td>6:35:30</td>\n",
       "      <td>5</td>\n",
       "      <td>34</td>\n",
       "      <td>31800</td>\n",
       "      <td>47</td>\n",
       "      <td>307</td>\n",
       "      <td>2</td>\n",
       "      <td>244818</td>\n",
       "      <td>347201</td>\n",
       "    </tr>\n",
       "  </tbody>\n",
       "</table>\n",
       "</div>"
      ],
      "text/plain": [
       "  FECHA_INICIAL HORA_INICIAL_PLAN HORA_INICIAL_REAL HORA_INICIAL_AUX  \\\n",
       "0    2024-04-16           4:02:00               NaN          0:00:00   \n",
       "1    2024-04-16           4:27:00               NaN          0:00:00   \n",
       "2    2024-04-16           4:50:00           4:56:47          4:56:47   \n",
       "3    2024-04-16           4:12:00               NaN          0:00:00   \n",
       "4    2024-04-16           5:00:00           5:00:12          5:00:12   \n",
       "\n",
       "  FECHA_FINAL HORA_FINAL_PLAN HORA_FINAL_REAL HORA_FINAL_AUX  FK_RUTA  \\\n",
       "0  2024-04-16         6:02:00         5:43:49        5:43:49        5   \n",
       "1  2024-04-16         7:26:00         6:17:02        6:00:50        3   \n",
       "2  2024-04-16         7:01:00         6:12:07        6:12:07        6   \n",
       "3  2024-04-16         7:11:00         6:16:04        6:16:04        3   \n",
       "4  2024-04-16         7:00:00         6:35:30        6:35:30        5   \n",
       "\n",
       "   PASAJEROS  DISTANCIA  FK_VEHICULO  FK_CONDUCTOR  ESTADO_DESPACHO  \\\n",
       "0         49      35400           51            38                2   \n",
       "1         49      33200           28            72                2   \n",
       "2         28      27200           66           304                2   \n",
       "3         41      42800           22           321                2   \n",
       "4         34      31800           47           307                2   \n",
       "\n",
       "   PK_INTERVALO_DESPACHO  PK_INFORMACION_REGISTRADORA  \n",
       "0                 244808                       347194  \n",
       "1                 244812                       347197  \n",
       "2                 244814                       347198  \n",
       "3                 244810                       347199  \n",
       "4                 244818                       347201  "
      ]
     },
     "execution_count": 111,
     "metadata": {},
     "output_type": "execute_result"
    }
   ],
   "source": [
    "# Cargar el conjunto de datos desde un archivo CSV\n",
    "# Asegúrate de reemplazar 'ruta_al_archivo.csv' con la ruta real de tu archivo\n",
    "ruta_archivo = 'Datos/despachos.csv'\n",
    "df = pd.read_csv(ruta_archivo)\n",
    "# Mostrar las primeras filas del DataFrame para verificar la carga\n",
    "df.head()"
   ]
  },
  {
   "cell_type": "markdown",
   "metadata": {},
   "source": [
    "## TRANSFORMACIÓN: DATOS ATÍPICOS, FALTANTES Y FORMATOS"
   ]
  },
  {
   "cell_type": "markdown",
   "metadata": {},
   "source": [
    "#### Duplicados"
   ]
  },
  {
   "cell_type": "code",
   "execution_count": 112,
   "metadata": {},
   "outputs": [
    {
     "data": {
      "text/html": [
       "<div>\n",
       "<style scoped>\n",
       "    .dataframe tbody tr th:only-of-type {\n",
       "        vertical-align: middle;\n",
       "    }\n",
       "\n",
       "    .dataframe tbody tr th {\n",
       "        vertical-align: top;\n",
       "    }\n",
       "\n",
       "    .dataframe thead th {\n",
       "        text-align: right;\n",
       "    }\n",
       "</style>\n",
       "<table border=\"1\" class=\"dataframe\">\n",
       "  <thead>\n",
       "    <tr style=\"text-align: right;\">\n",
       "      <th></th>\n",
       "      <th>FECHA_INICIAL</th>\n",
       "      <th>HORA_INICIAL_PLAN</th>\n",
       "      <th>HORA_INICIAL_REAL</th>\n",
       "      <th>HORA_INICIAL_AUX</th>\n",
       "      <th>FECHA_FINAL</th>\n",
       "      <th>HORA_FINAL_PLAN</th>\n",
       "      <th>HORA_FINAL_REAL</th>\n",
       "      <th>HORA_FINAL_AUX</th>\n",
       "      <th>FK_RUTA</th>\n",
       "      <th>PASAJEROS</th>\n",
       "      <th>DISTANCIA</th>\n",
       "      <th>FK_VEHICULO</th>\n",
       "      <th>FK_CONDUCTOR</th>\n",
       "      <th>ESTADO_DESPACHO</th>\n",
       "      <th>PK_INTERVALO_DESPACHO</th>\n",
       "      <th>PK_INFORMACION_REGISTRADORA</th>\n",
       "    </tr>\n",
       "  </thead>\n",
       "  <tbody>\n",
       "  </tbody>\n",
       "</table>\n",
       "</div>"
      ],
      "text/plain": [
       "Empty DataFrame\n",
       "Columns: [FECHA_INICIAL, HORA_INICIAL_PLAN, HORA_INICIAL_REAL, HORA_INICIAL_AUX, FECHA_FINAL, HORA_FINAL_PLAN, HORA_FINAL_REAL, HORA_FINAL_AUX, FK_RUTA, PASAJEROS, DISTANCIA, FK_VEHICULO, FK_CONDUCTOR, ESTADO_DESPACHO, PK_INTERVALO_DESPACHO, PK_INFORMACION_REGISTRADORA]\n",
       "Index: []"
      ]
     },
     "execution_count": 112,
     "metadata": {},
     "output_type": "execute_result"
    }
   ],
   "source": [
    "## Listar los registros duplicados\n",
    "duplicados = df[df.duplicated()]\n",
    "duplicados\n",
    "\n",
    "# No hay presencia de datos duplicados"
   ]
  },
  {
   "cell_type": "markdown",
   "metadata": {},
   "source": [
    "### 1.1. CREACIÓN DE CARACTERÍSTICAS INICIALES:"
   ]
  },
  {
   "cell_type": "code",
   "execution_count": 113,
   "metadata": {},
   "outputs": [],
   "source": [
    "df['FECHA_INICIAL'] = pd.to_datetime(df['FECHA_INICIAL'])\n",
    "dias_ordenados = ['Monday', 'Tuesday', 'Wednesday', 'Thursday', 'Friday', 'Saturday', 'Sunday']\n",
    "dias_es = ['Lunes', 'Martes', 'Miércoles', 'Jueves', 'Viernes', 'Sábado', 'Domingo']\n",
    "dias_dict = dict(zip(dias_ordenados, dias_es))\n",
    "df['DIA_SEMANA'] = df['FECHA_INICIAL'].dt.day_name().map(dias_dict)"
   ]
  },
  {
   "cell_type": "markdown",
   "metadata": {},
   "source": [
    "### PASAJEROS"
   ]
  },
  {
   "cell_type": "code",
   "execution_count": 114,
   "metadata": {},
   "outputs": [
    {
     "name": "stdout",
     "output_type": "stream",
     "text": [
      "Estadísticas descriptivas del campo 'PASAJEROS':\n",
      "count    55952.000000\n",
      "mean        46.157993\n",
      "std         16.310046\n",
      "min          1.000000\n",
      "25%         36.000000\n",
      "50%         45.000000\n",
      "75%         55.000000\n",
      "max        868.000000\n",
      "Name: PASAJEROS, dtype: float64\n"
     ]
    },
    {
     "data": {
      "image/png": "[encoded data removed]",
      "text/plain": [
       "<Figure size 720x432 with 1 Axes>"
      ]
     },
     "metadata": {},
     "output_type": "display_data"
    }
   ],
   "source": [
    "# Calcular estadísticas descriptivas para el campo 'PASAJEROS'\n",
    "estadisticas_pasajeros = df['PASAJEROS'].describe(percentiles=[0.25, 0.5, 0.75])\n",
    "\n",
    "print(\"Estadísticas descriptivas del campo 'PASAJEROS':\")\n",
    "print(estadisticas_pasajeros)\n",
    "\n",
    "# Visualizar la distribución del campo 'PASAJEROS' con un histograma\n",
    "plt.hist(df['PASAJEROS'], bins=30, color='skyblue', edgecolor='black')\n",
    "plt.title('Distribución del Campo PASAJEROS')\n",
    "plt.xlabel('Número de Pasajeros')\n",
    "plt.ylabel('Frecuencia')\n",
    "plt.show()"
   ]
  },
  {
   "cell_type": "code",
   "execution_count": 115,
   "metadata": {},
   "outputs": [
    {
     "data": {
      "image/png": "[encoded data removed]",
      "text/plain": [
       "<Figure size 720x432 with 1 Axes>"
      ]
     },
     "metadata": {},
     "output_type": "display_data"
    }
   ],
   "source": [
    "plt.boxplot(df['PASAJEROS'], vert=False, patch_artist=True, boxprops=dict(facecolor='lightgreen'))\n",
    "plt.title('Diagrama de Caja del Campo PASAJEROS')\n",
    "plt.xlabel('Número de Pasajeros')\n",
    "plt.show()"
   ]
  },
  {
   "cell_type": "code",
   "execution_count": 116,
   "metadata": {},
   "outputs": [
    {
     "data": {
      "image/png": "[encoded data removed]",
      "text/plain": [
       "<Figure size 720x432 with 1 Axes>"
      ]
     },
     "metadata": {},
     "output_type": "display_data"
    }
   ],
   "source": [
    "# Agrupar los datos por día de la semana y sumar el número de pasajeros\n",
    "pasajeros_por_dia = df.groupby('DIA_SEMANA')['PASAJEROS'].sum().reindex(\n",
    "    ['Lunes', 'Martes', 'Miércoles', 'Jueves', 'Viernes', 'Sábado', 'Domingo']\n",
    ").reset_index()\n",
    "\n",
    "# Graficar el número de pasajeros por día de la semana\n",
    "plt.bar(pasajeros_por_dia['DIA_SEMANA'], pasajeros_por_dia['PASAJEROS'], color='skyblue', edgecolor='black')\n",
    "plt.title('Número de Pasajeros por Día de la Semana')\n",
    "plt.xlabel('Día de la Semana')\n",
    "plt.ylabel('Número de Pasajeros')\n",
    "plt.xticks(rotation=45)\n",
    "plt.grid(axis='y', linestyle='--', alpha=0.7)\n",
    "plt.show()"
   ]
  },
  {
   "cell_type": "code",
   "execution_count": 117,
   "metadata": {},
   "outputs": [
    {
     "data": {
      "text/plain": [
       "<Figure size 720x432 with 0 Axes>"
      ]
     },
     "metadata": {},
     "output_type": "display_data"
    },
    {
     "data": {
      "image/png": "[encoded data removed]",
      "text/plain": [
       "<Figure size 720x432 with 1 Axes>"
      ]
     },
     "metadata": {},
     "output_type": "display_data"
    }
   ],
   "source": [
    "# Crear el boxplot de pasajeros por día de la semana\n",
    "plt.figure(figsize=(10, 6))\n",
    "df.boxplot(column='PASAJEROS', by='DIA_SEMANA', patch_artist=True, boxprops=dict(facecolor='lightblue'))\n",
    "plt.title('Distribución de Pasajeros por Día de la Semana')\n",
    "plt.suptitle('')  # Eliminar el título automático de pandas\n",
    "plt.xlabel('Día de la Semana')\n",
    "plt.ylabel('Número de Pasajeros')\n",
    "plt.xticks(rotation=45)\n",
    "plt.grid(axis='y', linestyle='--', alpha=0.7)\n",
    "plt.show()"
   ]
  },
  {
   "cell_type": "markdown",
   "metadata": {},
   "source": [
    "### FILTRO PASAJEROS"
   ]
  },
  {
   "cell_type": "code",
   "execution_count": 118,
   "metadata": {},
   "outputs": [
    {
     "data": {
      "text/plain": [
       "<Figure size 720x432 with 0 Axes>"
      ]
     },
     "metadata": {},
     "output_type": "display_data"
    },
    {
     "data": {
      "image/png": "[encoded data removed]",
      "text/plain": [
       "<Figure size 720x432 with 1 Axes>"
      ]
     },
     "metadata": {},
     "output_type": "display_data"
    }
   ],
   "source": [
    "# Aplicar el rango intercuartílico (IQR) por día de la semana\n",
    "def filtrar_outliers_por_dia(grupo):\n",
    "    Q1 = grupo['PASAJEROS'].quantile(0.25)  # Primer cuartil\n",
    "    Q3 = grupo['PASAJEROS'].quantile(0.75)  # Tercer cuartil\n",
    "    IQR = Q3 - Q1  # Rango intercuartílico\n",
    "    limite_inferior = Q1 - 1.5 * IQR\n",
    "    limite_superior = Q3 + 1.5 * IQR\n",
    "    return grupo[(grupo['PASAJEROS'] >= limite_inferior) & (grupo['PASAJEROS'] <= limite_superior)]\n",
    "\n",
    "# Filtrar los datos eliminando los valores atípicos\n",
    "df = df.groupby('DIA_SEMANA', group_keys=False).apply(filtrar_outliers_por_dia)\n",
    "\n",
    "# Mostrar el DataFrame filtrado\n",
    "df.head()\n",
    "\n",
    "# Opcional: Graficar un boxplot con los datos filtrados\n",
    "plt.figure(figsize=(10, 6))\n",
    "df.boxplot(column='PASAJEROS', by='DIA_SEMANA', patch_artist=True, boxprops=dict(facecolor='lightblue'))\n",
    "plt.title('Distribución de Pasajeros por Día de la Semana (Sin Outliers)')\n",
    "plt.suptitle('')  # Eliminar el título automático de pandas\n",
    "plt.xlabel('Día de la Semana')\n",
    "plt.ylabel('Número de Pasajeros')\n",
    "plt.xticks(rotation=45)\n",
    "plt.grid(axis='y', linestyle='--', alpha=0.7)\n",
    "plt.show()\n",
    "\n",
    "# Opcional: Guardar los datos  en un archivo CSV\n",
    "# df.to_csv('datos_pasajeros_filtrado.csv', index=False)\n"
   ]
  },
  {
   "cell_type": "markdown",
   "metadata": {},
   "source": [
    "### RUTAS\n",
    "\n",
    "Las rutas 5 y 6 se eliminan puesto que no son representativas para el análisis."
   ]
  },
  {
   "cell_type": "markdown",
   "metadata": {},
   "source": [
    "#### Filtro Rutas"
   ]
  },
  {
   "cell_type": "code",
   "execution_count": 119,
   "metadata": {},
   "outputs": [],
   "source": [
    "# Filtrar los datos eliminando las filas donde FK_RUTA sea igual a 6 o 5\n",
    "df = df[~df['FK_RUTA'].isin([5, 6])]"
   ]
  },
  {
   "cell_type": "markdown",
   "metadata": {},
   "source": [
    "### Estado Despacho"
   ]
  },
  {
   "cell_type": "code",
   "execution_count": 120,
   "metadata": {},
   "outputs": [
    {
     "data": {
      "text/plain": [
       "2    41930\n",
       "0     5911\n",
       "3     2885\n",
       "4     2144\n",
       "Name: ESTADO_DESPACHO, dtype: int64"
      ]
     },
     "execution_count": 120,
     "metadata": {},
     "output_type": "execute_result"
    }
   ],
   "source": [
    "df['ESTADO_DESPACHO'].value_counts()"
   ]
  },
  {
   "cell_type": "markdown",
   "metadata": {},
   "source": [
    "### Filtro Estado Despacho"
   ]
  },
  {
   "cell_type": "code",
   "execution_count": 121,
   "metadata": {},
   "outputs": [
    {
     "data": {
      "text/plain": [
       "336"
      ]
     },
     "execution_count": 121,
     "metadata": {},
     "output_type": "execute_result"
    }
   ],
   "source": [
    "df[df['DISTANCIA'] < 15000]['DISTANCIA'].value_counts().sum()"
   ]
  },
  {
   "cell_type": "code",
   "execution_count": 122,
   "metadata": {},
   "outputs": [],
   "source": [
    "df = df[df['ESTADO_DESPACHO'] != 4]"
   ]
  },
  {
   "cell_type": "markdown",
   "metadata": {},
   "source": [
    "### DISTANCIA DE RECORRIDO"
   ]
  },
  {
   "cell_type": "code",
   "execution_count": 123,
   "metadata": {},
   "outputs": [
    {
     "data": {
      "image/png": "[encoded data removed]",
      "text/plain": [
       "<Figure size 504x720 with 1 Axes>"
      ]
     },
     "metadata": {},
     "output_type": "display_data"
    }
   ],
   "source": [
    "plt.figure(figsize=(7,10))\n",
    "sns.boxplot(y=df['DISTANCIA'])\n",
    "plt.title(\"Detección de Outliers con Boxplot\")\n",
    "plt.show()"
   ]
  },
  {
   "cell_type": "code",
   "execution_count": 124,
   "metadata": {},
   "outputs": [
    {
     "data": {
      "text/plain": [
       "36800.0"
      ]
     },
     "execution_count": 124,
     "metadata": {},
     "output_type": "execute_result"
    }
   ],
   "source": [
    "mediana = df['DISTANCIA'].median()\n",
    "mediana"
   ]
  },
  {
   "cell_type": "code",
   "execution_count": 125,
   "metadata": {},
   "outputs": [
    {
     "data": {
      "text/plain": [
       "Text(0, 0.5, 'Distancia Recorrida')"
      ]
     },
     "execution_count": 125,
     "metadata": {},
     "output_type": "execute_result"
    },
    {
     "data": {
      "image/png": "[encoded data removed]",
      "text/plain": [
       "<Figure size 576x720 with 1 Axes>"
      ]
     },
     "metadata": {},
     "output_type": "display_data"
    }
   ],
   "source": [
    "\n",
    "# Configurar el tamaño de la figura\n",
    "plt.figure(figsize=(8, 10))\n",
    "\n",
    "# Crear el boxplot con las rutas filtradas\n",
    "sns.boxplot(x='FK_RUTA', y='DISTANCIA', data=df)\n",
    "\n",
    "# Añadir título y etiquetas\n",
    "plt.title(\"Distribución de Distancias por Ruta\")\n",
    "plt.xlabel(\"Ruta\")\n",
    "plt.ylabel(\"Distancia Recorrida\")"
   ]
  },
  {
   "cell_type": "code",
   "execution_count": 126,
   "metadata": {},
   "outputs": [
    {
     "name": "stdout",
     "output_type": "stream",
     "text": [
      "<class 'pandas.core.frame.DataFrame'>\n",
      "Int64Index: 50726 entries, 955 to 55631\n",
      "Data columns (total 17 columns):\n",
      " #   Column                       Non-Null Count  Dtype         \n",
      "---  ------                       --------------  -----         \n",
      " 0   FECHA_INICIAL                50726 non-null  datetime64[ns]\n",
      " 1   HORA_INICIAL_PLAN            50726 non-null  object        \n",
      " 2   HORA_INICIAL_REAL            50544 non-null  object        \n",
      " 3   HORA_INICIAL_AUX             50726 non-null  object        \n",
      " 4   FECHA_FINAL                  50726 non-null  object        \n",
      " 5   HORA_FINAL_PLAN              50726 non-null  object        \n",
      " 6   HORA_FINAL_REAL              44815 non-null  object        \n",
      " 7   HORA_FINAL_AUX               50726 non-null  object        \n",
      " 8   FK_RUTA                      50726 non-null  int64         \n",
      " 9   PASAJEROS                    50726 non-null  int64         \n",
      " 10  DISTANCIA                    50726 non-null  int64         \n",
      " 11  FK_VEHICULO                  50726 non-null  int64         \n",
      " 12  FK_CONDUCTOR                 50726 non-null  int64         \n",
      " 13  ESTADO_DESPACHO              50726 non-null  int64         \n",
      " 14  PK_INTERVALO_DESPACHO        50726 non-null  int64         \n",
      " 15  PK_INFORMACION_REGISTRADORA  50726 non-null  int64         \n",
      " 16  DIA_SEMANA                   50726 non-null  object        \n",
      "dtypes: datetime64[ns](1), int64(8), object(8)\n",
      "memory usage: 9.0+ MB\n"
     ]
    }
   ],
   "source": [
    "df.info()"
   ]
  },
  {
   "cell_type": "code",
   "execution_count": 127,
   "metadata": {},
   "outputs": [],
   "source": [
    "#Calcular el MAD (Desviación Absoluta de la Mediana)\n",
    "def filtrar_outliers_por_ruta(grupo):\n",
    "    mediana = grupo.median()\n",
    "    mad = np.median(np.abs(grupo - mediana))\n",
    "    lim_sup = mediana + 3 * mad\n",
    "    lim_inf = max(mediana - 3 * mad, 0)  # Evitar negativos\n",
    "    mascara = (grupo >= lim_inf) & (grupo <= lim_sup)\n",
    "    return grupo[mascara].index\n",
    "\n",
    "indices_validos = df.groupby('FK_RUTA')['DISTANCIA'].apply(filtrar_outliers_por_ruta)\n",
    "indices_validos_flat = indices_validos.explode()\n",
    "# para filtrar: df_clean  = df.loc[indices_validos_flat]['DISTANCIA'].describe()"
   ]
  },
  {
   "cell_type": "code",
   "execution_count": 128,
   "metadata": {},
   "outputs": [
    {
     "data": {
      "text/plain": [
       "count    34654.000000\n",
       "mean     36553.171351\n",
       "std        865.880716\n",
       "min      33800.000000\n",
       "25%      36100.000000\n",
       "50%      36500.000000\n",
       "75%      37000.000000\n",
       "max      39200.000000\n",
       "Name: DISTANCIA, dtype: float64"
      ]
     },
     "execution_count": 128,
     "metadata": {},
     "output_type": "execute_result"
    }
   ],
   "source": [
    "df.loc[indices_validos_flat]['DISTANCIA'].describe()"
   ]
  },
  {
   "cell_type": "markdown",
   "metadata": {},
   "source": [
    "No se filtra aún porque se eliminan muchos datos, se filtrará en el calculo del KPI."
   ]
  },
  {
   "cell_type": "markdown",
   "metadata": {},
   "source": [
    "### FILTRO DE DATOS FALTANTESS"
   ]
  },
  {
   "cell_type": "code",
   "execution_count": 203,
   "metadata": {},
   "outputs": [],
   "source": [
    "# Eliminar registros con valores faltantes en las columnas HORA_INICIAL_PLAN o HORA_INICIAL_REAL\n",
    "df_filtrado = df.dropna(subset=['HORA_INICIAL_PLAN', 'HORA_INICIAL_REAL']) #'HORA_FINAL_REAL'\n",
    "df_filtrado = df_filtrado.drop(columns=['HORA_INICIAL_AUX','HORA_FINAL_AUX','FK_CONDUCTOR'])\n"
   ]
  },
  {
   "cell_type": "markdown",
   "metadata": {},
   "source": [
    "#### TRANSFORMACIÓN A LOS DATOS TEMPORALES"
   ]
  },
  {
   "cell_type": "code",
   "execution_count": 204,
   "metadata": {},
   "outputs": [],
   "source": [
    "\n",
    "# Asegurar de que las columnas de tiempo estén en formato datetime\n",
    "if not pd.api.types.is_datetime64_any_dtype(df_filtrado['HORA_INICIAL_PLAN']):\n",
    "    df_filtrado['HORA_INICIAL_PLAN'] = pd.to_datetime(df_filtrado['FECHA_INICIAL'].astype(str) + ' ' + df_filtrado['HORA_INICIAL_PLAN'], errors='coerce')\n",
    "\n",
    "if not pd.api.types.is_datetime64_any_dtype(df_filtrado['HORA_INICIAL_REAL']):\n",
    "    df_filtrado['HORA_INICIAL_REAL'] = pd.to_datetime(df_filtrado['FECHA_INICIAL'].astype(str) + ' ' + df_filtrado['HORA_INICIAL_REAL'], errors='coerce')\n",
    "\n",
    "# Asegurar de que las columnas de tiempo estén en formato datetime\n",
    "if not pd.api.types.is_datetime64_any_dtype(df_filtrado['HORA_FINAL_PLAN']):\n",
    "    df_filtrado['HORA_FINAL_PLAN'] = pd.to_datetime(df_filtrado['FECHA_FINAL'].astype(str) + ' ' + df_filtrado['HORA_FINAL_PLAN'], errors='coerce')\n",
    "\n",
    "if not pd.api.types.is_datetime64_any_dtype(df_filtrado['HORA_FINAL_REAL']):\n",
    "    df_filtrado['HORA_FINAL_REAL'] = pd.to_datetime(df_filtrado['FECHA_FINAL'].astype(str) + ' ' + df_filtrado['HORA_FINAL_REAL'], errors='coerce')\n"
   ]
  },
  {
   "cell_type": "code",
   "execution_count": 205,
   "metadata": {},
   "outputs": [
    {
     "data": {
      "text/html": [
       "<div>\n",
       "<style scoped>\n",
       "    .dataframe tbody tr th:only-of-type {\n",
       "        vertical-align: middle;\n",
       "    }\n",
       "\n",
       "    .dataframe tbody tr th {\n",
       "        vertical-align: top;\n",
       "    }\n",
       "\n",
       "    .dataframe thead th {\n",
       "        text-align: right;\n",
       "    }\n",
       "</style>\n",
       "<table border=\"1\" class=\"dataframe\">\n",
       "  <thead>\n",
       "    <tr style=\"text-align: right;\">\n",
       "      <th></th>\n",
       "      <th>FECHA_INICIAL</th>\n",
       "      <th>HORA_INICIAL_PLAN</th>\n",
       "      <th>HORA_INICIAL_REAL</th>\n",
       "      <th>FECHA_FINAL</th>\n",
       "      <th>HORA_FINAL_PLAN</th>\n",
       "      <th>HORA_FINAL_REAL</th>\n",
       "      <th>FK_RUTA</th>\n",
       "      <th>PASAJEROS</th>\n",
       "      <th>DISTANCIA</th>\n",
       "      <th>FK_VEHICULO</th>\n",
       "      <th>ESTADO_DESPACHO</th>\n",
       "      <th>PK_INTERVALO_DESPACHO</th>\n",
       "      <th>PK_INFORMACION_REGISTRADORA</th>\n",
       "      <th>DIA_SEMANA</th>\n",
       "    </tr>\n",
       "  </thead>\n",
       "  <tbody>\n",
       "    <tr>\n",
       "      <th>956</th>\n",
       "      <td>2024-04-21</td>\n",
       "      <td>2024-04-21 05:00:00</td>\n",
       "      <td>2024-04-21 05:02:14</td>\n",
       "      <td>2024-04-21</td>\n",
       "      <td>2024-04-21 07:59:00</td>\n",
       "      <td>2024-04-21 06:40:05</td>\n",
       "      <td>3</td>\n",
       "      <td>24</td>\n",
       "      <td>30300</td>\n",
       "      <td>16</td>\n",
       "      <td>2</td>\n",
       "      <td>245776</td>\n",
       "      <td>348295</td>\n",
       "      <td>Domingo</td>\n",
       "    </tr>\n",
       "    <tr>\n",
       "      <th>957</th>\n",
       "      <td>2024-04-21</td>\n",
       "      <td>2024-04-21 05:30:00</td>\n",
       "      <td>2024-04-21 05:28:13</td>\n",
       "      <td>2024-04-21</td>\n",
       "      <td>2024-04-21 08:29:00</td>\n",
       "      <td>2024-04-21 07:39:15</td>\n",
       "      <td>3</td>\n",
       "      <td>34</td>\n",
       "      <td>40700</td>\n",
       "      <td>38</td>\n",
       "      <td>2</td>\n",
       "      <td>245777</td>\n",
       "      <td>348296</td>\n",
       "      <td>Domingo</td>\n",
       "    </tr>\n",
       "    <tr>\n",
       "      <th>958</th>\n",
       "      <td>2024-04-21</td>\n",
       "      <td>2024-04-21 05:40:00</td>\n",
       "      <td>2024-04-21 05:37:41</td>\n",
       "      <td>2024-04-21</td>\n",
       "      <td>2024-04-21 08:21:00</td>\n",
       "      <td>2024-04-21 07:50:41</td>\n",
       "      <td>1</td>\n",
       "      <td>37</td>\n",
       "      <td>38500</td>\n",
       "      <td>75</td>\n",
       "      <td>2</td>\n",
       "      <td>245778</td>\n",
       "      <td>348297</td>\n",
       "      <td>Domingo</td>\n",
       "    </tr>\n",
       "    <tr>\n",
       "      <th>959</th>\n",
       "      <td>2024-04-21</td>\n",
       "      <td>2024-04-21 06:00:00</td>\n",
       "      <td>2024-04-21 06:01:32</td>\n",
       "      <td>2024-04-21</td>\n",
       "      <td>2024-04-21 08:41:00</td>\n",
       "      <td>2024-04-21 08:10:51</td>\n",
       "      <td>1</td>\n",
       "      <td>36</td>\n",
       "      <td>38000</td>\n",
       "      <td>84</td>\n",
       "      <td>2</td>\n",
       "      <td>245779</td>\n",
       "      <td>348298</td>\n",
       "      <td>Domingo</td>\n",
       "    </tr>\n",
       "    <tr>\n",
       "      <th>960</th>\n",
       "      <td>2024-04-21</td>\n",
       "      <td>2024-04-21 06:12:00</td>\n",
       "      <td>2024-04-21 06:12:06</td>\n",
       "      <td>2024-04-21</td>\n",
       "      <td>2024-04-21 09:11:00</td>\n",
       "      <td>2024-04-21 08:22:00</td>\n",
       "      <td>3</td>\n",
       "      <td>44</td>\n",
       "      <td>42700</td>\n",
       "      <td>4</td>\n",
       "      <td>2</td>\n",
       "      <td>245780</td>\n",
       "      <td>348299</td>\n",
       "      <td>Domingo</td>\n",
       "    </tr>\n",
       "    <tr>\n",
       "      <th>962</th>\n",
       "      <td>2024-04-21</td>\n",
       "      <td>2024-04-21 06:35:00</td>\n",
       "      <td>2024-04-21 06:34:14</td>\n",
       "      <td>2024-04-21</td>\n",
       "      <td>2024-04-21 09:16:00</td>\n",
       "      <td>2024-04-21 08:51:34</td>\n",
       "      <td>1</td>\n",
       "      <td>35</td>\n",
       "      <td>35700</td>\n",
       "      <td>72</td>\n",
       "      <td>2</td>\n",
       "      <td>245781</td>\n",
       "      <td>348301</td>\n",
       "      <td>Domingo</td>\n",
       "    </tr>\n",
       "    <tr>\n",
       "      <th>963</th>\n",
       "      <td>2024-04-21</td>\n",
       "      <td>2024-04-21 07:25:00</td>\n",
       "      <td>2024-04-21 07:26:11</td>\n",
       "      <td>2024-04-21</td>\n",
       "      <td>2024-04-21 10:06:00</td>\n",
       "      <td>2024-04-21 09:32:20</td>\n",
       "      <td>1</td>\n",
       "      <td>47</td>\n",
       "      <td>38400</td>\n",
       "      <td>54</td>\n",
       "      <td>2</td>\n",
       "      <td>245782</td>\n",
       "      <td>348304</td>\n",
       "      <td>Domingo</td>\n",
       "    </tr>\n",
       "    <tr>\n",
       "      <th>964</th>\n",
       "      <td>2024-04-21</td>\n",
       "      <td>2024-04-21 07:55:00</td>\n",
       "      <td>2024-04-21 07:53:28</td>\n",
       "      <td>2024-04-21</td>\n",
       "      <td>2024-04-21 10:36:00</td>\n",
       "      <td>2024-04-21 10:15:11</td>\n",
       "      <td>1</td>\n",
       "      <td>38</td>\n",
       "      <td>39000</td>\n",
       "      <td>38</td>\n",
       "      <td>2</td>\n",
       "      <td>245783</td>\n",
       "      <td>348305</td>\n",
       "      <td>Domingo</td>\n",
       "    </tr>\n",
       "    <tr>\n",
       "      <th>965</th>\n",
       "      <td>2024-04-21</td>\n",
       "      <td>2024-04-21 08:05:00</td>\n",
       "      <td>2024-04-21 08:05:35</td>\n",
       "      <td>2024-04-21</td>\n",
       "      <td>2024-04-21 11:04:00</td>\n",
       "      <td>2024-04-21 10:33:30</td>\n",
       "      <td>3</td>\n",
       "      <td>47</td>\n",
       "      <td>42500</td>\n",
       "      <td>75</td>\n",
       "      <td>2</td>\n",
       "      <td>245784</td>\n",
       "      <td>348306</td>\n",
       "      <td>Domingo</td>\n",
       "    </tr>\n",
       "    <tr>\n",
       "      <th>966</th>\n",
       "      <td>2024-04-21</td>\n",
       "      <td>2024-04-21 08:30:00</td>\n",
       "      <td>2024-04-21 08:33:14</td>\n",
       "      <td>2024-04-21</td>\n",
       "      <td>2024-04-21 11:11:00</td>\n",
       "      <td>2024-04-21 10:36:39</td>\n",
       "      <td>1</td>\n",
       "      <td>34</td>\n",
       "      <td>39500</td>\n",
       "      <td>4</td>\n",
       "      <td>2</td>\n",
       "      <td>245786</td>\n",
       "      <td>348307</td>\n",
       "      <td>Domingo</td>\n",
       "    </tr>\n",
       "  </tbody>\n",
       "</table>\n",
       "</div>"
      ],
      "text/plain": [
       "    FECHA_INICIAL   HORA_INICIAL_PLAN   HORA_INICIAL_REAL FECHA_FINAL  \\\n",
       "956    2024-04-21 2024-04-21 05:00:00 2024-04-21 05:02:14  2024-04-21   \n",
       "957    2024-04-21 2024-04-21 05:30:00 2024-04-21 05:28:13  2024-04-21   \n",
       "958    2024-04-21 2024-04-21 05:40:00 2024-04-21 05:37:41  2024-04-21   \n",
       "959    2024-04-21 2024-04-21 06:00:00 2024-04-21 06:01:32  2024-04-21   \n",
       "960    2024-04-21 2024-04-21 06:12:00 2024-04-21 06:12:06  2024-04-21   \n",
       "962    2024-04-21 2024-04-21 06:35:00 2024-04-21 06:34:14  2024-04-21   \n",
       "963    2024-04-21 2024-04-21 07:25:00 2024-04-21 07:26:11  2024-04-21   \n",
       "964    2024-04-21 2024-04-21 07:55:00 2024-04-21 07:53:28  2024-04-21   \n",
       "965    2024-04-21 2024-04-21 08:05:00 2024-04-21 08:05:35  2024-04-21   \n",
       "966    2024-04-21 2024-04-21 08:30:00 2024-04-21 08:33:14  2024-04-21   \n",
       "\n",
       "        HORA_FINAL_PLAN     HORA_FINAL_REAL  FK_RUTA  PASAJEROS  DISTANCIA  \\\n",
       "956 2024-04-21 07:59:00 2024-04-21 06:40:05        3         24      30300   \n",
       "957 2024-04-21 08:29:00 2024-04-21 07:39:15        3         34      40700   \n",
       "958 2024-04-21 08:21:00 2024-04-21 07:50:41        1         37      38500   \n",
       "959 2024-04-21 08:41:00 2024-04-21 08:10:51        1         36      38000   \n",
       "960 2024-04-21 09:11:00 2024-04-21 08:22:00        3         44      42700   \n",
       "962 2024-04-21 09:16:00 2024-04-21 08:51:34        1         35      35700   \n",
       "963 2024-04-21 10:06:00 2024-04-21 09:32:20        1         47      38400   \n",
       "964 2024-04-21 10:36:00 2024-04-21 10:15:11        1         38      39000   \n",
       "965 2024-04-21 11:04:00 2024-04-21 10:33:30        3         47      42500   \n",
       "966 2024-04-21 11:11:00 2024-04-21 10:36:39        1         34      39500   \n",
       "\n",
       "     FK_VEHICULO  ESTADO_DESPACHO  PK_INTERVALO_DESPACHO  \\\n",
       "956           16                2                 245776   \n",
       "957           38                2                 245777   \n",
       "958           75                2                 245778   \n",
       "959           84                2                 245779   \n",
       "960            4                2                 245780   \n",
       "962           72                2                 245781   \n",
       "963           54                2                 245782   \n",
       "964           38                2                 245783   \n",
       "965           75                2                 245784   \n",
       "966            4                2                 245786   \n",
       "\n",
       "     PK_INFORMACION_REGISTRADORA DIA_SEMANA  \n",
       "956                       348295    Domingo  \n",
       "957                       348296    Domingo  \n",
       "958                       348297    Domingo  \n",
       "959                       348298    Domingo  \n",
       "960                       348299    Domingo  \n",
       "962                       348301    Domingo  \n",
       "963                       348304    Domingo  \n",
       "964                       348305    Domingo  \n",
       "965                       348306    Domingo  \n",
       "966                       348307    Domingo  "
      ]
     },
     "execution_count": 205,
     "metadata": {},
     "output_type": "execute_result"
    }
   ],
   "source": [
    "df_filtrado.head(10)"
   ]
  },
  {
   "cell_type": "markdown",
   "metadata": {},
   "source": [
    "#### HORA_INICIAL_PLAN Y HORA_INICIAL_REAL"
   ]
  },
  {
   "cell_type": "markdown",
   "metadata": {},
   "source": [
    "# CÁLCULO DE KPIs"
   ]
  },
  {
   "cell_type": "markdown",
   "metadata": {},
   "source": [
    "###  % CUMPLIMIENTO EN LOS TIEMPOS DE DURACIÓN DE LOS VIAJES"
   ]
  },
  {
   "cell_type": "code",
   "execution_count": 262,
   "metadata": {},
   "outputs": [],
   "source": [
    "# Calcular la diferencia de tiempo en minutos\n",
    "\n",
    "df_filtrado[\"T_REAL_MIN\"] = (df_filtrado[\"HORA_FINAL_REAL\"] - df_filtrado[\"HORA_INICIAL_REAL\"]).dt.total_seconds() / 60\n",
    "df_filtrado[\"T_PLANEADO_MIN\"] = (df_filtrado[\"HORA_FINAL_PLAN\"] - df_filtrado[\"HORA_INICIAL_PLAN\"]).dt.total_seconds() / 60\n",
    "\n",
    "df_filtrado['CUMPLIMIENTO_DURACION'] = np.where(\n",
    "    abs(df_filtrado[\"T_REAL_MIN\"] - df_filtrado[\"T_PLANEADO_MIN\"]) <= 10,\n",
    "    'CUMPLIDO',\n",
    "    'NO_CUMPLIDO'\n",
    ")\n"
   ]
  },
  {
   "cell_type": "code",
   "execution_count": 263,
   "metadata": {},
   "outputs": [
    {
     "data": {
      "text/plain": [
       "NO_CUMPLIDO    32999\n",
       "CUMPLIDO       17545\n",
       "Name: CUMPLIMIENTO_DURACION, dtype: int64"
      ]
     },
     "execution_count": 263,
     "metadata": {},
     "output_type": "execute_result"
    }
   ],
   "source": [
    "df_filtrado['CUMPLIMIENTO_DURACION'].value_counts()"
   ]
  },
  {
   "cell_type": "code",
   "execution_count": 264,
   "metadata": {},
   "outputs": [],
   "source": [
    "df_filtrado[\"DIFERENCIA_TIEMPO\"] = df_filtrado[\"T_REAL_MIN\"] - df_filtrado[\"T_PLANEADO_MIN\"]"
   ]
  },
  {
   "cell_type": "code",
   "execution_count": 265,
   "metadata": {},
   "outputs": [
    {
     "data": {
      "image/png": "[encoded data removed]",
      "text/plain": [
       "<Figure size 576x432 with 1 Axes>"
      ]
     },
     "metadata": {},
     "output_type": "display_data"
    }
   ],
   "source": [
    "#Crear un diagrama de caja (boxplot) para la diferencia de tiempo\n",
    "plt.figure(figsize=(8, 6))\n",
    "sns.boxplot(x=df_filtrado['DIFERENCIA_TIEMPO'], color='lightblue')\n",
    "plt.title('Diagrama de Caja de la Diferencia de Tiempo')\n",
    "plt.xlabel('Diferencia de Tiempo (minutos)')\n",
    "plt.grid(axis='y', linestyle='--', alpha=0.7)\n",
    "plt.show()"
   ]
  },
  {
   "cell_type": "code",
   "execution_count": 266,
   "metadata": {},
   "outputs": [],
   "source": [
    "df_filtrado.to_csv(\"datos_filtrados.csv\")"
   ]
  },
  {
   "cell_type": "markdown",
   "metadata": {},
   "source": [
    "### KPI 2 : ASIGNACIÓN EQUITATIVA DE DESPACHOS DE VEHICULOS EN TIEMPOS DE ALTA DEMANDA"
   ]
  },
  {
   "cell_type": "code",
   "execution_count": 217,
   "metadata": {},
   "outputs": [],
   "source": [
    "df_filtrado['HORA_REAL'] = pd.to_datetime(df_filtrado['HORA_INICIAL_REAL'], errors='coerce')\n",
    "df_filtrado['HORA_DIA'] = df_filtrado['HORA_REAL'].dt.hour\n"
   ]
  },
  {
   "cell_type": "code",
   "execution_count": 218,
   "metadata": {},
   "outputs": [
    {
     "data": {
      "text/html": [
       "<div>\n",
       "<style scoped>\n",
       "    .dataframe tbody tr th:only-of-type {\n",
       "        vertical-align: middle;\n",
       "    }\n",
       "\n",
       "    .dataframe tbody tr th {\n",
       "        vertical-align: top;\n",
       "    }\n",
       "\n",
       "    .dataframe thead th {\n",
       "        text-align: right;\n",
       "    }\n",
       "</style>\n",
       "<table border=\"1\" class=\"dataframe\">\n",
       "  <thead>\n",
       "    <tr style=\"text-align: right;\">\n",
       "      <th></th>\n",
       "      <th>HORA_DIA</th>\n",
       "      <th>TOTAL_PASAJEROS</th>\n",
       "      <th>TOTAL_DESPACHOS</th>\n",
       "    </tr>\n",
       "  </thead>\n",
       "  <tbody>\n",
       "    <tr>\n",
       "      <th>2</th>\n",
       "      <td>6</td>\n",
       "      <td>229801</td>\n",
       "      <td>4522</td>\n",
       "    </tr>\n",
       "    <tr>\n",
       "      <th>1</th>\n",
       "      <td>5</td>\n",
       "      <td>228672</td>\n",
       "      <td>4816</td>\n",
       "    </tr>\n",
       "    <tr>\n",
       "      <th>11</th>\n",
       "      <td>15</td>\n",
       "      <td>198898</td>\n",
       "      <td>3671</td>\n",
       "    </tr>\n",
       "    <tr>\n",
       "      <th>4</th>\n",
       "      <td>8</td>\n",
       "      <td>194057</td>\n",
       "      <td>4135</td>\n",
       "    </tr>\n",
       "    <tr>\n",
       "      <th>3</th>\n",
       "      <td>7</td>\n",
       "      <td>190638</td>\n",
       "      <td>4004</td>\n",
       "    </tr>\n",
       "    <tr>\n",
       "      <th>9</th>\n",
       "      <td>13</td>\n",
       "      <td>179807</td>\n",
       "      <td>3834</td>\n",
       "    </tr>\n",
       "    <tr>\n",
       "      <th>10</th>\n",
       "      <td>14</td>\n",
       "      <td>178851</td>\n",
       "      <td>3535</td>\n",
       "    </tr>\n",
       "    <tr>\n",
       "      <th>8</th>\n",
       "      <td>12</td>\n",
       "      <td>175241</td>\n",
       "      <td>3832</td>\n",
       "    </tr>\n",
       "    <tr>\n",
       "      <th>5</th>\n",
       "      <td>9</td>\n",
       "      <td>173691</td>\n",
       "      <td>4213</td>\n",
       "    </tr>\n",
       "    <tr>\n",
       "      <th>6</th>\n",
       "      <td>10</td>\n",
       "      <td>156636</td>\n",
       "      <td>3864</td>\n",
       "    </tr>\n",
       "    <tr>\n",
       "      <th>12</th>\n",
       "      <td>16</td>\n",
       "      <td>152049</td>\n",
       "      <td>3134</td>\n",
       "    </tr>\n",
       "    <tr>\n",
       "      <th>7</th>\n",
       "      <td>11</td>\n",
       "      <td>145903</td>\n",
       "      <td>3494</td>\n",
       "    </tr>\n",
       "    <tr>\n",
       "      <th>0</th>\n",
       "      <td>4</td>\n",
       "      <td>83903</td>\n",
       "      <td>1915</td>\n",
       "    </tr>\n",
       "    <tr>\n",
       "      <th>13</th>\n",
       "      <td>17</td>\n",
       "      <td>55215</td>\n",
       "      <td>1476</td>\n",
       "    </tr>\n",
       "    <tr>\n",
       "      <th>14</th>\n",
       "      <td>18</td>\n",
       "      <td>2627</td>\n",
       "      <td>96</td>\n",
       "    </tr>\n",
       "    <tr>\n",
       "      <th>15</th>\n",
       "      <td>19</td>\n",
       "      <td>90</td>\n",
       "      <td>3</td>\n",
       "    </tr>\n",
       "  </tbody>\n",
       "</table>\n",
       "</div>"
      ],
      "text/plain": [
       "    HORA_DIA  TOTAL_PASAJEROS  TOTAL_DESPACHOS\n",
       "2          6           229801             4522\n",
       "1          5           228672             4816\n",
       "11        15           198898             3671\n",
       "4          8           194057             4135\n",
       "3          7           190638             4004\n",
       "9         13           179807             3834\n",
       "10        14           178851             3535\n",
       "8         12           175241             3832\n",
       "5          9           173691             4213\n",
       "6         10           156636             3864\n",
       "12        16           152049             3134\n",
       "7         11           145903             3494\n",
       "0          4            83903             1915\n",
       "13        17            55215             1476\n",
       "14        18             2627               96\n",
       "15        19               90                3"
      ]
     },
     "execution_count": 218,
     "metadata": {},
     "output_type": "execute_result"
    }
   ],
   "source": [
    "pasajeros_por_hora = df_filtrado.groupby('HORA_DIA').agg(\n",
    "    TOTAL_PASAJEROS=('PASAJEROS', 'sum'),\n",
    "    TOTAL_DESPACHOS=('PASAJEROS', 'size')  # Cuenta todas las filas del grupo\n",
    ").reset_index()\n",
    "pasajeros_ordenados= pasajeros_por_hora.sort_values('TOTAL_PASAJEROS', ascending=False)\n",
    "pasajeros_ordenados"
   ]
  },
  {
   "cell_type": "code",
   "execution_count": 220,
   "metadata": {},
   "outputs": [
    {
     "name": "stdout",
     "output_type": "stream",
     "text": [
      "Las horas pico identificadas son: [5, 6, 7, 8, 15]\n"
     ]
    }
   ],
   "source": [
    "num_horas_pico = max(1, int(len(pasajeros_por_hora) * 0.33))\n",
    "horas_pico_lista = pasajeros_ordenados.head(num_horas_pico)['HORA_DIA'].tolist()\n",
    "horas_pico_lista = sorted(horas_pico_lista)  # Ordenar las horas pico\n",
    "print(f\"Las horas pico identificadas son: {horas_pico_lista}\")"
   ]
  },
  {
   "cell_type": "code",
   "execution_count": 221,
   "metadata": {},
   "outputs": [],
   "source": [
    "df_pico = df_filtrado[df_filtrado['HORA_DIA'].isin(horas_pico_lista)]"
   ]
  },
  {
   "cell_type": "code",
   "execution_count": 223,
   "metadata": {},
   "outputs": [
    {
     "data": {
      "image/png": "[encoded data removed]",
      "text/plain": [
       "<Figure size 1008x504 with 1 Axes>"
      ]
     },
     "metadata": {},
     "output_type": "display_data"
    }
   ],
   "source": [
    "# Análisis de despachos por hora del día (todas las horas)\n",
    "despachos_por_hora = df_filtrado.groupby('HORA_DIA').size().reset_index(name='NUM_DESPACHOS')\n",
    "despachos_por_hora = despachos_por_hora.sort_values('HORA_DIA')\n",
    "\n",
    "despachos_dia_hora = df_filtrado.groupby(['DIA_SEMANA', 'HORA_DIA']).agg({\n",
    "    'FK_VEHICULO': 'count',  # Número de despachos\n",
    "    'PASAJEROS': 'sum'      # Total de pasajeros\n",
    "}).reset_index()\n",
    "\n",
    "despachos_dia_hora.columns = ['DIA_SEMANA', 'HORA_DIA', 'NUM_DESPACHOS', 'TOTAL_PASAJEROS']\n",
    "\n",
    "# Asegurar que los días estén en el orden correcto\n",
    "despachos_dia_hora['orden_dia'] = despachos_dia_hora['DIA_SEMANA'].map(\n",
    "    {dia: i for i, dia in enumerate(dias_es)}\n",
    ")\n",
    "despachos_dia_hora = despachos_dia_hora.sort_values(['orden_dia', 'HORA_DIA'])\n",
    "\n",
    "\n",
    "plt.figure(figsize=(14, 7))\n",
    "sns.lineplot(x='HORA_DIA', y='NUM_DESPACHOS', data=despachos_por_hora, marker='o', linewidth=2.5)\n",
    "\n",
    "# Horas pico destacadas\n",
    "for hora in horas_pico_lista:\n",
    "    plt.axvspan(hora-0.5, hora+0.5, alpha=0.2, color='red')\n",
    "\n",
    "plt.title('Cantidad de Despachos por Hora del Día', fontsize=16)\n",
    "plt.xlabel('Hora del Día', fontsize=14)\n",
    "plt.ylabel('Número de Despachos', fontsize=14)\n",
    "plt.xticks(range(min(despachos_por_hora['HORA_DIA']), max(despachos_por_hora['HORA_DIA'])+1))\n",
    "plt.grid(True, alpha=0.3)\n",
    "plt.legend(['Despachos', 'Horas Pico'], loc='upper right')\n",
    "plt.tight_layout()\n",
    "plt.savefig('linea_despachos_hora.png')\n",
    "plt.show()"
   ]
  },
  {
   "cell_type": "code",
   "execution_count": 224,
   "metadata": {},
   "outputs": [
    {
     "data": {
      "image/png": "[encoded data removed]",
      "text/plain": [
       "<Figure size 1008x504 with 1 Axes>"
      ]
     },
     "metadata": {},
     "output_type": "display_data"
    }
   ],
   "source": [
    "# 7. Gráfico de barras - Top 10 vehículos con más despachos en horas pico\n",
    "despachos_vehiculo = df_pico.groupby(['FK_VEHICULO']).size().reset_index(name='num_despachos')\n",
    "despachos_vehiculo = despachos_vehiculo.sort_values('num_despachos', ascending=False)\n",
    "\n",
    "plt.figure(figsize=(14, 7))\n",
    "top_vehiculos = despachos_vehiculo.sort_values(\"num_despachos\", ascending=False)\n",
    "sns.barplot(x='FK_VEHICULO', y='num_despachos', \n",
    "            data=top_vehiculos, \n",
    "            order=top_vehiculos['FK_VEHICULO'].tolist())\n",
    "plt.axhline(y=despachos_vehiculo['num_despachos'].mean(), color='red', linestyle='--',\n",
    "           label=f'Promedio: {despachos_vehiculo[\"num_despachos\"].mean():.1f}')\n",
    "plt.title('Top 10 Vehículos con Más Despachos en Horas Pico', fontsize=16)\n",
    "plt.xlabel('ID del Vehículo', fontsize=14)\n",
    "plt.ylabel('Número de Despachos', fontsize=14)\n",
    "plt.xticks(fontsize=12)\n",
    "plt.yticks(fontsize=12)\n",
    "plt.legend()\n",
    "plt.grid(axis='y', alpha=0.3)\n",
    "plt.tight_layout()\n",
    "# plt.savefig('top_vehiculos.png')\n",
    "plt.show()"
   ]
  },
  {
   "cell_type": "markdown",
   "metadata": {},
   "source": [
    "### KPI 3 : (%) CUMPLIMIENTO EN LAS DISTANCIAS DE DURACIÓN DE LOS VIAJES"
   ]
  },
  {
   "cell_type": "code",
   "execution_count": 225,
   "metadata": {},
   "outputs": [
    {
     "name": "stdout",
     "output_type": "stream",
     "text": [
      "<class 'pandas.core.frame.DataFrame'>\n",
      "Int64Index: 50544 entries, 956 to 55631\n",
      "Data columns (total 17 columns):\n",
      " #   Column                       Non-Null Count  Dtype         \n",
      "---  ------                       --------------  -----         \n",
      " 0   FECHA_INICIAL                50544 non-null  datetime64[ns]\n",
      " 1   HORA_INICIAL_PLAN            50544 non-null  datetime64[ns]\n",
      " 2   HORA_INICIAL_REAL            50544 non-null  datetime64[ns]\n",
      " 3   FECHA_FINAL                  50544 non-null  object        \n",
      " 4   HORA_FINAL_PLAN              50544 non-null  datetime64[ns]\n",
      " 5   HORA_FINAL_REAL              44644 non-null  datetime64[ns]\n",
      " 6   FK_RUTA                      50544 non-null  int64         \n",
      " 7   PASAJEROS                    50544 non-null  int64         \n",
      " 8   DISTANCIA                    50544 non-null  int64         \n",
      " 9   FK_VEHICULO                  50544 non-null  int64         \n",
      " 10  ESTADO_DESPACHO              50544 non-null  int64         \n",
      " 11  PK_INTERVALO_DESPACHO        50544 non-null  int64         \n",
      " 12  PK_INFORMACION_REGISTRADORA  50544 non-null  int64         \n",
      " 13  DIA_SEMANA                   50544 non-null  object        \n",
      " 14  DIFERENCIA_TIEMPO            44644 non-null  float64       \n",
      " 15  HORA_REAL                    50544 non-null  datetime64[ns]\n",
      " 16  HORA_DIA                     50544 non-null  int64         \n",
      "dtypes: datetime64[ns](6), float64(1), int64(8), object(2)\n",
      "memory usage: 6.9+ MB\n"
     ]
    }
   ],
   "source": [
    "df_filtrado.info()"
   ]
  },
  {
   "cell_type": "code",
   "execution_count": 200,
   "metadata": {},
   "outputs": [
    {
     "data": {
      "text/plain": [
       "(50544, 18)"
      ]
     },
     "execution_count": 200,
     "metadata": {},
     "output_type": "execute_result"
    }
   ],
   "source": [
    "df_filtrado.shape"
   ]
  },
  {
   "cell_type": "code",
   "execution_count": null,
   "metadata": {},
   "outputs": [
    {
     "data": {
      "text/plain": [
       "(26750, 18)"
      ]
     },
     "execution_count": 202,
     "metadata": {},
     "output_type": "execute_result"
    }
   ],
   "source": [
    "# Función para filtrar outliers en todo el DataFrame\n",
    "def filtrar_outliers_por_ruta(grupo):\n",
    "    mediana = grupo['DISTANCIA'].median()\n",
    "    mad = np.median(np.abs(grupo['DISTANCIA'] - mediana))\n",
    "    lim_sup = mediana + 3 * mad\n",
    "    lim_inf = max(mediana - 3 * mad, 0)  # Evitar negativos\n",
    "    return grupo[(grupo['DISTANCIA'] >= lim_inf) & (grupo['DISTANCIA'] <= lim_sup)]\n",
    "\n",
    "# Aplicar la función, asegurando que 'FK_RUTA' se mantenga\n",
    "df_filtrado = df_filtrado.groupby('FK_RUTA', group_keys=False).apply(filtrar_outliers_por_ruta)\n",
    "\n",
    "# Asegurar que 'FK_RUTA' sigue en el DataFrame después del filtrado\n",
    "#df_clean = df_clean.reset_index(drop=True)\n",
    "\n",
    "# Verificar el resultado"
   ]
  },
  {
   "cell_type": "code",
   "execution_count": 247,
   "metadata": {},
   "outputs": [],
   "source": [
    "def evaluar_cumplimiento_distancia(df, columna_distancia='DISTANCIA', columna_ruta='FK_RUTA'):\n",
    "    medianas_por_ruta = df.groupby(columna_ruta)[columna_distancia].median().to_dict()\n",
    "    \n",
    "    # Paso 2: Para cada viaje, calcular límites ±5% de la mediana de su ruta\n",
    "    df['limite_inferior'] = df[columna_ruta].map(medianas_por_ruta) * 0.95\n",
    "    df['limite_superior'] = df[columna_ruta].map(medianas_por_ruta) * 1.05\n",
    "    \n",
    "    # Paso 3: Clasificar cumplimiento\n",
    "    df['CUMPLIMIENTO'] = np.where(\n",
    "        df[columna_distancia].between(df['limite_inferior'], df['limite_superior']),\n",
    "        'SI_CUMPLE',\n",
    "        'NO_CUMPLE'\n",
    "    )\n",
    "    \n",
    "    # Opcional: Eliminar columnas temporales de límites\n",
    "    df.drop(['limite_inferior', 'limite_superior'], axis=1, inplace=True)\n",
    "    \n",
    "    return df"
   ]
  },
  {
   "cell_type": "code",
   "execution_count": 248,
   "metadata": {},
   "outputs": [],
   "source": [
    "df_prueba = evaluar_cumplimiento_distancia(df_filtrado, columna_distancia='DISTANCIA', columna_ruta='FK_RUTA')"
   ]
  },
  {
   "cell_type": "code",
   "execution_count": 249,
   "metadata": {},
   "outputs": [
    {
     "data": {
      "text/plain": [
       "SI_CUMPLE    31879\n",
       "NO_CUMPLE    18665\n",
       "Name: CUMPLIMIENTO, dtype: int64"
      ]
     },
     "execution_count": 249,
     "metadata": {},
     "output_type": "execute_result"
    }
   ],
   "source": [
    "df_prueba['CUMPLIMIENTO'].value_counts()"
   ]
  },
  {
   "cell_type": "markdown",
   "metadata": {},
   "source": [
    "### KPI 4: MEJORA DEL TIEMPO PROMEDIO - ENTRE DESPACHOS"
   ]
  },
  {
   "cell_type": "code",
   "execution_count": 256,
   "metadata": {},
   "outputs": [
    {
     "name": "stdout",
     "output_type": "stream",
     "text": [
      "      HORA_INICIAL_PLAN   HORA_INICIAL_REAL  DIFERENCIA_TIEMPO\n",
      "956 2024-04-21 05:00:00 2024-04-21 05:02:14         -78.916667\n",
      "957 2024-04-21 05:30:00 2024-04-21 05:28:13         -49.750000\n",
      "958 2024-04-21 05:40:00 2024-04-21 05:37:41         -30.316667\n",
      "959 2024-04-21 06:00:00 2024-04-21 06:01:32         -30.150000\n",
      "960 2024-04-21 06:12:00 2024-04-21 06:12:06         -49.000000\n"
     ]
    }
   ],
   "source": [
    "# Mostrar las primeras filas para verificar\n",
    "print(df_filtrado[['HORA_INICIAL_PLAN', 'HORA_INICIAL_REAL', 'DIFERENCIA_TIEMPO']].head())"
   ]
  },
  {
   "cell_type": "code",
   "execution_count": null,
   "metadata": {},
   "outputs": [
    {
     "data": {
      "text/html": [
       "<div>\n",
       "<style scoped>\n",
       "    .dataframe tbody tr th:only-of-type {\n",
       "        vertical-align: middle;\n",
       "    }\n",
       "\n",
       "    .dataframe tbody tr th {\n",
       "        vertical-align: top;\n",
       "    }\n",
       "\n",
       "    .dataframe thead th {\n",
       "        text-align: right;\n",
       "    }\n",
       "</style>\n",
       "<table border=\"1\" class=\"dataframe\">\n",
       "  <thead>\n",
       "    <tr style=\"text-align: right;\">\n",
       "      <th></th>\n",
       "      <th>DIA_SEMANA</th>\n",
       "      <th>FK_RUTA</th>\n",
       "      <th>CANTIDAD_DESPACHOS</th>\n",
       "    </tr>\n",
       "  </thead>\n",
       "  <tbody>\n",
       "    <tr>\n",
       "      <th>0</th>\n",
       "      <td>Domingo</td>\n",
       "      <td>1</td>\n",
       "      <td>1115</td>\n",
       "    </tr>\n",
       "    <tr>\n",
       "      <th>1</th>\n",
       "      <td>Domingo</td>\n",
       "      <td>3</td>\n",
       "      <td>1182</td>\n",
       "    </tr>\n",
       "    <tr>\n",
       "      <th>2</th>\n",
       "      <td>Jueves</td>\n",
       "      <td>1</td>\n",
       "      <td>4390</td>\n",
       "    </tr>\n",
       "    <tr>\n",
       "      <th>3</th>\n",
       "      <td>Jueves</td>\n",
       "      <td>3</td>\n",
       "      <td>4280</td>\n",
       "    </tr>\n",
       "    <tr>\n",
       "      <th>4</th>\n",
       "      <td>Lunes</td>\n",
       "      <td>1</td>\n",
       "      <td>3766</td>\n",
       "    </tr>\n",
       "    <tr>\n",
       "      <th>5</th>\n",
       "      <td>Lunes</td>\n",
       "      <td>3</td>\n",
       "      <td>3680</td>\n",
       "    </tr>\n",
       "    <tr>\n",
       "      <th>6</th>\n",
       "      <td>Martes</td>\n",
       "      <td>1</td>\n",
       "      <td>4453</td>\n",
       "    </tr>\n",
       "    <tr>\n",
       "      <th>7</th>\n",
       "      <td>Martes</td>\n",
       "      <td>3</td>\n",
       "      <td>4314</td>\n",
       "    </tr>\n",
       "    <tr>\n",
       "      <th>8</th>\n",
       "      <td>Miércoles</td>\n",
       "      <td>1</td>\n",
       "      <td>4143</td>\n",
       "    </tr>\n",
       "    <tr>\n",
       "      <th>9</th>\n",
       "      <td>Miércoles</td>\n",
       "      <td>3</td>\n",
       "      <td>4071</td>\n",
       "    </tr>\n",
       "    <tr>\n",
       "      <th>10</th>\n",
       "      <td>Sábado</td>\n",
       "      <td>1</td>\n",
       "      <td>3242</td>\n",
       "    </tr>\n",
       "    <tr>\n",
       "      <th>11</th>\n",
       "      <td>Sábado</td>\n",
       "      <td>3</td>\n",
       "      <td>3274</td>\n",
       "    </tr>\n",
       "    <tr>\n",
       "      <th>12</th>\n",
       "      <td>Viernes</td>\n",
       "      <td>1</td>\n",
       "      <td>4468</td>\n",
       "    </tr>\n",
       "    <tr>\n",
       "      <th>13</th>\n",
       "      <td>Viernes</td>\n",
       "      <td>3</td>\n",
       "      <td>4348</td>\n",
       "    </tr>\n",
       "  </tbody>\n",
       "</table>\n",
       "</div>"
      ],
      "text/plain": [
       "   DIA_SEMANA  FK_RUTA  CANTIDAD_DESPACHOS\n",
       "0     Domingo        1                1115\n",
       "1     Domingo        3                1182\n",
       "2      Jueves        1                4390\n",
       "3      Jueves        3                4280\n",
       "4       Lunes        1                3766\n",
       "5       Lunes        3                3680\n",
       "6      Martes        1                4453\n",
       "7      Martes        3                4314\n",
       "8   Miércoles        1                4143\n",
       "9   Miércoles        3                4071\n",
       "10     Sábado        1                3242\n",
       "11     Sábado        3                3274\n",
       "12    Viernes        1                4468\n",
       "13    Viernes        3                4348"
      ]
     },
     "execution_count": 187,
     "metadata": {},
     "output_type": "execute_result"
    }
   ],
   "source": [
    "despachos_por_dia_ruta = df.groupby(['DIA_SEMANA', 'FK_RUTA']).size().reset_index(name='CANTIDAD_DESPACHOS')"
   ]
  },
  {
   "cell_type": "code",
   "execution_count": 270,
   "metadata": {},
   "outputs": [
    {
     "name": "stdout",
     "output_type": "stream",
     "text": [
      "<class 'pandas.core.frame.DataFrame'>\n",
      "Int64Index: 50544 entries, 956 to 55631\n",
      "Data columns (total 22 columns):\n",
      " #   Column                       Non-Null Count  Dtype         \n",
      "---  ------                       --------------  -----         \n",
      " 0   FECHA_INICIAL                50544 non-null  datetime64[ns]\n",
      " 1   HORA_INICIAL_PLAN            50544 non-null  datetime64[ns]\n",
      " 2   HORA_INICIAL_REAL            50544 non-null  datetime64[ns]\n",
      " 3   FECHA_FINAL                  50544 non-null  object        \n",
      " 4   HORA_FINAL_PLAN              50544 non-null  datetime64[ns]\n",
      " 5   HORA_FINAL_REAL              44644 non-null  datetime64[ns]\n",
      " 6   FK_RUTA                      50544 non-null  int64         \n",
      " 7   PASAJEROS                    50544 non-null  int64         \n",
      " 8   DISTANCIA                    50544 non-null  int64         \n",
      " 9   FK_VEHICULO                  50544 non-null  int64         \n",
      " 10  ESTADO_DESPACHO              50544 non-null  int64         \n",
      " 11  PK_INTERVALO_DESPACHO        50544 non-null  int64         \n",
      " 12  PK_INFORMACION_REGISTRADORA  50544 non-null  int64         \n",
      " 13  DIA_SEMANA                   50544 non-null  object        \n",
      " 14  DIFERENCIA_TIEMPO            44644 non-null  float64       \n",
      " 15  HORA_REAL                    50544 non-null  datetime64[ns]\n",
      " 16  HORA_DIA                     50544 non-null  int64         \n",
      " 17  CUMPLIMIENTO                 50544 non-null  object        \n",
      " 18  T_REAL_MIN                   44644 non-null  float64       \n",
      " 19  T_PLANEADO_MIN               50544 non-null  float64       \n",
      " 20  CUMPLIMIENTO_DURACION        50544 non-null  object        \n",
      " 21  DIFERENCIA_DURACION          44644 non-null  float64       \n",
      "dtypes: datetime64[ns](6), float64(4), int64(8), object(4)\n",
      "memory usage: 8.9+ MB\n"
     ]
    }
   ],
   "source": [
    "df_filtrado.info()"
   ]
  },
  {
   "cell_type": "code",
   "execution_count": 273,
   "metadata": {},
   "outputs": [
    {
     "data": {
      "text/plain": [
       "956      NO_CUMPLE\n",
       "957      NO_CUMPLE\n",
       "958      SI_CUMPLE\n",
       "959      SI_CUMPLE\n",
       "960      NO_CUMPLE\n",
       "           ...    \n",
       "55626    NO_CUMPLE\n",
       "55627    NO_CUMPLE\n",
       "55628    NO_CUMPLE\n",
       "55630    NO_CUMPLE\n",
       "55631    NO_CUMPLE\n",
       "Name: CUMPLIMIENTO, Length: 50544, dtype: object"
      ]
     },
     "execution_count": 273,
     "metadata": {},
     "output_type": "execute_result"
    }
   ],
   "source": [
    "df_filtrado['CUMPLIMIENTO']"
   ]
  },
  {
   "cell_type": "code",
   "execution_count": 274,
   "metadata": {},
   "outputs": [],
   "source": [
    "def calcular_frecuencia_despacho(grupo):\n",
    "    try:\n",
    "        # Ordenar por fecha y hora para asegurar el cálculo correcto\n",
    "        grupo = grupo.sort_values(by=['FECHA_INICIAL', 'HORA_INICIAL_REAL'])\n",
    "        \n",
    "        # Calcular la diferencia en minutos entre registros consecutivos\n",
    "        grupo['T_DESPACHO'] = grupo['HORA_INICIAL_REAL'].diff().dt.total_seconds() / 60\n",
    "        \n",
    "        # Reemplazar el primer valor de cada día con 0 minutos\n",
    "        grupo['DIF_FECHA'] = grupo['FECHA_INICIAL'].diff().dt.days.fillna(0)\n",
    "        grupo.loc[grupo['DIF_FECHA'] != 0, 'T_DESPACHO'] = 0\n",
    "        \n",
    "        # Asegurar que no haya valores nulos en 'F_DESPACHO'\n",
    "        grupo['T_DESPACHO'] = grupo['T_DESPACHO'].fillna(0)\n",
    "        \n",
    "        # Eliminar la columna auxiliar 'DIF_FECHA'\n",
    "        grupo = grupo.drop(columns=['DIF_FECHA'])\n",
    "        \n",
    "    except Exception as e:\n",
    "        # Imprimir el error y los valores problemáticos\n",
    "        print(\"Error en el cálculo de frecuencia de despacho:\")\n",
    "        print(f\"Grupo problemático (FK_RUTA): {grupo['FK_RUTA'].iloc[0] if not grupo.empty else 'Desconocido'}\")\n",
    "        print(f\"Valores del grupo:\\n{grupo[['FECHA_INICIAL', 'HORA_INICIAL_REAL']]}\")\n",
    "        print(f\"Error: {e}\")\n",
    "        raise  # Volver a lanzar la excepción para depuración adicional\n",
    "    \n",
    "    return grupo\n",
    "\n",
    "df_filtrado = df_filtrado.groupby('FK_RUTA', group_keys=False).apply(calcular_frecuencia_despacho)"
   ]
  },
  {
   "cell_type": "code",
   "execution_count": 277,
   "metadata": {},
   "outputs": [],
   "source": [
    "df_filtrado.to_csv(\"datos_filtrados.csv\")"
   ]
  },
  {
   "cell_type": "code",
   "execution_count": 279,
   "metadata": {},
   "outputs": [
    {
     "name": "stdout",
     "output_type": "stream",
     "text": [
      "<class 'pandas.core.frame.DataFrame'>\n",
      "Int64Index: 50544 entries, 7 to 55951\n",
      "Data columns (total 23 columns):\n",
      " #   Column                       Non-Null Count  Dtype         \n",
      "---  ------                       --------------  -----         \n",
      " 0   FECHA_INICIAL                50544 non-null  datetime64[ns]\n",
      " 1   HORA_INICIAL_PLAN            50544 non-null  datetime64[ns]\n",
      " 2   HORA_INICIAL_REAL            50544 non-null  datetime64[ns]\n",
      " 3   FECHA_FINAL                  50544 non-null  object        \n",
      " 4   HORA_FINAL_PLAN              50544 non-null  datetime64[ns]\n",
      " 5   HORA_FINAL_REAL              44644 non-null  datetime64[ns]\n",
      " 6   FK_RUTA                      50544 non-null  int64         \n",
      " 7   PASAJEROS                    50544 non-null  int64         \n",
      " 8   DISTANCIA                    50544 non-null  int64         \n",
      " 9   FK_VEHICULO                  50544 non-null  int64         \n",
      " 10  ESTADO_DESPACHO              50544 non-null  int64         \n",
      " 11  PK_INTERVALO_DESPACHO        50544 non-null  int64         \n",
      " 12  PK_INFORMACION_REGISTRADORA  50544 non-null  int64         \n",
      " 13  DIA_SEMANA                   50544 non-null  object        \n",
      " 14  DIFERENCIA_TIEMPO            44644 non-null  float64       \n",
      " 15  HORA_REAL                    50544 non-null  datetime64[ns]\n",
      " 16  HORA_DIA                     50544 non-null  int64         \n",
      " 17  CUMPLIMIENTO                 50544 non-null  object        \n",
      " 18  T_REAL_MIN                   44644 non-null  float64       \n",
      " 19  T_PLANEADO_MIN               50544 non-null  float64       \n",
      " 20  CUMPLIMIENTO_DURACION        50544 non-null  object        \n",
      " 21  DIFERENCIA_DURACION          44644 non-null  float64       \n",
      " 22  T_DESPACHO                   50544 non-null  float64       \n",
      "dtypes: datetime64[ns](6), float64(5), int64(8), object(4)\n",
      "memory usage: 9.3+ MB\n"
     ]
    }
   ],
   "source": [
    "df_filtrado.info()"
   ]
  },
  {
   "cell_type": "markdown",
   "metadata": {},
   "source": [
    "# CARGA A BASE DE DATOS :"
   ]
  },
  {
   "cell_type": "code",
   "execution_count": null,
   "metadata": {},
   "outputs": [],
   "source": [
    "import os\n",
    "import mysql.connector\n",
    "from mysql.connector import Error\n",
    "\n",
    "def conectar_bd(database):\n",
    "    \"\"\"\n",
    "    Conecta a la base de datos usando mysql-connector-python.\n",
    "    Ajusta host, usuario y contraseña según tus variables de entorno o valores por defecto.\n",
    "    \"\"\"\n",
    "    try:\n",
    "        conexion = mysql.connector.connect(\n",
    "            host=os.getenv(\"DB_HOST\", \"147.93.47.161\"),\n",
    "            user=os.getenv(\"DB_USER\", \"masterbus\"),\n",
    "            password=os.getenv(\"DB_PASSWORD\", \"9@#$%&yhif\"),\n",
    "            database=database\n",
    "        )\n",
    "        if conexion.is_connected():\n",
    "            print(f\"✅ Conexión a la base de datos {database} establecida.\")\n",
    "            return conexion\n",
    "    except Error as e:\n",
    "        print(f\"❌ Error al conectar a MySQL ({database}): {e}\")\n",
    "        return None\n",
    "\n",
    "def crear_tabla_datos_filtrados(database):\n",
    "    \"\"\"\n",
    "    Verifica si la tabla datos_filtrados existe en bd_montebello_rdw.\n",
    "    Si no existe, la crea con los campos requeridos.\n",
    "    \"\"\"\n",
    "    \n",
    "    conexion = conectar_bd(database)\n",
    "    if not conexion:\n",
    "        return\n",
    "    \n",
    "    try:\n",
    "        cursor = conexion.cursor()\n",
    "        \n",
    "        # 1. Verificamos si la tabla existe\n",
    "        cursor.execute(\"SHOW TABLES LIKE 'datos_filtrados'\")\n",
    "        resultado = cursor.fetchone()\n",
    "        \n",
    "        if resultado:\n",
    "            print(\"ℹ️ La tabla 'datos_filtrados' ya existe. No se creó nuevamente.\")\n",
    "        else:\n",
    "            # 2. Definición de la tabla (ajusta tipos de columna según tu necesidad)\n",
    "            query_crear_tabla = \"\"\"\n",
    "            CREATE TABLE datos_filtrados (\n",
    "                FECHA_INICIAL DATE,\n",
    "                HORA_INICIAL_PLAN TIME,\n",
    "                HORA_INICIAL_REAL TIME NULL,\n",
    "                FECHA_FINAL DATE,\n",
    "                HORA_FINAL_PLAN TIME,\n",
    "                HORA_FINAL_REAL TIME,\n",
    "                FK_RUTA INT,\n",
    "                PASAJEROS INT,\n",
    "                DISTANCIA DECIMAL(10, 2),\n",
    "                FK_VEHICULO INT,\n",
    "                ESTADO_DESPACHO TINYINT(1),\n",
    "                PK_INTERVALO_DESPACHO INT,\n",
    "                PK_INFORMACION_REGISTRADORA INT,\n",
    "                DIA_SEMANA VARCHAR(20),\n",
    "                HORA_REAL TIME,\n",
    "                HORA_DIA TIME,\n",
    "                CUMPLIMIENTO VARCHAR(20),\n",
    "                T_REAL_MIN FLOAT,\n",
    "                T_PLANEADO_MIN FLOAT,\n",
    "                CUMPLIMIENTO_DURACION VARCHAR(20) NULL,\n",
    "                DIFERENCIA_DURACION FLOAT NULL,\n",
    "                T_DESPACHO FLOAT NULL\n",
    "            );\n",
    "            \"\"\"\n",
    "            cursor.execute(query_crear_tabla)\n",
    "            conexion.commit()\n",
    "            print(\"✅ Tabla 'datos_filtrados' creada exitosamente.\")\n",
    "    \n",
    "    except Error as e:\n",
    "        print(f\"❌ Error al crear/verificar la tabla: {e}\")\n",
    "    finally:\n",
    "        cursor.close()\n",
    "        conexion.close()\n",
    "        print(\"🔒 Conexión cerrada.\")\n",
    "\n",
    "if __name__ == \"__main__\":\n",
    "    # Llamamos a la función indicando el nombre exacto de la base de datos\n",
    "    crear_tabla_datos_filtrados(\"bd_montebello_rdw\")"
   ]
  },
  {
   "cell_type": "code",
   "execution_count": null,
   "metadata": {},
   "outputs": [],
   "source": [
    "import pandas as pd\n",
    "import numpy as np\n",
    "# -------------------------------------------------------------------\n",
    "# Función para conectar a la base de datos\n",
    "# -------------------------------------------------------------------\n",
    "def conectar_bd(database):\n",
    "    \"\"\"\n",
    "    Conecta a la base de datos 'database' usando mysql-connector-python.\n",
    "    Ajusta host, usuario y contraseña según tus variables de entorno o valores por defecto.\n",
    "    \"\"\"\n",
    "    try:\n",
    "        conexion = mysql.connector.connect(\n",
    "            host=os.getenv(\"DB_HOST\", \"147.93.47.161\"),\n",
    "            user=os.getenv(\"DB_USER\", \"masterbus\"),\n",
    "            password=os.getenv(\"DB_PASSWORD\", \"9@#$%&yhif\"),\n",
    "            database=database\n",
    "        )\n",
    "        if conexion.is_connected():\n",
    "            print(f\"✅ Conexión a la base de datos {database} establecida.\")\n",
    "            return conexion\n",
    "    except Error as e:\n",
    "        print(f\"❌ Error al conectar a MySQL ({database}): {e}\")\n",
    "        return None\n",
    "\n",
    "# -------------------------------------------------------------------\n",
    "# Función para cargar datos desde un DataFrame de pandas\n",
    "# -------------------------------------------------------------------\n",
    "def carga_df(database, df):\n",
    "    \"\"\"\n",
    "    Toma un DataFrame de pandas y lo inserta en la tabla 'datos_filtrados' de la base de datos 'database'.\n",
    "    \n",
    "    :param database: Nombre de la base de datos (por ejemplo 'bd_montebello_rdw').\n",
    "    :param df: DataFrame con las columnas correspondientes a la tabla datos_filtrados.\n",
    "    \"\"\"\n",
    "    conexion = conectar_bd(database)\n",
    "    if not conexion:\n",
    "        return\n",
    "    \n",
    "    try:\n",
    "        cursor = conexion.cursor()\n",
    "\n",
    "        insert_query = \"\"\"\n",
    "            INSERT INTO datos_filtrados (\n",
    "                FECHA_INICIAL,\n",
    "                HORA_INICIAL_PLAN,\n",
    "                HORA_INICIAL_REAL,\n",
    "                FECHA_FINAL,\n",
    "                HORA_FINAL_PLAN,\n",
    "                HORA_FINAL_REAL,\n",
    "                FK_RUTA,\n",
    "                PASAJEROS,\n",
    "                DISTANCIA,\n",
    "                FK_VEHICULO,\n",
    "                ESTADO_DESPACHO,\n",
    "                PK_INTERVALO_DESPACHO,\n",
    "                PK_INFORMACION_REGISTRADORA,\n",
    "                DIA_SEMANA,\n",
    "                HORA_REAL,\n",
    "                HORA_DIA,\n",
    "                CUMPLIMIENTO,\n",
    "                T_REAL_MIN,\n",
    "                T_PLANEADO_MIN,\n",
    "                CUMPLIMIENTO_DURACION,\n",
    "                DIFERENCIA_DURACION,\n",
    "                T_DESPACHO\n",
    "            ) VALUES (%s, %s, %s, %s, %s, %s, %s, %s, %s, %s, %s, %s, %s, %s, %s, %s, %s, %s, %s, %s, %s, %s)\n",
    "        \"\"\"\n",
    "        \n",
    "        # Construimos una lista de tuplas con los valores a insertar desde el df\n",
    "        registros = []\n",
    "        for _, row in df.iterrows():\n",
    "            tupla = (\n",
    "                row[\"FECHA_INICIAL\"], \n",
    "                row[\"HORA_INICIAL_PLAN\"],\n",
    "                row[\"HORA_INICIAL_REAL\"],\n",
    "                row[\"FECHA_FINAL\"],\n",
    "                row[\"HORA_FINAL_PLAN\"],\n",
    "                row[\"HORA_FINAL_REAL\"],\n",
    "                row[\"FK_RUTA\"],\n",
    "                row[\"PASAJEROS\"],\n",
    "                row[\"DISTANCIA\"],\n",
    "                row[\"FK_VEHICULO\"],\n",
    "                row[\"ESTADO_DESPACHO\"],\n",
    "                row[\"PK_INTERVALO_DESPACHO\"],\n",
    "                row[\"PK_INFORMACION_REGISTRADORA\"],\n",
    "                row[\"DIA_SEMANA\"],\n",
    "                row[\"HORA_REAL\"],\n",
    "                row[\"HORA_DIA\"],\n",
    "                row[\"CUMPLIMIENTO\"],\n",
    "                row[\"T_REAL_MIN\"],\n",
    "                row[\"T_PLANEADO_MIN\"],\n",
    "                row[\"CUMPLIMIENTO_DURACION\"],\n",
    "                row[\"DIFERENCIA_DURACION\"],\n",
    "                row[\"T_DESPACHO\"]\n",
    "            )\n",
    "            registros.append(tupla)\n",
    "        \n",
    "        cursor.executemany(insert_query, registros)\n",
    "        conexion.commit()\n",
    "        \n",
    "        print(f\"✅ Se han insertado {cursor.rowcount} registros en la tabla 'datos_filtrados'.\")\n",
    "    \n",
    "    except Error as e:\n",
    "        print(f\"❌ Error al insertar registros desde DataFrame: {e}\")\n",
    "    finally:\n",
    "        cursor.close()\n",
    "        conexion.close()\n",
    "        print(\"🔒 Conexión cerrada.\")\n",
    "\n",
    "# -------------------------------------------------------------------\n",
    "# Funcion principal para ejecutar las cargas\n",
    "# -------------------------------------------------------------------\n",
    "if __name__ == \"__main__\":\n",
    "    # 1. Carga desde CSV\n",
    "    # 1. Lee el CSV con pandas\n",
    "    try:\n",
    "        csv_path = \"datos_filtrados.csv\"\n",
    "        df = df_filtrado\n",
    "        # 2. Opcional: mostrar info\n",
    "        df.info()\n",
    "        print(f\"ℹ️ Archivo CSV '{csv_path}' cargado con {len(df)} registros (todas las columnas).\")\n",
    "        \n",
    "        # 3. Elimina la primera columna si no la necesitas (Unnamed: 0)\n",
    "        #    Si tu DataFrame siempre trae 19 columnas y la primera es Unnamed: 0, haz lo siguiente:\n",
    "        df.drop(columns=[\"Unnamed: 0\"], inplace=True)\n",
    "        # O, si prefieres usar iloc:\n",
    "        # df = df.iloc[:, 1:]\n",
    "        \n",
    "        # 4. Reemplazar NaN por None en todo el DataFrame\n",
    "        df = df.replace({np.nan: None})\n",
    "        \n",
    "        carga_df(\"bd_montebello_rdw\", df)\n",
    "    except FileNotFoundError:\n",
    "        print(f\"❌ No se encontró el archivo CSV: {csv_path}\")\n",
    "        \n",
    "    except Exception as e:\n",
    "        print(f\"❌ Error al leer el CSV: {e}\")\n"
   ]
  }
 ],
 "metadata": {
  "kernelspec": {
   "display_name": "base",
   "language": "python",
   "name": "python3"
  },
  "language_info": {
   "codemirror_mode": {
    "name": "ipython",
    "version": 3
   },
   "file_extension": ".py",
   "mimetype": "text/x-python",
   "name": "python",
   "nbconvert_exporter": "python",
   "pygments_lexer": "ipython3",
   "version": "3.9.7"
  }
 },
 "nbformat": 4,
 "nbformat_minor": 2
}
