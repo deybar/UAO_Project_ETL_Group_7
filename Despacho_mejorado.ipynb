{
 "cells": [
  {
   "cell_type": "markdown",
   "metadata": {},
   "source": [
    "# Tiempo promedio mejorado entre despachos\n"
   ]
  },
  {
   "cell_type": "code",
   "execution_count": 48,
   "metadata": {},
   "outputs": [],
   "source": [
    "import pandas as pd  # Para manipulación y análisis de datos\n",
    "import numpy as np  # Para cálculos numéricos y manejo de arrays\n",
    "import matplotlib.pyplot as plt  # Para visualización de datos"
   ]
  },
  {
   "cell_type": "markdown",
   "metadata": {},
   "source": [
    "## Se realiza la carga del archivo con los datos filtrados"
   ]
  },
  {
   "cell_type": "code",
   "execution_count": 69,
   "metadata": {},
   "outputs": [
    {
     "data": {
      "text/html": [
       "<div>\n",
       "<style scoped>\n",
       "    .dataframe tbody tr th:only-of-type {\n",
       "        vertical-align: middle;\n",
       "    }\n",
       "\n",
       "    .dataframe tbody tr th {\n",
       "        vertical-align: top;\n",
       "    }\n",
       "\n",
       "    .dataframe thead th {\n",
       "        text-align: right;\n",
       "    }\n",
       "</style>\n",
       "<table border=\"1\" class=\"dataframe\">\n",
       "  <thead>\n",
       "    <tr style=\"text-align: right;\">\n",
       "      <th></th>\n",
       "      <th>FECHA_INICIAL</th>\n",
       "      <th>HORA_INICIAL_PLAN</th>\n",
       "      <th>HORA_INICIAL_REAL</th>\n",
       "      <th>HORA_INICIAL_AUX</th>\n",
       "      <th>FECHA_FINAL</th>\n",
       "      <th>HORA_FINAL_PLAN</th>\n",
       "      <th>HORA_FINAL_REAL</th>\n",
       "      <th>HORA_FINAL_AUX</th>\n",
       "      <th>FK_RUTA</th>\n",
       "      <th>PASAJEROS</th>\n",
       "      <th>DISTANCIA</th>\n",
       "      <th>FK_VEHICULO</th>\n",
       "      <th>FK_CONDUCTOR</th>\n",
       "      <th>ESTADO_DESPACHO</th>\n",
       "      <th>PK_INTERVALO_DESPACHO</th>\n",
       "      <th>PK_INFORMACION_REGISTRADORA</th>\n",
       "      <th>DIA_SEMANA</th>\n",
       "      <th>DIFERENCIA_TIEMPO</th>\n",
       "    </tr>\n",
       "  </thead>\n",
       "  <tbody>\n",
       "    <tr>\n",
       "      <th>0</th>\n",
       "      <td>2024-04-22</td>\n",
       "      <td>2024-04-22 04:50:00</td>\n",
       "      <td>2024-04-22 04:45:37</td>\n",
       "      <td>4:56:42</td>\n",
       "      <td>2024-04-22</td>\n",
       "      <td>2024-04-22 07:01:00</td>\n",
       "      <td>2024-04-22 06:30:07</td>\n",
       "      <td>6:30:07</td>\n",
       "      <td>6</td>\n",
       "      <td>30</td>\n",
       "      <td>31500</td>\n",
       "      <td>66</td>\n",
       "      <td>304</td>\n",
       "      <td>2</td>\n",
       "      <td>245820</td>\n",
       "      <td>348367</td>\n",
       "      <td>Monday</td>\n",
       "      <td>-4.383333</td>\n",
       "    </tr>\n",
       "    <tr>\n",
       "      <th>1</th>\n",
       "      <td>2024-04-22</td>\n",
       "      <td>2024-04-22 04:39:00</td>\n",
       "      <td>2024-04-22 04:36:44</td>\n",
       "      <td>4:36:44</td>\n",
       "      <td>2024-04-22</td>\n",
       "      <td>2024-04-22 07:20:00</td>\n",
       "      <td>2024-04-22 06:51:12</td>\n",
       "      <td>6:51:12</td>\n",
       "      <td>1</td>\n",
       "      <td>51</td>\n",
       "      <td>39200</td>\n",
       "      <td>45</td>\n",
       "      <td>29</td>\n",
       "      <td>2</td>\n",
       "      <td>245811</td>\n",
       "      <td>348370</td>\n",
       "      <td>Monday</td>\n",
       "      <td>-2.266667</td>\n",
       "    </tr>\n",
       "    <tr>\n",
       "      <th>2</th>\n",
       "      <td>2024-04-22</td>\n",
       "      <td>2024-04-22 05:00:00</td>\n",
       "      <td>2024-04-22 05:00:50</td>\n",
       "      <td>5:00:50</td>\n",
       "      <td>2024-04-22</td>\n",
       "      <td>2024-04-22 07:00:00</td>\n",
       "      <td>2024-04-22 06:52:32</td>\n",
       "      <td>6:52:32</td>\n",
       "      <td>5</td>\n",
       "      <td>44</td>\n",
       "      <td>31900</td>\n",
       "      <td>47</td>\n",
       "      <td>307</td>\n",
       "      <td>2</td>\n",
       "      <td>245821</td>\n",
       "      <td>348371</td>\n",
       "      <td>Monday</td>\n",
       "      <td>0.833333</td>\n",
       "    </tr>\n",
       "    <tr>\n",
       "      <th>3</th>\n",
       "      <td>2024-04-22</td>\n",
       "      <td>2024-04-22 04:44:00</td>\n",
       "      <td>2024-04-22 04:43:30</td>\n",
       "      <td>4:43:30</td>\n",
       "      <td>2024-04-22</td>\n",
       "      <td>2024-04-22 07:25:00</td>\n",
       "      <td>2024-04-22 07:01:56</td>\n",
       "      <td>7:01:56</td>\n",
       "      <td>1</td>\n",
       "      <td>57</td>\n",
       "      <td>39000</td>\n",
       "      <td>71</td>\n",
       "      <td>10</td>\n",
       "      <td>2</td>\n",
       "      <td>245813</td>\n",
       "      <td>348373</td>\n",
       "      <td>Monday</td>\n",
       "      <td>-0.500000</td>\n",
       "    </tr>\n",
       "    <tr>\n",
       "      <th>4</th>\n",
       "      <td>2024-04-22</td>\n",
       "      <td>2024-04-22 05:15:00</td>\n",
       "      <td>2024-04-22 05:15:16</td>\n",
       "      <td>5:15:16</td>\n",
       "      <td>2024-04-22</td>\n",
       "      <td>2024-04-22 07:15:00</td>\n",
       "      <td>2024-04-22 07:14:18</td>\n",
       "      <td>7:14:18</td>\n",
       "      <td>5</td>\n",
       "      <td>55</td>\n",
       "      <td>31400</td>\n",
       "      <td>33</td>\n",
       "      <td>329</td>\n",
       "      <td>3</td>\n",
       "      <td>245826</td>\n",
       "      <td>348375</td>\n",
       "      <td>Monday</td>\n",
       "      <td>0.266667</td>\n",
       "    </tr>\n",
       "  </tbody>\n",
       "</table>\n",
       "</div>"
      ],
      "text/plain": [
       "  FECHA_INICIAL    HORA_INICIAL_PLAN    HORA_INICIAL_REAL HORA_INICIAL_AUX  \\\n",
       "0    2024-04-22  2024-04-22 04:50:00  2024-04-22 04:45:37          4:56:42   \n",
       "1    2024-04-22  2024-04-22 04:39:00  2024-04-22 04:36:44          4:36:44   \n",
       "2    2024-04-22  2024-04-22 05:00:00  2024-04-22 05:00:50          5:00:50   \n",
       "3    2024-04-22  2024-04-22 04:44:00  2024-04-22 04:43:30          4:43:30   \n",
       "4    2024-04-22  2024-04-22 05:15:00  2024-04-22 05:15:16          5:15:16   \n",
       "\n",
       "  FECHA_FINAL      HORA_FINAL_PLAN      HORA_FINAL_REAL HORA_FINAL_AUX  \\\n",
       "0  2024-04-22  2024-04-22 07:01:00  2024-04-22 06:30:07        6:30:07   \n",
       "1  2024-04-22  2024-04-22 07:20:00  2024-04-22 06:51:12        6:51:12   \n",
       "2  2024-04-22  2024-04-22 07:00:00  2024-04-22 06:52:32        6:52:32   \n",
       "3  2024-04-22  2024-04-22 07:25:00  2024-04-22 07:01:56        7:01:56   \n",
       "4  2024-04-22  2024-04-22 07:15:00  2024-04-22 07:14:18        7:14:18   \n",
       "\n",
       "   FK_RUTA  PASAJEROS  DISTANCIA  FK_VEHICULO  FK_CONDUCTOR  ESTADO_DESPACHO  \\\n",
       "0        6         30      31500           66           304                2   \n",
       "1        1         51      39200           45            29                2   \n",
       "2        5         44      31900           47           307                2   \n",
       "3        1         57      39000           71            10                2   \n",
       "4        5         55      31400           33           329                3   \n",
       "\n",
       "   PK_INTERVALO_DESPACHO  PK_INFORMACION_REGISTRADORA DIA_SEMANA  \\\n",
       "0                 245820                       348367     Monday   \n",
       "1                 245811                       348370     Monday   \n",
       "2                 245821                       348371     Monday   \n",
       "3                 245813                       348373     Monday   \n",
       "4                 245826                       348375     Monday   \n",
       "\n",
       "   DIFERENCIA_TIEMPO  \n",
       "0          -4.383333  \n",
       "1          -2.266667  \n",
       "2           0.833333  \n",
       "3          -0.500000  \n",
       "4           0.266667  "
      ]
     },
     "execution_count": 69,
     "metadata": {},
     "output_type": "execute_result"
    }
   ],
   "source": [
    "# Cargar el conjunto de datos desde un archivo CSV\n",
    "# Asegúrate de reemplazar 'ruta_al_archivo.csv' con la ruta real de tu archivo\n",
    "ruta_archivo = 'datos_filtrados.csv'\n",
    "df = pd.read_csv(ruta_archivo)\n",
    "\n",
    "# Mostrar las primeras filas del DataFrame para verificar la carga\n",
    "df.head()"
   ]
  },
  {
   "cell_type": "code",
   "execution_count": 50,
   "metadata": {},
   "outputs": [
    {
     "name": "stdout",
     "output_type": "stream",
     "text": [
      "<class 'pandas.core.frame.DataFrame'>\n",
      "RangeIndex: 53975 entries, 0 to 53974\n",
      "Data columns (total 18 columns):\n",
      " #   Column                       Non-Null Count  Dtype  \n",
      "---  ------                       --------------  -----  \n",
      " 0   FECHA_INICIAL                53975 non-null  object \n",
      " 1   HORA_INICIAL_PLAN            53975 non-null  object \n",
      " 2   HORA_INICIAL_REAL            53975 non-null  object \n",
      " 3   HORA_INICIAL_AUX             53975 non-null  object \n",
      " 4   FECHA_FINAL                  53975 non-null  object \n",
      " 5   HORA_FINAL_PLAN              53975 non-null  object \n",
      " 6   HORA_FINAL_REAL              48031 non-null  object \n",
      " 7   HORA_FINAL_AUX               53975 non-null  object \n",
      " 8   FK_RUTA                      53975 non-null  int64  \n",
      " 9   PASAJEROS                    53975 non-null  int64  \n",
      " 10  DISTANCIA                    53975 non-null  int64  \n",
      " 11  FK_VEHICULO                  53975 non-null  int64  \n",
      " 12  FK_CONDUCTOR                 53975 non-null  int64  \n",
      " 13  ESTADO_DESPACHO              53975 non-null  int64  \n",
      " 14  PK_INTERVALO_DESPACHO        53975 non-null  int64  \n",
      " 15  PK_INFORMACION_REGISTRADORA  53975 non-null  int64  \n",
      " 16  DIA_SEMANA                   53975 non-null  object \n",
      " 17  DIFERENCIA_TIEMPO            53975 non-null  float64\n",
      "dtypes: float64(1), int64(8), object(9)\n",
      "memory usage: 7.4+ MB\n"
     ]
    }
   ],
   "source": [
    "df.info()"
   ]
  },
  {
   "cell_type": "code",
   "execution_count": 51,
   "metadata": {},
   "outputs": [
    {
     "name": "stdout",
     "output_type": "stream",
     "text": [
      "Empty DataFrame\n",
      "Columns: [FECHA_INICIAL, HORA_INICIAL_PLAN, HORA_INICIAL_REAL, HORA_INICIAL_AUX, FECHA_FINAL, HORA_FINAL_PLAN, HORA_FINAL_REAL, HORA_FINAL_AUX, FK_RUTA, PASAJEROS, DISTANCIA, FK_VEHICULO, FK_CONDUCTOR, ESTADO_DESPACHO, PK_INTERVALO_DESPACHO, PK_INFORMACION_REGISTRADORA, DIA_SEMANA, DIFERENCIA_TIEMPO]\n",
      "Index: []\n",
      "Total de valores nulos en 'HORA_INICIAL_REAL': 0\n"
     ]
    }
   ],
   "source": [
    "# Filtrar los registros donde 'HORA_INICIAL_REAL' sea nulo o vacío\n",
    "valores_nulos = df[df['HORA_INICIAL_REAL'].isnull()]\n",
    "\n",
    "# Mostrar los registros con valores nulos en 'HORA_INICIAL_REAL'\n",
    "print(valores_nulos)\n",
    "\n",
    "# Mostrar el número total de valores nulos en 'HORA_INICIAL_REAL'\n",
    "print(f\"Total de valores nulos en 'HORA_INICIAL_REAL': {valores_nulos.shape[0]}\")"
   ]
  },
  {
   "cell_type": "markdown",
   "metadata": {},
   "source": [
    "## Por regla del negocio los vehiculos cque han sido planificados para despacho a muy tempranas horas de la mañana no salen del punto de origen, esto ocaciona que en la base de datos existan registros nulos o vacios en el campo HORA_INICIAL_REAL. Pero efectivamente los vehiculos estan prestando el servicio.\n",
    "Por lo tanto aquellos datos nulos o vacios en este campo se reemplazan por los registros en el campo HORA_INICIAL_PLAN\n",
    "A continuación se realiza el procedimiento."
   ]
  },
  {
   "cell_type": "code",
   "execution_count": 52,
   "metadata": {},
   "outputs": [
    {
     "name": "stdout",
     "output_type": "stream",
     "text": [
      "    HORA_INICIAL_PLAN     HORA_FINAL_PLAN   HORA_INICIAL_REAL\n",
      "0 2024-04-22 04:50:00 2024-04-22 07:01:00 2024-04-22 04:45:37\n",
      "1 2024-04-22 04:39:00 2024-04-22 07:20:00 2024-04-22 04:36:44\n",
      "2 2024-04-22 05:00:00 2024-04-22 07:00:00 2024-04-22 05:00:50\n",
      "3 2024-04-22 04:44:00 2024-04-22 07:25:00 2024-04-22 04:43:30\n",
      "4 2024-04-22 05:15:00 2024-04-22 07:15:00 2024-04-22 05:15:16\n"
     ]
    }
   ],
   "source": [
    "# Verificar y convertir las columnas de tiempo solo si no están en formato datetime\n",
    "if not pd.api.types.is_datetime64_any_dtype(df['HORA_FINAL_PLAN']):\n",
    "    df['HORA_FINAL_PLAN'] = pd.to_datetime(df['HORA_FINAL_PLAN'], errors='coerce')\n",
    "\n",
    "\n",
    "if not pd.api.types.is_datetime64_any_dtype(df['HORA_FINAL_REAL']):\n",
    "    df['HORA_FINAL_REAL'] = pd.to_datetime(df['HORA_FINAL_REAL'], errors='coerce')\n",
    "\n",
    "if not pd.api.types.is_datetime64_any_dtype(df['HORA_INICIAL_PLAN']):\n",
    "    df['HORA_INICIAL_PLAN'] = pd.to_datetime(df['HORA_INICIAL_PLAN'], errors='coerce')\n",
    "\n",
    "if not pd.api.types.is_datetime64_any_dtype(df['HORA_INICIAL_REAL']):\n",
    "    df['HORA_INICIAL_REAL'] = pd.to_datetime(df['HORA_INICIAL_REAL'], errors='coerce')\n",
    "\n",
    "# Reemplazar los valores nulos en 'HORA_INICIAL_REAL' con los valores de 'HORA_INICIAL_PLAN'\n",
    "df['HORA_INICIAL_REAL'] = df['HORA_INICIAL_REAL'].fillna(df['HORA_INICIAL_PLAN'])\n",
    "\n",
    "\n",
    "# Verificar los cambios\n",
    "print(df[['HORA_INICIAL_PLAN', 'HORA_FINAL_PLAN', 'HORA_INICIAL_REAL']].head())"
   ]
  },
  {
   "cell_type": "markdown",
   "metadata": {},
   "source": [
    "## Calculo de la frecuencia de despacho por ruta y por dia"
   ]
  },
  {
   "cell_type": "code",
   "execution_count": 53,
   "metadata": {},
   "outputs": [
    {
     "name": "stderr",
     "output_type": "stream",
     "text": [
      "C:\\Users\\regis\\AppData\\Local\\Temp\\ipykernel_25320\\550021721.py:38: DeprecationWarning:\n",
      "\n",
      "DataFrameGroupBy.apply operated on the grouping columns. This behavior is deprecated, and in a future version of pandas the grouping columns will be excluded from the operation. Either pass `include_groups=False` to exclude the groupings or explicitly select the grouping columns after groupby to silence this warning.\n",
      "\n"
     ]
    },
    {
     "name": "stdout",
     "output_type": "stream",
     "text": [
      "      FK_RUTA FECHA_INICIAL   HORA_INICIAL_REAL  F_DESPACHO\n",
      "7890        1    2024-04-16 2024-04-16 04:38:24    0.000000\n",
      "7891        1    2024-04-16 2024-04-16 04:44:35    6.183333\n",
      "7892        1    2024-04-16 2024-04-16 04:49:51    5.266667\n",
      "7893        1    2024-04-16 2024-04-16 04:56:18    6.450000\n",
      "7894        1    2024-04-16 2024-04-16 05:03:01    6.716667\n"
     ]
    }
   ],
   "source": [
    "# Asegúrate de que las columnas de tiempo estén en formato datetime\n",
    "if not pd.api.types.is_datetime64_any_dtype(df['FECHA_INICIAL']):\n",
    "    df['FECHA_INICIAL'] = pd.to_datetime(df['FECHA_INICIAL'], errors='coerce')\n",
    "\n",
    "if not pd.api.types.is_datetime64_any_dtype(df['HORA_INICIAL_REAL']):\n",
    "    df['HORA_INICIAL_REAL'] = pd.to_datetime(df['HORA_INICIAL_REAL'], errors='coerce')\n",
    "\n",
    "# Crear el nuevo campo 'F_DESPACHO'\n",
    "def calcular_frecuencia_despacho(grupo):\n",
    "    try:\n",
    "        # Ordenar por fecha y hora para asegurar el cálculo correcto\n",
    "        grupo = grupo.sort_values(by=['FECHA_INICIAL', 'HORA_INICIAL_REAL'])\n",
    "        \n",
    "        # Calcular la diferencia en minutos entre registros consecutivos\n",
    "        grupo['F_DESPACHO'] = grupo['HORA_INICIAL_REAL'].diff().dt.total_seconds() / 60\n",
    "        \n",
    "        # Reemplazar el primer valor de cada día con 0 minutos\n",
    "        grupo['DIF_FECHA'] = grupo['FECHA_INICIAL'].diff().dt.days.fillna(0)\n",
    "        grupo.loc[grupo['DIF_FECHA'] != 0, 'F_DESPACHO'] = 0\n",
    "        \n",
    "        # Asegurar que no haya valores nulos en 'F_DESPACHO'\n",
    "        grupo['F_DESPACHO'] = grupo['F_DESPACHO'].fillna(0)\n",
    "        \n",
    "        # Eliminar la columna auxiliar 'DIF_FECHA'\n",
    "        grupo = grupo.drop(columns=['DIF_FECHA'])\n",
    "        \n",
    "    except Exception as e:\n",
    "        # Imprimir el error y los valores problemáticos\n",
    "        print(\"Error en el cálculo de frecuencia de despacho:\")\n",
    "        print(f\"Grupo problemático (FK_RUTA): {grupo['FK_RUTA'].iloc[0] if not grupo.empty else 'Desconocido'}\")\n",
    "        print(f\"Valores del grupo:\\n{grupo[['FECHA_INICIAL', 'HORA_INICIAL_REAL']]}\")\n",
    "        print(f\"Error: {e}\")\n",
    "        raise  # Volver a lanzar la excepción para depuración adicional\n",
    "    \n",
    "    return grupo\n",
    "\n",
    "# Agrupar por 'FK_RUTA' y aplicar la función\n",
    "df = df.groupby('FK_RUTA', group_keys=False).apply(calcular_frecuencia_despacho)\n",
    "\n",
    "# Exportar el DataFrame a un archivo CSV\n",
    "df.to_csv('datos_pasajeros_filtrado_con_frecuencia.csv', index=False)\n",
    "\n",
    "# Verificar los resultados\n",
    "print(df[['FK_RUTA', 'FECHA_INICIAL', 'HORA_INICIAL_REAL', 'F_DESPACHO']].head())"
   ]
  },
  {
   "cell_type": "code",
   "execution_count": 54,
   "metadata": {},
   "outputs": [
    {
     "name": "stdout",
     "output_type": "stream",
     "text": [
      "   DIA_SEMANA  FK_RUTA  CANTIDAD_DESPACHOS\n",
      "4      Monday        1                3844\n",
      "5      Monday        3                3849\n",
      "6      Monday        5                  80\n",
      "7      Monday        6                 114\n",
      "20    Tuesday        1                4596\n",
      "21    Tuesday        3                4508\n",
      "22    Tuesday        5                 100\n",
      "23    Tuesday        6                 123\n",
      "24  Wednesday        1                4276\n",
      "25  Wednesday        3                4213\n",
      "26  Wednesday        5                  96\n",
      "27  Wednesday        6                 122\n",
      "16   Thursday        1                4517\n",
      "17   Thursday        3                4474\n",
      "18   Thursday        5                  99\n",
      "19   Thursday        6                 136\n",
      "0      Friday        1                4566\n",
      "1      Friday        3                4535\n",
      "2      Friday        5                 103\n",
      "3      Friday        6                 138\n",
      "8    Saturday        1                3406\n",
      "9    Saturday        3                3525\n",
      "10   Saturday        5                  83\n",
      "11   Saturday        6                 126\n",
      "12     Sunday        1                1134\n",
      "13     Sunday        3                1205\n",
      "14     Sunday        5                   6\n",
      "15     Sunday        6                   1\n"
     ]
    }
   ],
   "source": [
    "# Asegúrate de que la columna 'DIA_SEMANA' esté correctamente configurada\n",
    "df['DIA_SEMANA'] = pd.to_datetime(df['FECHA_INICIAL']).dt.day_name()\n",
    "\n",
    "# Calcular la cantidad de despachos por día de la semana y por ruta\n",
    "despachos_por_dia_ruta = df.groupby(['DIA_SEMANA', 'FK_RUTA']).size().reset_index(name='CANTIDAD_DESPACHOS')\n",
    "\n",
    "# Ordenar los resultados por día de la semana y ruta\n",
    "dias_ordenados = ['Monday', 'Tuesday', 'Wednesday', 'Thursday', 'Friday', 'Saturday', 'Sunday']\n",
    "despachos_por_dia_ruta['DIA_SEMANA'] = pd.Categorical(despachos_por_dia_ruta['DIA_SEMANA'], categories=dias_ordenados, ordered=True)\n",
    "despachos_por_dia_ruta = despachos_por_dia_ruta.sort_values(by=['DIA_SEMANA', 'FK_RUTA'])\n",
    "\n",
    "# Mostrar los resultados\n",
    "print(despachos_por_dia_ruta)\n",
    "\n",
    "# Opcional: Exportar los resultados a un archivo CSV\n",
    "despachos_por_dia_ruta.to_csv('despachos_por_dia_ruta.csv', index=False)"
   ]
  },
  {
   "cell_type": "code",
   "execution_count": 55,
   "metadata": {},
   "outputs": [
    {
     "data": {
      "image/png": "[encoded data removed]",
      "text/plain": [
       "<Figure size 1400x800 with 1 Axes>"
      ]
     },
     "metadata": {},
     "output_type": "display_data"
    },
    {
     "data": {
      "image/png": "[encoded data removed]",
      "text/plain": [
       "<Figure size 1400x800 with 1 Axes>"
      ]
     },
     "metadata": {},
     "output_type": "display_data"
    }
   ],
   "source": [
    "import matplotlib.pyplot as plt\n",
    "import seaborn as sns\n",
    "\n",
    "# Asegúrate de que la columna 'HORA_INICIAL_REAL' esté en formato datetime\n",
    "df['HORA_INICIAL_REAL'] = pd.to_datetime(df['HORA_INICIAL_REAL'], errors='coerce')\n",
    "\n",
    "# Crear una nueva columna para la hora (sin minutos ni segundos)\n",
    "df['HORA'] = df['HORA_INICIAL_REAL'].dt.hour\n",
    "\n",
    "# Calcular el promedio de la frecuencia de despacho por hora, día de la semana y ruta\n",
    "promedio_frecuencia = (\n",
    "    df.groupby(['DIA_SEMANA', 'FK_RUTA', 'HORA'])['F_DESPACHO']\n",
    "    .mean()\n",
    "    .reset_index(name='PROMEDIO_FRECUENCIA')\n",
    ")\n",
    "\n",
    "# Filtrar solo las rutas con FK_RUTA 1 y 3\n",
    "rutas_filtradas = [1, 3]\n",
    "promedio_frecuencia = promedio_frecuencia[promedio_frecuencia['FK_RUTA'].isin(rutas_filtradas)]\n",
    "\n",
    "# Ordenar los días de la semana\n",
    "dias_ordenados = ['Monday', 'Tuesday', 'Wednesday', 'Thursday', 'Friday', 'Saturday', 'Sunday']\n",
    "promedio_frecuencia['DIA_SEMANA'] = pd.Categorical(promedio_frecuencia['DIA_SEMANA'], categories=dias_ordenados, ordered=True)\n",
    "\n",
    "# Crear gráficos independientes por ruta\n",
    "for ruta in rutas_filtradas:\n",
    "    plt.figure(figsize=(14, 8))\n",
    "    sns.lineplot(\n",
    "        data=promedio_frecuencia[promedio_frecuencia['FK_RUTA'] == ruta],\n",
    "        x='HORA',\n",
    "        y='PROMEDIO_FRECUENCIA',\n",
    "        hue='DIA_SEMANA',\n",
    "        markers=True,\n",
    "        dashes=False,\n",
    "        palette='tab10'\n",
    "    )\n",
    "    \n",
    "    # Configurar el gráfico\n",
    "    plt.title(f'Promedio de Frecuencia de Despacho por Hora (Ruta {ruta})', fontsize=14)\n",
    "    plt.xlabel('Hora del Día', fontsize=12)\n",
    "    plt.ylabel('Promedio de Frecuencia (minutos)', fontsize=12)\n",
    "    plt.legend(title='Día de la Semana', bbox_to_anchor=(1.05, 1), loc='upper left')\n",
    "    plt.grid(axis='y', linestyle='--', alpha=0.7)\n",
    "    plt.tight_layout()\n",
    "    \n",
    "    # Mostrar el gráfico\n",
    "    plt.show()"
   ]
  },
  {
   "cell_type": "code",
   "execution_count": 56,
   "metadata": {},
   "outputs": [
    {
     "data": {
      "application/vnd.plotly.v1+json": {
       "config": {
        "plotlyServerURL": "https://plot.ly"
       },
       "data": [
        {
         "hovertemplate": "Día de la Semana=Friday<br>FK_RUTA=1<br>Hora del Día=%{x}<br>Promedio de Frecuencia (minutos)=%{y}<extra></extra>",
         "legendgroup": "Friday",
         "line": {
          "color": "#636efa",
          "dash": "solid"
         },
         "marker": {
          "symbol": "circle"
         },
         "mode": "lines+markers",
         "name": "Friday",
         "orientation": "v",
         "showlegend": true,
         "type": "scatter",
         "x": {
          "bdata": "BAAAAAUAAAAGAAAABwAAAAgAAAAJAAAACgAAAAsAAAAMAAAADQAAAA4AAAAPAAAAEAAAABEAAAASAAAA",
          "dtype": "i4"
         },
         "xaxis": "x",
         "y": {
          "bdata": "3KjG+G84E0D/nGcLD34bQAaXhxsneBxAv8fre7w+IUBlkDp/e34hQIQPPvjgsyBAbZYBzGapIEA4KkUPe5sjQGAX1gKi9SBAXPYb4olWIEBCeJizQ1EjQFyYasqZ7yBA4rIRVM8YIkCul98eGSspQLy7u7u7Mz9A",
          "dtype": "f8"
         },
         "yaxis": "y"
        },
        {
         "hovertemplate": "Día de la Semana=Friday<br>FK_RUTA=3<br>Hora del Día=%{x}<br>Promedio de Frecuencia (minutos)=%{y}<extra></extra>",
         "legendgroup": "Friday",
         "line": {
          "color": "#636efa",
          "dash": "solid"
         },
         "marker": {
          "symbol": "circle"
         },
         "mode": "lines+markers",
         "name": "Friday",
         "orientation": "v",
         "showlegend": false,
         "type": "scatter",
         "x": {
          "bdata": "BAAAAAUAAAAGAAAABwAAAAgAAAAJAAAACgAAAAsAAAAMAAAADQAAAA4AAAAPAAAAEAAAABEAAAASAAAA",
          "dtype": "i4"
         },
         "xaxis": "x2",
         "y": {
          "bdata": "XqoRQ+AlFkDJqH3PoyQaQDgpgHawNBtAAuyMm4UmIUD8eQRQ1rYfQG+LXp63AyBAFK5H4XpUIUCR/9fcXqoiQI19OUFjXyFAxB1xR9xBIUBdeiP7jAciQLS5CGm2pCFAox7nTBJTJ0BaNSUOpBUyQOM4juM47j5A",
          "dtype": "f8"
         },
         "yaxis": "y2"
        },
        {
         "hovertemplate": "Día de la Semana=Monday<br>FK_RUTA=1<br>Hora del Día=%{x}<br>Promedio de Frecuencia (minutos)=%{y}<extra></extra>",
         "legendgroup": "Monday",
         "line": {
          "color": "#EF553B",
          "dash": "solid"
         },
         "marker": {
          "symbol": "circle"
         },
         "mode": "lines+markers",
         "name": "Monday",
         "orientation": "v",
         "showlegend": true,
         "type": "scatter",
         "x": {
          "bdata": "BAAAAAUAAAAGAAAABwAAAAgAAAAJAAAACgAAAAsAAAAMAAAADQAAAA4AAAAPAAAAEAAAABEAAAASAAAAEwAAAA==",
          "dtype": "i4"
         },
         "xaxis": "x",
         "y": {
          "bdata": "yDZV9vA9EkDrwhNytS4eQN0w2SnLDSFAWsTixnUVJEDMI8Y8YkwkQH+4zpGXZiNAlMoU0kHgIkBuO+zMH7kkQHAF2VsSiSJAFm6CrriOI0CM9pvyXMImQOUByTpXOiRA9zFiOUg0IkB7GaaFtGktQLdt27ZteztAd3d3d3enY0A=",
          "dtype": "f8"
         },
         "yaxis": "y"
        },
        {
         "hovertemplate": "Día de la Semana=Monday<br>FK_RUTA=3<br>Hora del Día=%{x}<br>Promedio de Frecuencia (minutos)=%{y}<extra></extra>",
         "legendgroup": "Monday",
         "line": {
          "color": "#EF553B",
          "dash": "solid"
         },
         "marker": {
          "symbol": "circle"
         },
         "mode": "lines+markers",
         "name": "Monday",
         "orientation": "v",
         "showlegend": false,
         "type": "scatter",
         "x": {
          "bdata": "BAAAAAUAAAAGAAAABwAAAAgAAAAJAAAACgAAAAsAAAAMAAAADQAAAA4AAAAPAAAAEAAAABEAAAASAAAA",
          "dtype": "i4"
         },
         "xaxis": "x2",
         "y": {
          "bdata": "CQOo9/EWFkBey6Zdy6YcQMu+eNT6YCFAnj7nekbSI0DnzMkj8pEiQEImcXNmhSFASDtWIIwUI0CSbZJtkm0mQLdCcSsUdyRA1IeC1RaCJEDCFmzBFigkQO+RGdco0iRAk90Rgg0OJkDj8jgTxccxQED2Yz/2ozpA",
          "dtype": "f8"
         },
         "yaxis": "y2"
        },
        {
         "hovertemplate": "Día de la Semana=Saturday<br>FK_RUTA=1<br>Hora del Día=%{x}<br>Promedio de Frecuencia (minutos)=%{y}<extra></extra>",
         "legendgroup": "Saturday",
         "line": {
          "color": "#00cc96",
          "dash": "solid"
         },
         "marker": {
          "symbol": "circle"
         },
         "mode": "lines+markers",
         "name": "Saturday",
         "orientation": "v",
         "showlegend": true,
         "type": "scatter",
         "x": {
          "bdata": "BAAAAAUAAAAGAAAABwAAAAgAAAAJAAAACgAAAAsAAAAMAAAADQAAAA4AAAAPAAAAEAAAABEAAAASAAAA",
          "dtype": "i4"
         },
         "xaxis": "x",
         "y": {
          "bdata": "UyCymOFUFUCkTme2xasjQAGWbb4coB5APrkYLK5gH0ABYrhb5OchQLqGGP9H+yJA62i1xMcuKEDbLRXtC/4mQH0kNsxHIilAqDHPpzFPK0AZKB565/MrQImIiIiI2CxAu/ktBIySMkAzMzMzM783QOM4juM47khA",
          "dtype": "f8"
         },
         "yaxis": "y"
        },
        {
         "hovertemplate": "Día de la Semana=Saturday<br>FK_RUTA=3<br>Hora del Día=%{x}<br>Promedio de Frecuencia (minutos)=%{y}<extra></extra>",
         "legendgroup": "Saturday",
         "line": {
          "color": "#00cc96",
          "dash": "solid"
         },
         "marker": {
          "symbol": "circle"
         },
         "mode": "lines+markers",
         "name": "Saturday",
         "orientation": "v",
         "showlegend": false,
         "type": "scatter",
         "x": {
          "bdata": "BAAAAAUAAAAGAAAABwAAAAgAAAAJAAAACgAAAAsAAAAMAAAADQAAAA4AAAAPAAAAEAAAABEAAAASAAAA",
          "dtype": "i4"
         },
         "xaxis": "x2",
         "y": {
          "bdata": "sKmeV3FsFkACCj5m4nAbQC7Zgy7ZwxxAQVz5mUH3H0AYQY41ProgQDqogzqooyJAk18s+cVqJ0AncAIncGIqQIX9JGT87ylANfxtilFDLECzoxYhfw0tQCS2wTn3RDBAIiIiIiLINEBa9tTJcOg9QImIiIiIuFNA",
          "dtype": "f8"
         },
         "yaxis": "y2"
        },
        {
         "hovertemplate": "Día de la Semana=Sunday<br>FK_RUTA=1<br>Hora del Día=%{x}<br>Promedio de Frecuencia (minutos)=%{y}<extra></extra>",
         "legendgroup": "Sunday",
         "line": {
          "color": "#ab63fa",
          "dash": "solid"
         },
         "marker": {
          "symbol": "circle"
         },
         "mode": "lines+markers",
         "name": "Sunday",
         "orientation": "v",
         "showlegend": true,
         "type": "scatter",
         "x": {
          "bdata": "BAAAAAUAAAAGAAAABwAAAAgAAAAJAAAACgAAAAsAAAAMAAAADQAAAA4AAAAPAAAAEAAAABEAAAA=",
          "dtype": "i4"
         },
         "xaxis": "x",
         "y": {
          "bdata": "AAAAAAAAAADH/L02Yl0jQAPwSMr6TDVAFOgraT1BN0C1OEmLk3Q3QI7m4WgezjhApTyC/gBqPUAEHIvwjxM6QIMj+qm+Jj5AibEPMMNlPkB3d3d3d7lAQOi0gU4bTkBAFwJGqSbPQkAmYRImYXJMQA==",
          "dtype": "f8"
         },
         "yaxis": "y"
        },
        {
         "hovertemplate": "Día de la Semana=Sunday<br>FK_RUTA=3<br>Hora del Día=%{x}<br>Promedio de Frecuencia (minutos)=%{y}<extra></extra>",
         "legendgroup": "Sunday",
         "line": {
          "color": "#ab63fa",
          "dash": "solid"
         },
         "marker": {
          "symbol": "circle"
         },
         "mode": "lines+markers",
         "name": "Sunday",
         "orientation": "v",
         "showlegend": false,
         "type": "scatter",
         "x": {
          "bdata": "BAAAAAUAAAAGAAAABwAAAAgAAAAJAAAACgAAAAsAAAAMAAAADQAAAA4AAAAPAAAAEAAAABEAAAA=",
          "dtype": "i4"
         },
         "xaxis": "x2",
         "y": {
          "bdata": "MdKOFQgjBUDdZJ5qzFovQNBr+7y2rzlA+B+qTHXfNEDTcNYaOso1QCaeFY0EbDhA061k0q1kOkAhsHJokX05QApC/+g2dj5ALgCPpKzvQEDkYRWLc6s/QE+W6dCop0BAAbnXXEgqQkBKn/RJn5RSQA==",
          "dtype": "f8"
         },
         "yaxis": "y2"
        },
        {
         "hovertemplate": "Día de la Semana=Thursday<br>FK_RUTA=1<br>Hora del Día=%{x}<br>Promedio de Frecuencia (minutos)=%{y}<extra></extra>",
         "legendgroup": "Thursday",
         "line": {
          "color": "#FFA15A",
          "dash": "solid"
         },
         "marker": {
          "symbol": "circle"
         },
         "mode": "lines+markers",
         "name": "Thursday",
         "orientation": "v",
         "showlegend": true,
         "type": "scatter",
         "x": {
          "bdata": "BAAAAAUAAAAGAAAABwAAAAgAAAAJAAAACgAAAAsAAAAMAAAADQAAAA4AAAAPAAAAEAAAABEAAAASAAAA",
          "dtype": "i4"
         },
         "xaxis": "x",
         "y": {
          "bdata": "uw7OtUwFEkCxWjTlpLAcQLAFW7AFkx1AZX0NnEHOIUA1PAWGAOchQBkOteypAyBAHwwkhsu0IkA/v5y7JkAkQHTfqUT3PSFAQHtHKHRBIEC/a/jsaoEiQEkkqHzyqiBAw50z3DmjIUCGoxRcOMoqQHW5/UGGSjZA",
          "dtype": "f8"
         },
         "yaxis": "y"
        },
        {
         "hovertemplate": "Día de la Semana=Thursday<br>FK_RUTA=3<br>Hora del Día=%{x}<br>Promedio de Frecuencia (minutos)=%{y}<extra></extra>",
         "legendgroup": "Thursday",
         "line": {
          "color": "#FFA15A",
          "dash": "solid"
         },
         "marker": {
          "symbol": "circle"
         },
         "mode": "lines+markers",
         "name": "Thursday",
         "orientation": "v",
         "showlegend": false,
         "type": "scatter",
         "x": {
          "bdata": "BAAAAAUAAAAGAAAABwAAAAgAAAAJAAAACgAAAAsAAAAMAAAADQAAAA4AAAAPAAAAEAAAABEAAAASAAAA",
          "dtype": "i4"
         },
         "xaxis": "x2",
         "y": {
          "bdata": "EfYfYf8RFkCBu45HyZoaQK75YZEygBpAtcih71OLIUC4SM76XiAgQApY0HY2eB9ASReWtw0iIkCzzpUHJJckQPPy8vLykiFA7Md+7MfOIECFSFMNVIgiQBT5LsOaayFAI30JMCPSJUCx9g1r37AzQCIiIiIiIiFA",
          "dtype": "f8"
         },
         "yaxis": "y2"
        },
        {
         "hovertemplate": "Día de la Semana=Tuesday<br>FK_RUTA=1<br>Hora del Día=%{x}<br>Promedio de Frecuencia (minutos)=%{y}<extra></extra>",
         "legendgroup": "Tuesday",
         "line": {
          "color": "#19d3f3",
          "dash": "solid"
         },
         "marker": {
          "symbol": "circle"
         },
         "mode": "lines+markers",
         "name": "Tuesday",
         "orientation": "v",
         "showlegend": true,
         "type": "scatter",
         "x": {
          "bdata": "BAAAAAUAAAAGAAAABwAAAAgAAAAJAAAACgAAAAsAAAAMAAAADQAAAA4AAAAPAAAAEAAAABEAAAASAAAAEwAAAA==",
          "dtype": "i4"
         },
         "xaxis": "x",
         "y": {
          "bdata": "xQoif/PEE0DnVwZqfqUaQFMqiDD1xh1AptSnctgyIkCgvc8kqSEjQHZlV3ZlVyBA993PGi6EIECGNxw0f10jQAkGuWzJmyBAYY7uOh1+IEA6baDTBvohQD4K16NwPSFAYP7lX/5dIUD2eZywURopQPdjP/Zj3z9AzczMzMzMVUA=",
          "dtype": "f8"
         },
         "yaxis": "y"
        },
        {
         "hovertemplate": "Día de la Semana=Tuesday<br>FK_RUTA=3<br>Hora del Día=%{x}<br>Promedio de Frecuencia (minutos)=%{y}<extra></extra>",
         "legendgroup": "Tuesday",
         "line": {
          "color": "#19d3f3",
          "dash": "solid"
         },
         "marker": {
          "symbol": "circle"
         },
         "mode": "lines+markers",
         "name": "Tuesday",
         "orientation": "v",
         "showlegend": false,
         "type": "scatter",
         "x": {
          "bdata": "BAAAAAUAAAAGAAAABwAAAAgAAAAJAAAACgAAAAsAAAAMAAAADQAAAA4AAAAPAAAAEAAAABEAAAASAAAA",
          "dtype": "i4"
         },
         "xaxis": "x2",
         "y": {
          "bdata": "IpmHZB6SFkDdEoLYyzIaQEXMiKoZ4hxADcA1HlbRIUDrM6vEF1YgQI6PcXaNHh9AgwBSQDOIIUCzzZcDLMsjQNKPEwwbPSFAJ9wkdcjpIEDjiiuuuOIhQORqXXhCRiJAxJ0KQdxpJkCe2Imd2AkwQOAETuAEjkpA",
          "dtype": "f8"
         },
         "yaxis": "y2"
        },
        {
         "hovertemplate": "Día de la Semana=Wednesday<br>FK_RUTA=1<br>Hora del Día=%{x}<br>Promedio de Frecuencia (minutos)=%{y}<extra></extra>",
         "legendgroup": "Wednesday",
         "line": {
          "color": "#FF6692",
          "dash": "solid"
         },
         "marker": {
          "symbol": "circle"
         },
         "mode": "lines+markers",
         "name": "Wednesday",
         "orientation": "v",
         "showlegend": true,
         "type": "scatter",
         "x": {
          "bdata": "BAAAAAUAAAAGAAAABwAAAAgAAAAJAAAACgAAAAsAAAAMAAAADQAAAA4AAAAPAAAAEAAAABEAAAASAAAAEwAAAA==",
          "dtype": "i4"
         },
         "xaxis": "x",
         "y": {
          "bdata": "2uInUJKjEkDKT0C4lpobQF0onOJ37h1AiOsIV0ghIUCQ37ZeSt4iQHWMVPlxEyFAr9j1zgKTIkB6QLLOlXskQCJ49jjVyiJAaPzTJIOGIUAoNgb1XUIjQPG9ilckkSFAQNVxCU9LIUC0lkQxpW0oQJ7neZ7n+TZAd3d3d3cHWEA=",
          "dtype": "f8"
         },
         "yaxis": "y"
        },
        {
         "hovertemplate": "Día de la Semana=Wednesday<br>FK_RUTA=3<br>Hora del Día=%{x}<br>Promedio de Frecuencia (minutos)=%{y}<extra></extra>",
         "legendgroup": "Wednesday",
         "line": {
          "color": "#FF6692",
          "dash": "solid"
         },
         "marker": {
          "symbol": "circle"
         },
         "mode": "lines+markers",
         "name": "Wednesday",
         "orientation": "v",
         "showlegend": false,
         "type": "scatter",
         "x": {
          "bdata": "BAAAAAUAAAAGAAAABwAAAAgAAAAJAAAACgAAAAsAAAAMAAAADQAAAA4AAAAPAAAAEAAAABEAAAASAAAA",
          "dtype": "i4"
         },
         "xaxis": "x2",
         "y": {
          "bdata": "nDjIiYOcFUCQ9p/E8g0bQOh+7ud+7htAf+7nfu4XIkDnZPftGp0gQIq7+V45syBAw+W3pDH/IUA2DiQ/TKkkQPV32LJQiCNADUsv4kSFIUAtI3et37QiQELTol0fVCNAPMIjPMKjJ0DAv7+/v18wQKuqqqqqSkZA",
          "dtype": "f8"
         },
         "yaxis": "y2"
        }
       ],
       "layout": {
        "annotations": [
         {
          "font": {},
          "showarrow": false,
          "text": "FK_RUTA=1",
          "x": 0.245,
          "xanchor": "center",
          "xref": "paper",
          "y": 1,
          "yanchor": "bottom",
          "yref": "paper"
         },
         {
          "font": {},
          "showarrow": false,
          "text": "FK_RUTA=3",
          "x": 0.755,
          "xanchor": "center",
          "xref": "paper",
          "y": 1,
          "yanchor": "bottom",
          "yref": "paper"
         }
        ],
        "hovermode": "x unified",
        "legend": {
         "title": {
          "text": "Día de la Semana"
         },
         "tracegroupgap": 0
        },
        "template": {
         "data": {
          "bar": [
           {
            "error_x": {
             "color": "#2a3f5f"
            },
            "error_y": {
             "color": "#2a3f5f"
            },
            "marker": {
             "line": {
              "color": "#E5ECF6",
              "width": 0.5
             },
             "pattern": {
              "fillmode": "overlay",
              "size": 10,
              "solidity": 0.2
             }
            },
            "type": "bar"
           }
          ],
          "barpolar": [
           {
            "marker": {
             "line": {
              "color": "#E5ECF6",
              "width": 0.5
             },
             "pattern": {
              "fillmode": "overlay",
              "size": 10,
              "solidity": 0.2
             }
            },
            "type": "barpolar"
           }
          ],
          "carpet": [
           {
            "aaxis": {
             "endlinecolor": "#2a3f5f",
             "gridcolor": "white",
             "linecolor": "white",
             "minorgridcolor": "white",
             "startlinecolor": "#2a3f5f"
            },
            "baxis": {
             "endlinecolor": "#2a3f5f",
             "gridcolor": "white",
             "linecolor": "white",
             "minorgridcolor": "white",
             "startlinecolor": "#2a3f5f"
            },
            "type": "carpet"
           }
          ],
          "choropleth": [
           {
            "colorbar": {
             "outlinewidth": 0,
             "ticks": ""
            },
            "type": "choropleth"
           }
          ],
          "contour": [
           {
            "colorbar": {
             "outlinewidth": 0,
             "ticks": ""
            },
            "colorscale": [
             [
              0,
              "#0d0887"
             ],
             [
              0.1111111111111111,
              "#46039f"
             ],
             [
              0.2222222222222222,
              "#7201a8"
             ],
             [
              0.3333333333333333,
              "#9c179e"
             ],
             [
              0.4444444444444444,
              "#bd3786"
             ],
             [
              0.5555555555555556,
              "#d8576b"
             ],
             [
              0.6666666666666666,
              "#ed7953"
             ],
             [
              0.7777777777777778,
              "#fb9f3a"
             ],
             [
              0.8888888888888888,
              "#fdca26"
             ],
             [
              1,
              "#f0f921"
             ]
            ],
            "type": "contour"
           }
          ],
          "contourcarpet": [
           {
            "colorbar": {
             "outlinewidth": 0,
             "ticks": ""
            },
            "type": "contourcarpet"
           }
          ],
          "heatmap": [
           {
            "colorbar": {
             "outlinewidth": 0,
             "ticks": ""
            },
            "colorscale": [
             [
              0,
              "#0d0887"
             ],
             [
              0.1111111111111111,
              "#46039f"
             ],
             [
              0.2222222222222222,
              "#7201a8"
             ],
             [
              0.3333333333333333,
              "#9c179e"
             ],
             [
              0.4444444444444444,
              "#bd3786"
             ],
             [
              0.5555555555555556,
              "#d8576b"
             ],
             [
              0.6666666666666666,
              "#ed7953"
             ],
             [
              0.7777777777777778,
              "#fb9f3a"
             ],
             [
              0.8888888888888888,
              "#fdca26"
             ],
             [
              1,
              "#f0f921"
             ]
            ],
            "type": "heatmap"
           }
          ],
          "histogram": [
           {
            "marker": {
             "pattern": {
              "fillmode": "overlay",
              "size": 10,
              "solidity": 0.2
             }
            },
            "type": "histogram"
           }
          ],
          "histogram2d": [
           {
            "colorbar": {
             "outlinewidth": 0,
             "ticks": ""
            },
            "colorscale": [
             [
              0,
              "#0d0887"
             ],
             [
              0.1111111111111111,
              "#46039f"
             ],
             [
              0.2222222222222222,
              "#7201a8"
             ],
             [
              0.3333333333333333,
              "#9c179e"
             ],
             [
              0.4444444444444444,
              "#bd3786"
             ],
             [
              0.5555555555555556,
              "#d8576b"
             ],
             [
              0.6666666666666666,
              "#ed7953"
             ],
             [
              0.7777777777777778,
              "#fb9f3a"
             ],
             [
              0.8888888888888888,
              "#fdca26"
             ],
             [
              1,
              "#f0f921"
             ]
            ],
            "type": "histogram2d"
           }
          ],
          "histogram2dcontour": [
           {
            "colorbar": {
             "outlinewidth": 0,
             "ticks": ""
            },
            "colorscale": [
             [
              0,
              "#0d0887"
             ],
             [
              0.1111111111111111,
              "#46039f"
             ],
             [
              0.2222222222222222,
              "#7201a8"
             ],
             [
              0.3333333333333333,
              "#9c179e"
             ],
             [
              0.4444444444444444,
              "#bd3786"
             ],
             [
              0.5555555555555556,
              "#d8576b"
             ],
             [
              0.6666666666666666,
              "#ed7953"
             ],
             [
              0.7777777777777778,
              "#fb9f3a"
             ],
             [
              0.8888888888888888,
              "#fdca26"
             ],
             [
              1,
              "#f0f921"
             ]
            ],
            "type": "histogram2dcontour"
           }
          ],
          "mesh3d": [
           {
            "colorbar": {
             "outlinewidth": 0,
             "ticks": ""
            },
            "type": "mesh3d"
           }
          ],
          "parcoords": [
           {
            "line": {
             "colorbar": {
              "outlinewidth": 0,
              "ticks": ""
             }
            },
            "type": "parcoords"
           }
          ],
          "pie": [
           {
            "automargin": true,
            "type": "pie"
           }
          ],
          "scatter": [
           {
            "fillpattern": {
             "fillmode": "overlay",
             "size": 10,
             "solidity": 0.2
            },
            "type": "scatter"
           }
          ],
          "scatter3d": [
           {
            "line": {
             "colorbar": {
              "outlinewidth": 0,
              "ticks": ""
             }
            },
            "marker": {
             "colorbar": {
              "outlinewidth": 0,
              "ticks": ""
             }
            },
            "type": "scatter3d"
           }
          ],
          "scattercarpet": [
           {
            "marker": {
             "colorbar": {
              "outlinewidth": 0,
              "ticks": ""
             }
            },
            "type": "scattercarpet"
           }
          ],
          "scattergeo": [
           {
            "marker": {
             "colorbar": {
              "outlinewidth": 0,
              "ticks": ""
             }
            },
            "type": "scattergeo"
           }
          ],
          "scattergl": [
           {
            "marker": {
             "colorbar": {
              "outlinewidth": 0,
              "ticks": ""
             }
            },
            "type": "scattergl"
           }
          ],
          "scattermap": [
           {
            "marker": {
             "colorbar": {
              "outlinewidth": 0,
              "ticks": ""
             }
            },
            "type": "scattermap"
           }
          ],
          "scattermapbox": [
           {
            "marker": {
             "colorbar": {
              "outlinewidth": 0,
              "ticks": ""
             }
            },
            "type": "scattermapbox"
           }
          ],
          "scatterpolar": [
           {
            "marker": {
             "colorbar": {
              "outlinewidth": 0,
              "ticks": ""
             }
            },
            "type": "scatterpolar"
           }
          ],
          "scatterpolargl": [
           {
            "marker": {
             "colorbar": {
              "outlinewidth": 0,
              "ticks": ""
             }
            },
            "type": "scatterpolargl"
           }
          ],
          "scatterternary": [
           {
            "marker": {
             "colorbar": {
              "outlinewidth": 0,
              "ticks": ""
             }
            },
            "type": "scatterternary"
           }
          ],
          "surface": [
           {
            "colorbar": {
             "outlinewidth": 0,
             "ticks": ""
            },
            "colorscale": [
             [
              0,
              "#0d0887"
             ],
             [
              0.1111111111111111,
              "#46039f"
             ],
             [
              0.2222222222222222,
              "#7201a8"
             ],
             [
              0.3333333333333333,
              "#9c179e"
             ],
             [
              0.4444444444444444,
              "#bd3786"
             ],
             [
              0.5555555555555556,
              "#d8576b"
             ],
             [
              0.6666666666666666,
              "#ed7953"
             ],
             [
              0.7777777777777778,
              "#fb9f3a"
             ],
             [
              0.8888888888888888,
              "#fdca26"
             ],
             [
              1,
              "#f0f921"
             ]
            ],
            "type": "surface"
           }
          ],
          "table": [
           {
            "cells": {
             "fill": {
              "color": "#EBF0F8"
             },
             "line": {
              "color": "white"
             }
            },
            "header": {
             "fill": {
              "color": "#C8D4E3"
             },
             "line": {
              "color": "white"
             }
            },
            "type": "table"
           }
          ]
         },
         "layout": {
          "annotationdefaults": {
           "arrowcolor": "#2a3f5f",
           "arrowhead": 0,
           "arrowwidth": 1
          },
          "autotypenumbers": "strict",
          "coloraxis": {
           "colorbar": {
            "outlinewidth": 0,
            "ticks": ""
           }
          },
          "colorscale": {
           "diverging": [
            [
             0,
             "#8e0152"
            ],
            [
             0.1,
             "#c51b7d"
            ],
            [
             0.2,
             "#de77ae"
            ],
            [
             0.3,
             "#f1b6da"
            ],
            [
             0.4,
             "#fde0ef"
            ],
            [
             0.5,
             "#f7f7f7"
            ],
            [
             0.6,
             "#e6f5d0"
            ],
            [
             0.7,
             "#b8e186"
            ],
            [
             0.8,
             "#7fbc41"
            ],
            [
             0.9,
             "#4d9221"
            ],
            [
             1,
             "#276419"
            ]
           ],
           "sequential": [
            [
             0,
             "#0d0887"
            ],
            [
             0.1111111111111111,
             "#46039f"
            ],
            [
             0.2222222222222222,
             "#7201a8"
            ],
            [
             0.3333333333333333,
             "#9c179e"
            ],
            [
             0.4444444444444444,
             "#bd3786"
            ],
            [
             0.5555555555555556,
             "#d8576b"
            ],
            [
             0.6666666666666666,
             "#ed7953"
            ],
            [
             0.7777777777777778,
             "#fb9f3a"
            ],
            [
             0.8888888888888888,
             "#fdca26"
            ],
            [
             1,
             "#f0f921"
            ]
           ],
           "sequentialminus": [
            [
             0,
             "#0d0887"
            ],
            [
             0.1111111111111111,
             "#46039f"
            ],
            [
             0.2222222222222222,
             "#7201a8"
            ],
            [
             0.3333333333333333,
             "#9c179e"
            ],
            [
             0.4444444444444444,
             "#bd3786"
            ],
            [
             0.5555555555555556,
             "#d8576b"
            ],
            [
             0.6666666666666666,
             "#ed7953"
            ],
            [
             0.7777777777777778,
             "#fb9f3a"
            ],
            [
             0.8888888888888888,
             "#fdca26"
            ],
            [
             1,
             "#f0f921"
            ]
           ]
          },
          "colorway": [
           "#636efa",
           "#EF553B",
           "#00cc96",
           "#ab63fa",
           "#FFA15A",
           "#19d3f3",
           "#FF6692",
           "#B6E880",
           "#FF97FF",
           "#FECB52"
          ],
          "font": {
           "color": "#2a3f5f"
          },
          "geo": {
           "bgcolor": "white",
           "lakecolor": "white",
           "landcolor": "#E5ECF6",
           "showlakes": true,
           "showland": true,
           "subunitcolor": "white"
          },
          "hoverlabel": {
           "align": "left"
          },
          "hovermode": "closest",
          "mapbox": {
           "style": "light"
          },
          "paper_bgcolor": "white",
          "plot_bgcolor": "#E5ECF6",
          "polar": {
           "angularaxis": {
            "gridcolor": "white",
            "linecolor": "white",
            "ticks": ""
           },
           "bgcolor": "#E5ECF6",
           "radialaxis": {
            "gridcolor": "white",
            "linecolor": "white",
            "ticks": ""
           }
          },
          "scene": {
           "xaxis": {
            "backgroundcolor": "#E5ECF6",
            "gridcolor": "white",
            "gridwidth": 2,
            "linecolor": "white",
            "showbackground": true,
            "ticks": "",
            "zerolinecolor": "white"
           },
           "yaxis": {
            "backgroundcolor": "#E5ECF6",
            "gridcolor": "white",
            "gridwidth": 2,
            "linecolor": "white",
            "showbackground": true,
            "ticks": "",
            "zerolinecolor": "white"
           },
           "zaxis": {
            "backgroundcolor": "#E5ECF6",
            "gridcolor": "white",
            "gridwidth": 2,
            "linecolor": "white",
            "showbackground": true,
            "ticks": "",
            "zerolinecolor": "white"
           }
          },
          "shapedefaults": {
           "line": {
            "color": "#2a3f5f"
           }
          },
          "ternary": {
           "aaxis": {
            "gridcolor": "white",
            "linecolor": "white",
            "ticks": ""
           },
           "baxis": {
            "gridcolor": "white",
            "linecolor": "white",
            "ticks": ""
           },
           "bgcolor": "#E5ECF6",
           "caxis": {
            "gridcolor": "white",
            "linecolor": "white",
            "ticks": ""
           }
          },
          "title": {
           "x": 0.05
          },
          "xaxis": {
           "automargin": true,
           "gridcolor": "white",
           "linecolor": "white",
           "ticks": "",
           "title": {
            "standoff": 15
           },
           "zerolinecolor": "white",
           "zerolinewidth": 2
          },
          "yaxis": {
           "automargin": true,
           "gridcolor": "white",
           "linecolor": "white",
           "ticks": "",
           "title": {
            "standoff": 15
           },
           "zerolinecolor": "white",
           "zerolinewidth": 2
          }
         }
        },
        "title": {
         "text": "Promedio de Frecuencia de Despacho por Hora (Rutas 1 y 3)"
        },
        "xaxis": {
         "anchor": "y",
         "domain": [
          0,
          0.49
         ],
         "tickmode": "linear",
         "title": {
          "text": "Hora del Día"
         }
        },
        "xaxis2": {
         "anchor": "y2",
         "domain": [
          0.51,
          1
         ],
         "matches": "x",
         "title": {
          "text": "Hora del Día"
         }
        },
        "yaxis": {
         "anchor": "x",
         "domain": [
          0,
          1
         ],
         "title": {
          "text": "Promedio de Frecuencia (minutos)"
         }
        },
        "yaxis2": {
         "anchor": "x2",
         "domain": [
          0,
          1
         ],
         "matches": "y",
         "showticklabels": false
        }
       }
      }
     },
     "metadata": {},
     "output_type": "display_data"
    }
   ],
   "source": [
    "import plotly.express as px\n",
    "\n",
    "# Crear un DataFrame filtrado para las rutas 1 y 3\n",
    "rutas_filtradas = [1, 3]\n",
    "promedio_frecuencia = promedio_frecuencia[promedio_frecuencia['FK_RUTA'].isin(rutas_filtradas)]\n",
    "\n",
    "# Crear un gráfico interactivo con Plotly\n",
    "fig = px.line(\n",
    "    promedio_frecuencia,\n",
    "    x='HORA',\n",
    "    y='PROMEDIO_FRECUENCIA',\n",
    "    color='DIA_SEMANA',\n",
    "    facet_col='FK_RUTA',  # Crear gráficos separados por ruta\n",
    "    title='Promedio de Frecuencia de Despacho por Hora (Rutas 1 y 3)',\n",
    "    labels={'HORA': 'Hora del Día', 'PROMEDIO_FRECUENCIA': 'Promedio de Frecuencia (minutos)', 'DIA_SEMANA': 'Día de la Semana'},\n",
    "    markers=True\n",
    ")\n",
    "\n",
    "# Configurar el diseño\n",
    "fig.update_layout(\n",
    "    legend_title_text='Día de la Semana',\n",
    "    xaxis=dict(tickmode='linear'),\n",
    "    hovermode='x unified'\n",
    ")\n",
    "\n",
    "# Mostrar el gráfico interactivo\n",
    "fig.show()"
   ]
  },
  {
   "cell_type": "markdown",
   "metadata": {},
   "source": [
    "Observaciones técnicas clave\n",
    "Frecuencias muy altas al final del día (17–19h): Explicado por el hecho de que los conductores se van a sus casas lo que baja la disponibilidad de vehiculos\n",
    "\n",
    "Hasta 160 min en algunos días.\n",
    "\n",
    "Se comprueba la desorganización, saturación o abandono de ruta.\n",
    "\n",
    "Altísima variabilidad entre días:\n",
    "\n",
    "Domingo y viernes tienen frecuencias muy distintas del resto.\n",
    "\n",
    "Esto afecta la confiabilidad del servicio.\n",
    "\n",
    "Estabilidad aceptable entre 5:00 y 13:00 aprox., pero no óptima:\n",
    "\n",
    "Aunque hay consistencia, la frecuencia supera los 10–15 min en algunos tramos.\n",
    "\n",
    "Ruta 3 parece más homogénea que Ruta 1, pero ambas tienen problemas después de las 16h."
   ]
  },
  {
   "cell_type": "code",
   "execution_count": 57,
   "metadata": {},
   "outputs": [
    {
     "name": "stdout",
     "output_type": "stream",
     "text": [
      "<class 'pandas.core.frame.DataFrame'>\n",
      "Index: 53975 entries, 7890 to 17180\n",
      "Data columns (total 20 columns):\n",
      " #   Column                       Non-Null Count  Dtype         \n",
      "---  ------                       --------------  -----         \n",
      " 0   FECHA_INICIAL                53975 non-null  datetime64[ns]\n",
      " 1   HORA_INICIAL_PLAN            53975 non-null  datetime64[ns]\n",
      " 2   HORA_INICIAL_REAL            53975 non-null  datetime64[ns]\n",
      " 3   HORA_INICIAL_AUX             53975 non-null  object        \n",
      " 4   FECHA_FINAL                  53975 non-null  object        \n",
      " 5   HORA_FINAL_PLAN              53975 non-null  datetime64[ns]\n",
      " 6   HORA_FINAL_REAL              48031 non-null  datetime64[ns]\n",
      " 7   HORA_FINAL_AUX               53975 non-null  object        \n",
      " 8   FK_RUTA                      53975 non-null  int64         \n",
      " 9   PASAJEROS                    53975 non-null  int64         \n",
      " 10  DISTANCIA                    53975 non-null  int64         \n",
      " 11  FK_VEHICULO                  53975 non-null  int64         \n",
      " 12  FK_CONDUCTOR                 53975 non-null  int64         \n",
      " 13  ESTADO_DESPACHO              53975 non-null  int64         \n",
      " 14  PK_INTERVALO_DESPACHO        53975 non-null  int64         \n",
      " 15  PK_INFORMACION_REGISTRADORA  53975 non-null  int64         \n",
      " 16  DIA_SEMANA                   53975 non-null  object        \n",
      " 17  DIFERENCIA_TIEMPO            53975 non-null  float64       \n",
      " 18  F_DESPACHO                   53975 non-null  float64       \n",
      " 19  HORA                         53975 non-null  int32         \n",
      "dtypes: datetime64[ns](5), float64(2), int32(1), int64(8), object(4)\n",
      "memory usage: 8.4+ MB\n"
     ]
    }
   ],
   "source": [
    "df.info()\n"
   ]
  },
  {
   "cell_type": "markdown",
   "metadata": {},
   "source": [
    "## Calculo de KPI 'Mejora en los tiempos de despacho'"
   ]
  },
  {
   "cell_type": "code",
   "execution_count": 63,
   "metadata": {},
   "outputs": [],
   "source": [
    "# Definir las rutas que deseas incluir\n",
    "rutas_filtradas = [1, 3]\n",
    "\n",
    "# Filtrar el DataFrame por las rutas deseadas\n",
    "df_filtrado = df[df['FK_RUTA'].isin(rutas_filtradas)].copy()\n",
    "df['MES'] = df['FECHA_INICIAL'].dt.to_period('M')  \n"
   ]
  },
  {
   "cell_type": "code",
   "execution_count": 65,
   "metadata": {},
   "outputs": [],
   "source": [
    "df_promedios = df_filtrado.groupby(['MES', 'FK_RUTA', 'HORA'])['F_DESPACHO'].mean().reset_index()\n"
   ]
  },
  {
   "cell_type": "code",
   "execution_count": 66,
   "metadata": {},
   "outputs": [],
   "source": [
    "# Ordenar por mes para asegurar el orden cronológico\n",
    "df_promedios.sort_values(by=['FK_RUTA', 'HORA', 'MES'], inplace=True)\n",
    "\n",
    "# Usar shift para obtener la frecuencia del mes anterior\n",
    "df_promedios['F_ANTERIOR'] = df_promedios.groupby(['FK_RUTA', 'HORA'])['F_DESPACHO'].shift(1)\n",
    "\n",
    "# Calcular mejora: positivo es mejora (menor tiempo entre despachos)\n",
    "df_promedios['MEJORA_FRECUENCIA'] = df_promedios['F_ANTERIOR'] - df_promedios['F_DESPACHO']\n"
   ]
  },
  {
   "cell_type": "code",
   "execution_count": 67,
   "metadata": {},
   "outputs": [
    {
     "data": {
      "text/html": [
       "<div>\n",
       "<style scoped>\n",
       "    .dataframe tbody tr th:only-of-type {\n",
       "        vertical-align: middle;\n",
       "    }\n",
       "\n",
       "    .dataframe tbody tr th {\n",
       "        vertical-align: top;\n",
       "    }\n",
       "\n",
       "    .dataframe thead th {\n",
       "        text-align: right;\n",
       "    }\n",
       "</style>\n",
       "<table border=\"1\" class=\"dataframe\">\n",
       "  <thead>\n",
       "    <tr style=\"text-align: right;\">\n",
       "      <th></th>\n",
       "      <th>MES</th>\n",
       "      <th>FK_RUTA</th>\n",
       "      <th>MEJORA_FRECUENCIA</th>\n",
       "    </tr>\n",
       "  </thead>\n",
       "  <tbody>\n",
       "    <tr>\n",
       "      <th>0</th>\n",
       "      <td>2024-04</td>\n",
       "      <td>1</td>\n",
       "      <td>NaN</td>\n",
       "    </tr>\n",
       "    <tr>\n",
       "      <th>1</th>\n",
       "      <td>2024-04</td>\n",
       "      <td>3</td>\n",
       "      <td>NaN</td>\n",
       "    </tr>\n",
       "    <tr>\n",
       "      <th>2</th>\n",
       "      <td>2024-05</td>\n",
       "      <td>1</td>\n",
       "      <td>1.574091</td>\n",
       "    </tr>\n",
       "    <tr>\n",
       "      <th>3</th>\n",
       "      <td>2024-05</td>\n",
       "      <td>3</td>\n",
       "      <td>-0.236936</td>\n",
       "    </tr>\n",
       "    <tr>\n",
       "      <th>4</th>\n",
       "      <td>2024-06</td>\n",
       "      <td>1</td>\n",
       "      <td>2.425575</td>\n",
       "    </tr>\n",
       "    <tr>\n",
       "      <th>5</th>\n",
       "      <td>2024-06</td>\n",
       "      <td>3</td>\n",
       "      <td>-5.181113</td>\n",
       "    </tr>\n",
       "    <tr>\n",
       "      <th>6</th>\n",
       "      <td>2024-07</td>\n",
       "      <td>1</td>\n",
       "      <td>0.713457</td>\n",
       "    </tr>\n",
       "    <tr>\n",
       "      <th>7</th>\n",
       "      <td>2024-07</td>\n",
       "      <td>3</td>\n",
       "      <td>4.404718</td>\n",
       "    </tr>\n",
       "    <tr>\n",
       "      <th>8</th>\n",
       "      <td>2024-08</td>\n",
       "      <td>1</td>\n",
       "      <td>0.169379</td>\n",
       "    </tr>\n",
       "    <tr>\n",
       "      <th>9</th>\n",
       "      <td>2024-08</td>\n",
       "      <td>3</td>\n",
       "      <td>-0.145661</td>\n",
       "    </tr>\n",
       "    <tr>\n",
       "      <th>10</th>\n",
       "      <td>2024-09</td>\n",
       "      <td>1</td>\n",
       "      <td>-0.386642</td>\n",
       "    </tr>\n",
       "    <tr>\n",
       "      <th>11</th>\n",
       "      <td>2024-09</td>\n",
       "      <td>3</td>\n",
       "      <td>-1.071414</td>\n",
       "    </tr>\n",
       "    <tr>\n",
       "      <th>12</th>\n",
       "      <td>2024-10</td>\n",
       "      <td>1</td>\n",
       "      <td>0.920130</td>\n",
       "    </tr>\n",
       "    <tr>\n",
       "      <th>13</th>\n",
       "      <td>2024-10</td>\n",
       "      <td>3</td>\n",
       "      <td>-0.475338</td>\n",
       "    </tr>\n",
       "    <tr>\n",
       "      <th>14</th>\n",
       "      <td>2024-11</td>\n",
       "      <td>1</td>\n",
       "      <td>-1.062108</td>\n",
       "    </tr>\n",
       "    <tr>\n",
       "      <th>15</th>\n",
       "      <td>2024-11</td>\n",
       "      <td>3</td>\n",
       "      <td>-0.398081</td>\n",
       "    </tr>\n",
       "    <tr>\n",
       "      <th>16</th>\n",
       "      <td>2024-12</td>\n",
       "      <td>1</td>\n",
       "      <td>0.703994</td>\n",
       "    </tr>\n",
       "    <tr>\n",
       "      <th>17</th>\n",
       "      <td>2024-12</td>\n",
       "      <td>3</td>\n",
       "      <td>-1.202275</td>\n",
       "    </tr>\n",
       "    <tr>\n",
       "      <th>18</th>\n",
       "      <td>2025-01</td>\n",
       "      <td>1</td>\n",
       "      <td>-1.624728</td>\n",
       "    </tr>\n",
       "    <tr>\n",
       "      <th>19</th>\n",
       "      <td>2025-01</td>\n",
       "      <td>3</td>\n",
       "      <td>-0.448258</td>\n",
       "    </tr>\n",
       "    <tr>\n",
       "      <th>20</th>\n",
       "      <td>2025-02</td>\n",
       "      <td>1</td>\n",
       "      <td>1.071238</td>\n",
       "    </tr>\n",
       "    <tr>\n",
       "      <th>21</th>\n",
       "      <td>2025-02</td>\n",
       "      <td>3</td>\n",
       "      <td>3.542412</td>\n",
       "    </tr>\n",
       "    <tr>\n",
       "      <th>22</th>\n",
       "      <td>2025-03</td>\n",
       "      <td>1</td>\n",
       "      <td>-1.056015</td>\n",
       "    </tr>\n",
       "    <tr>\n",
       "      <th>23</th>\n",
       "      <td>2025-03</td>\n",
       "      <td>3</td>\n",
       "      <td>-2.076699</td>\n",
       "    </tr>\n",
       "  </tbody>\n",
       "</table>\n",
       "</div>"
      ],
      "text/plain": [
       "        MES  FK_RUTA  MEJORA_FRECUENCIA\n",
       "0   2024-04        1                NaN\n",
       "1   2024-04        3                NaN\n",
       "2   2024-05        1           1.574091\n",
       "3   2024-05        3          -0.236936\n",
       "4   2024-06        1           2.425575\n",
       "5   2024-06        3          -5.181113\n",
       "6   2024-07        1           0.713457\n",
       "7   2024-07        3           4.404718\n",
       "8   2024-08        1           0.169379\n",
       "9   2024-08        3          -0.145661\n",
       "10  2024-09        1          -0.386642\n",
       "11  2024-09        3          -1.071414\n",
       "12  2024-10        1           0.920130\n",
       "13  2024-10        3          -0.475338\n",
       "14  2024-11        1          -1.062108\n",
       "15  2024-11        3          -0.398081\n",
       "16  2024-12        1           0.703994\n",
       "17  2024-12        3          -1.202275\n",
       "18  2025-01        1          -1.624728\n",
       "19  2025-01        3          -0.448258\n",
       "20  2025-02        1           1.071238\n",
       "21  2025-02        3           3.542412\n",
       "22  2025-03        1          -1.056015\n",
       "23  2025-03        3          -2.076699"
      ]
     },
     "execution_count": 67,
     "metadata": {},
     "output_type": "execute_result"
    }
   ],
   "source": [
    "kpi_mensual = df_promedios.groupby(['MES', 'FK_RUTA'])['MEJORA_FRECUENCIA'].mean().reset_index()\n",
    "\n",
    "kpi_mensual"
   ]
  },
  {
   "cell_type": "code",
   "execution_count": 68,
   "metadata": {},
   "outputs": [
    {
     "data": {
      "application/vnd.plotly.v1+json": {
       "config": {
        "plotlyServerURL": "https://plot.ly"
       },
       "data": [
        {
         "hovertemplate": "Ruta=1<br>Mes=%{x}<br>Mejora de Frecuencia (minutos)=%{y}<extra></extra>",
         "legendgroup": "1",
         "line": {
          "color": "#636efa",
          "dash": "solid"
         },
         "marker": {
          "symbol": "circle"
         },
         "mode": "lines+markers",
         "name": "1",
         "orientation": "v",
         "showlegend": true,
         "type": "scatter",
         "x": [
          "2024-04-01T00:00:00.000000000",
          "2024-05-01T00:00:00.000000000",
          "2024-06-01T00:00:00.000000000",
          "2024-07-01T00:00:00.000000000",
          "2024-08-01T00:00:00.000000000",
          "2024-09-01T00:00:00.000000000",
          "2024-10-01T00:00:00.000000000",
          "2024-11-01T00:00:00.000000000",
          "2024-12-01T00:00:00.000000000",
          "2025-01-01T00:00:00.000000000",
          "2025-02-01T00:00:00.000000000",
          "2025-03-01T00:00:00.000000000"
         ],
         "xaxis": "x",
         "y": {
          "bdata": "AAAAAAAA+H+BMbx0ei/5P9lxB/aTZwNAYvoxsaTU5j9uwX21Mq7FP85CPGW9vti/rZPd7bRx7T+Ag5T/ZP7wvzqzJ3cdh+Y/DAsvbuL++b/taGaOyiPxPw/gdD1w5fC/",
          "dtype": "f8"
         },
         "yaxis": "y"
        },
        {
         "hovertemplate": "Ruta=3<br>Mes=%{x}<br>Mejora de Frecuencia (minutos)=%{y}<extra></extra>",
         "legendgroup": "3",
         "line": {
          "color": "#EF553B",
          "dash": "solid"
         },
         "marker": {
          "symbol": "circle"
         },
         "mode": "lines+markers",
         "name": "3",
         "orientation": "v",
         "showlegend": true,
         "type": "scatter",
         "x": [
          "2024-04-01T00:00:00.000000000",
          "2024-05-01T00:00:00.000000000",
          "2024-06-01T00:00:00.000000000",
          "2024-07-01T00:00:00.000000000",
          "2024-08-01T00:00:00.000000000",
          "2024-09-01T00:00:00.000000000",
          "2024-10-01T00:00:00.000000000",
          "2024-11-01T00:00:00.000000000",
          "2024-12-01T00:00:00.000000000",
          "2025-01-01T00:00:00.000000000",
          "2025-02-01T00:00:00.000000000",
          "2025-03-01T00:00:00.000000000"
         ],
         "xaxis": "x",
         "y": {
          "bdata": "AAAAAAAA+H/iz4pe61POv5Cm2K11uRTAycINV26eEUA1NFD5CKXCvxmQ9JeCJPG/Glc7ZPFr3r9p4SYlKXrZv9fcqYSEPPO/yrKW+kOw3L/FkZbg21YMQPGspnUUnQDA",
          "dtype": "f8"
         },
         "yaxis": "y"
        }
       ],
       "layout": {
        "annotations": [
         {
          "showarrow": false,
          "text": "Sin Mejora",
          "x": 0,
          "xanchor": "left",
          "xref": "x domain",
          "y": 0,
          "yanchor": "bottom",
          "yref": "y"
         }
        ],
        "hovermode": "x unified",
        "legend": {
         "title": {
          "text": "Ruta"
         },
         "tracegroupgap": 0
        },
        "shapes": [
         {
          "line": {
           "color": "gray",
           "dash": "dash"
          },
          "type": "line",
          "x0": 0,
          "x1": 1,
          "xref": "x domain",
          "y0": 0,
          "y1": 0,
          "yref": "y"
         }
        ],
        "template": {
         "data": {
          "bar": [
           {
            "error_x": {
             "color": "#2a3f5f"
            },
            "error_y": {
             "color": "#2a3f5f"
            },
            "marker": {
             "line": {
              "color": "white",
              "width": 0.5
             },
             "pattern": {
              "fillmode": "overlay",
              "size": 10,
              "solidity": 0.2
             }
            },
            "type": "bar"
           }
          ],
          "barpolar": [
           {
            "marker": {
             "line": {
              "color": "white",
              "width": 0.5
             },
             "pattern": {
              "fillmode": "overlay",
              "size": 10,
              "solidity": 0.2
             }
            },
            "type": "barpolar"
           }
          ],
          "carpet": [
           {
            "aaxis": {
             "endlinecolor": "#2a3f5f",
             "gridcolor": "#C8D4E3",
             "linecolor": "#C8D4E3",
             "minorgridcolor": "#C8D4E3",
             "startlinecolor": "#2a3f5f"
            },
            "baxis": {
             "endlinecolor": "#2a3f5f",
             "gridcolor": "#C8D4E3",
             "linecolor": "#C8D4E3",
             "minorgridcolor": "#C8D4E3",
             "startlinecolor": "#2a3f5f"
            },
            "type": "carpet"
           }
          ],
          "choropleth": [
           {
            "colorbar": {
             "outlinewidth": 0,
             "ticks": ""
            },
            "type": "choropleth"
           }
          ],
          "contour": [
           {
            "colorbar": {
             "outlinewidth": 0,
             "ticks": ""
            },
            "colorscale": [
             [
              0,
              "#0d0887"
             ],
             [
              0.1111111111111111,
              "#46039f"
             ],
             [
              0.2222222222222222,
              "#7201a8"
             ],
             [
              0.3333333333333333,
              "#9c179e"
             ],
             [
              0.4444444444444444,
              "#bd3786"
             ],
             [
              0.5555555555555556,
              "#d8576b"
             ],
             [
              0.6666666666666666,
              "#ed7953"
             ],
             [
              0.7777777777777778,
              "#fb9f3a"
             ],
             [
              0.8888888888888888,
              "#fdca26"
             ],
             [
              1,
              "#f0f921"
             ]
            ],
            "type": "contour"
           }
          ],
          "contourcarpet": [
           {
            "colorbar": {
             "outlinewidth": 0,
             "ticks": ""
            },
            "type": "contourcarpet"
           }
          ],
          "heatmap": [
           {
            "colorbar": {
             "outlinewidth": 0,
             "ticks": ""
            },
            "colorscale": [
             [
              0,
              "#0d0887"
             ],
             [
              0.1111111111111111,
              "#46039f"
             ],
             [
              0.2222222222222222,
              "#7201a8"
             ],
             [
              0.3333333333333333,
              "#9c179e"
             ],
             [
              0.4444444444444444,
              "#bd3786"
             ],
             [
              0.5555555555555556,
              "#d8576b"
             ],
             [
              0.6666666666666666,
              "#ed7953"
             ],
             [
              0.7777777777777778,
              "#fb9f3a"
             ],
             [
              0.8888888888888888,
              "#fdca26"
             ],
             [
              1,
              "#f0f921"
             ]
            ],
            "type": "heatmap"
           }
          ],
          "histogram": [
           {
            "marker": {
             "pattern": {
              "fillmode": "overlay",
              "size": 10,
              "solidity": 0.2
             }
            },
            "type": "histogram"
           }
          ],
          "histogram2d": [
           {
            "colorbar": {
             "outlinewidth": 0,
             "ticks": ""
            },
            "colorscale": [
             [
              0,
              "#0d0887"
             ],
             [
              0.1111111111111111,
              "#46039f"
             ],
             [
              0.2222222222222222,
              "#7201a8"
             ],
             [
              0.3333333333333333,
              "#9c179e"
             ],
             [
              0.4444444444444444,
              "#bd3786"
             ],
             [
              0.5555555555555556,
              "#d8576b"
             ],
             [
              0.6666666666666666,
              "#ed7953"
             ],
             [
              0.7777777777777778,
              "#fb9f3a"
             ],
             [
              0.8888888888888888,
              "#fdca26"
             ],
             [
              1,
              "#f0f921"
             ]
            ],
            "type": "histogram2d"
           }
          ],
          "histogram2dcontour": [
           {
            "colorbar": {
             "outlinewidth": 0,
             "ticks": ""
            },
            "colorscale": [
             [
              0,
              "#0d0887"
             ],
             [
              0.1111111111111111,
              "#46039f"
             ],
             [
              0.2222222222222222,
              "#7201a8"
             ],
             [
              0.3333333333333333,
              "#9c179e"
             ],
             [
              0.4444444444444444,
              "#bd3786"
             ],
             [
              0.5555555555555556,
              "#d8576b"
             ],
             [
              0.6666666666666666,
              "#ed7953"
             ],
             [
              0.7777777777777778,
              "#fb9f3a"
             ],
             [
              0.8888888888888888,
              "#fdca26"
             ],
             [
              1,
              "#f0f921"
             ]
            ],
            "type": "histogram2dcontour"
           }
          ],
          "mesh3d": [
           {
            "colorbar": {
             "outlinewidth": 0,
             "ticks": ""
            },
            "type": "mesh3d"
           }
          ],
          "parcoords": [
           {
            "line": {
             "colorbar": {
              "outlinewidth": 0,
              "ticks": ""
             }
            },
            "type": "parcoords"
           }
          ],
          "pie": [
           {
            "automargin": true,
            "type": "pie"
           }
          ],
          "scatter": [
           {
            "fillpattern": {
             "fillmode": "overlay",
             "size": 10,
             "solidity": 0.2
            },
            "type": "scatter"
           }
          ],
          "scatter3d": [
           {
            "line": {
             "colorbar": {
              "outlinewidth": 0,
              "ticks": ""
             }
            },
            "marker": {
             "colorbar": {
              "outlinewidth": 0,
              "ticks": ""
             }
            },
            "type": "scatter3d"
           }
          ],
          "scattercarpet": [
           {
            "marker": {
             "colorbar": {
              "outlinewidth": 0,
              "ticks": ""
             }
            },
            "type": "scattercarpet"
           }
          ],
          "scattergeo": [
           {
            "marker": {
             "colorbar": {
              "outlinewidth": 0,
              "ticks": ""
             }
            },
            "type": "scattergeo"
           }
          ],
          "scattergl": [
           {
            "marker": {
             "colorbar": {
              "outlinewidth": 0,
              "ticks": ""
             }
            },
            "type": "scattergl"
           }
          ],
          "scattermap": [
           {
            "marker": {
             "colorbar": {
              "outlinewidth": 0,
              "ticks": ""
             }
            },
            "type": "scattermap"
           }
          ],
          "scattermapbox": [
           {
            "marker": {
             "colorbar": {
              "outlinewidth": 0,
              "ticks": ""
             }
            },
            "type": "scattermapbox"
           }
          ],
          "scatterpolar": [
           {
            "marker": {
             "colorbar": {
              "outlinewidth": 0,
              "ticks": ""
             }
            },
            "type": "scatterpolar"
           }
          ],
          "scatterpolargl": [
           {
            "marker": {
             "colorbar": {
              "outlinewidth": 0,
              "ticks": ""
             }
            },
            "type": "scatterpolargl"
           }
          ],
          "scatterternary": [
           {
            "marker": {
             "colorbar": {
              "outlinewidth": 0,
              "ticks": ""
             }
            },
            "type": "scatterternary"
           }
          ],
          "surface": [
           {
            "colorbar": {
             "outlinewidth": 0,
             "ticks": ""
            },
            "colorscale": [
             [
              0,
              "#0d0887"
             ],
             [
              0.1111111111111111,
              "#46039f"
             ],
             [
              0.2222222222222222,
              "#7201a8"
             ],
             [
              0.3333333333333333,
              "#9c179e"
             ],
             [
              0.4444444444444444,
              "#bd3786"
             ],
             [
              0.5555555555555556,
              "#d8576b"
             ],
             [
              0.6666666666666666,
              "#ed7953"
             ],
             [
              0.7777777777777778,
              "#fb9f3a"
             ],
             [
              0.8888888888888888,
              "#fdca26"
             ],
             [
              1,
              "#f0f921"
             ]
            ],
            "type": "surface"
           }
          ],
          "table": [
           {
            "cells": {
             "fill": {
              "color": "#EBF0F8"
             },
             "line": {
              "color": "white"
             }
            },
            "header": {
             "fill": {
              "color": "#C8D4E3"
             },
             "line": {
              "color": "white"
             }
            },
            "type": "table"
           }
          ]
         },
         "layout": {
          "annotationdefaults": {
           "arrowcolor": "#2a3f5f",
           "arrowhead": 0,
           "arrowwidth": 1
          },
          "autotypenumbers": "strict",
          "coloraxis": {
           "colorbar": {
            "outlinewidth": 0,
            "ticks": ""
           }
          },
          "colorscale": {
           "diverging": [
            [
             0,
             "#8e0152"
            ],
            [
             0.1,
             "#c51b7d"
            ],
            [
             0.2,
             "#de77ae"
            ],
            [
             0.3,
             "#f1b6da"
            ],
            [
             0.4,
             "#fde0ef"
            ],
            [
             0.5,
             "#f7f7f7"
            ],
            [
             0.6,
             "#e6f5d0"
            ],
            [
             0.7,
             "#b8e186"
            ],
            [
             0.8,
             "#7fbc41"
            ],
            [
             0.9,
             "#4d9221"
            ],
            [
             1,
             "#276419"
            ]
           ],
           "sequential": [
            [
             0,
             "#0d0887"
            ],
            [
             0.1111111111111111,
             "#46039f"
            ],
            [
             0.2222222222222222,
             "#7201a8"
            ],
            [
             0.3333333333333333,
             "#9c179e"
            ],
            [
             0.4444444444444444,
             "#bd3786"
            ],
            [
             0.5555555555555556,
             "#d8576b"
            ],
            [
             0.6666666666666666,
             "#ed7953"
            ],
            [
             0.7777777777777778,
             "#fb9f3a"
            ],
            [
             0.8888888888888888,
             "#fdca26"
            ],
            [
             1,
             "#f0f921"
            ]
           ],
           "sequentialminus": [
            [
             0,
             "#0d0887"
            ],
            [
             0.1111111111111111,
             "#46039f"
            ],
            [
             0.2222222222222222,
             "#7201a8"
            ],
            [
             0.3333333333333333,
             "#9c179e"
            ],
            [
             0.4444444444444444,
             "#bd3786"
            ],
            [
             0.5555555555555556,
             "#d8576b"
            ],
            [
             0.6666666666666666,
             "#ed7953"
            ],
            [
             0.7777777777777778,
             "#fb9f3a"
            ],
            [
             0.8888888888888888,
             "#fdca26"
            ],
            [
             1,
             "#f0f921"
            ]
           ]
          },
          "colorway": [
           "#636efa",
           "#EF553B",
           "#00cc96",
           "#ab63fa",
           "#FFA15A",
           "#19d3f3",
           "#FF6692",
           "#B6E880",
           "#FF97FF",
           "#FECB52"
          ],
          "font": {
           "color": "#2a3f5f"
          },
          "geo": {
           "bgcolor": "white",
           "lakecolor": "white",
           "landcolor": "white",
           "showlakes": true,
           "showland": true,
           "subunitcolor": "#C8D4E3"
          },
          "hoverlabel": {
           "align": "left"
          },
          "hovermode": "closest",
          "mapbox": {
           "style": "light"
          },
          "paper_bgcolor": "white",
          "plot_bgcolor": "white",
          "polar": {
           "angularaxis": {
            "gridcolor": "#EBF0F8",
            "linecolor": "#EBF0F8",
            "ticks": ""
           },
           "bgcolor": "white",
           "radialaxis": {
            "gridcolor": "#EBF0F8",
            "linecolor": "#EBF0F8",
            "ticks": ""
           }
          },
          "scene": {
           "xaxis": {
            "backgroundcolor": "white",
            "gridcolor": "#DFE8F3",
            "gridwidth": 2,
            "linecolor": "#EBF0F8",
            "showbackground": true,
            "ticks": "",
            "zerolinecolor": "#EBF0F8"
           },
           "yaxis": {
            "backgroundcolor": "white",
            "gridcolor": "#DFE8F3",
            "gridwidth": 2,
            "linecolor": "#EBF0F8",
            "showbackground": true,
            "ticks": "",
            "zerolinecolor": "#EBF0F8"
           },
           "zaxis": {
            "backgroundcolor": "white",
            "gridcolor": "#DFE8F3",
            "gridwidth": 2,
            "linecolor": "#EBF0F8",
            "showbackground": true,
            "ticks": "",
            "zerolinecolor": "#EBF0F8"
           }
          },
          "shapedefaults": {
           "line": {
            "color": "#2a3f5f"
           }
          },
          "ternary": {
           "aaxis": {
            "gridcolor": "#DFE8F3",
            "linecolor": "#A2B1C6",
            "ticks": ""
           },
           "baxis": {
            "gridcolor": "#DFE8F3",
            "linecolor": "#A2B1C6",
            "ticks": ""
           },
           "bgcolor": "white",
           "caxis": {
            "gridcolor": "#DFE8F3",
            "linecolor": "#A2B1C6",
            "ticks": ""
           }
          },
          "title": {
           "x": 0.05
          },
          "xaxis": {
           "automargin": true,
           "gridcolor": "#EBF0F8",
           "linecolor": "#EBF0F8",
           "ticks": "",
           "title": {
            "standoff": 15
           },
           "zerolinecolor": "#EBF0F8",
           "zerolinewidth": 2
          },
          "yaxis": {
           "automargin": true,
           "gridcolor": "#EBF0F8",
           "linecolor": "#EBF0F8",
           "ticks": "",
           "title": {
            "standoff": 15
           },
           "zerolinecolor": "#EBF0F8",
           "zerolinewidth": 2
          }
         }
        },
        "title": {
         "text": "KPI: Mejora de Tiempo Promedio entre Despachos (por Mes y Ruta)"
        },
        "xaxis": {
         "anchor": "y",
         "domain": [
          0,
          1
         ],
         "tickformat": "%b %Y",
         "title": {
          "text": "Mes"
         }
        },
        "yaxis": {
         "anchor": "x",
         "domain": [
          0,
          1
         ],
         "title": {
          "text": "Mejora de Frecuencia (minutos)"
         }
        }
       }
      }
     },
     "metadata": {},
     "output_type": "display_data"
    }
   ],
   "source": [
    "import plotly.express as px\n",
    "import plotly.graph_objects as go\n",
    "\n",
    "# Asegurar que la columna MES esté en formato datetime\n",
    "df_kpi = kpi_mensual.copy()\n",
    "df_kpi['MES'] = pd.to_datetime(df_kpi['MES'].astype(str))\n",
    "\n",
    "# Crear gráfico con líneas y marcadores por ruta\n",
    "fig = px.line(\n",
    "    df_kpi,\n",
    "    x='MES',\n",
    "    y='MEJORA_FRECUENCIA',\n",
    "    color='FK_RUTA',\n",
    "    markers=True,\n",
    "    title='KPI: Mejora de Tiempo Promedio entre Despachos (por Mes y Ruta)',\n",
    "    labels={\n",
    "        'MES': 'Mes',\n",
    "        'MEJORA_FRECUENCIA': 'Mejora de Frecuencia (minutos)',\n",
    "        'FK_RUTA': 'Ruta'\n",
    "    }\n",
    ")\n",
    "\n",
    "# Línea base horizontal en y=0 (sin mejora)\n",
    "fig.add_hline(\n",
    "    y=0,\n",
    "    line_dash=\"dash\",\n",
    "    line_color=\"gray\",\n",
    "    annotation_text=\"Sin Mejora\",\n",
    "    annotation_position=\"top left\"\n",
    ")\n",
    "\n",
    "# Estilo del gráfico\n",
    "fig.update_layout(\n",
    "    xaxis=dict(\n",
    "        title=\"Mes\",\n",
    "        tickformat=\"%b %Y\"\n",
    "    ),\n",
    "    yaxis_title=\"Mejora de Frecuencia (minutos)\",\n",
    "    hovermode=\"x unified\",\n",
    "    template=\"plotly_white\",\n",
    "    legend_title_text=\"Ruta\"\n",
    ")\n",
    "\n",
    "fig.show()\n"
   ]
  },
  {
   "cell_type": "markdown",
   "metadata": {},
   "source": [
    "Valores por encima de 0: indican que la frecuencia de despacho mejoró (se redujo el tiempo entre despachos).\n",
    "\n",
    "Valores por debajo de 0: indican que la frecuencia empeoró respecto al mes anterior."
   ]
  },
  {
   "cell_type": "markdown",
   "metadata": {},
   "source": [
    "En junio 2024, la Ruta 3 presenta un gran empeoramiento de casi -5 minutos.\n",
    "\n",
    "En julio 2024, hay una fuerte mejora para la Ruta 3, lo cual puede indicar algún cambio operativo positivo.\n",
    "\n",
    "Para la Ruta 1, se observa una mejora sostenida entre mayo y julio, pero cierta inestabilidad posterior.\n",
    "\n",
    "En febrero 2025, ambas rutas muestran mejora, especialmente la Ruta 3.\n",
    "\n"
   ]
  }
 ],
 "metadata": {
  "kernelspec": {
   "display_name": "etl",
   "language": "python",
   "name": "python3"
  },
  "language_info": {
   "codemirror_mode": {
    "name": "ipython",
    "version": 3
   },
   "file_extension": ".py",
   "mimetype": "text/x-python",
   "name": "python",
   "nbconvert_exporter": "python",
   "pygments_lexer": "ipython3",
   "version": "3.13.2"
  }
 },
 "nbformat": 4,
 "nbformat_minor": 2
}
