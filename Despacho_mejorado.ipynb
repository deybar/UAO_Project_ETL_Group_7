{
 "cells": [
  {
   "cell_type": "markdown",
   "metadata": {},
   "source": [
    "# Tiempo promedio mejorado entre despachos\n"
   ]
  },
  {
   "cell_type": "code",
   "execution_count": 7,
   "metadata": {},
   "outputs": [],
   "source": [
    "import pandas as pd  # Para manipulación y análisis de datos\n",
    "import numpy as np  # Para cálculos numéricos y manejo de arrays\n",
    "import matplotlib.pyplot as plt  # Para visualización de datos"
   ]
  },
  {
   "cell_type": "markdown",
   "metadata": {},
   "source": [
    "## Se realiza la carga del archivo con los datos filtrados"
   ]
  },
  {
   "cell_type": "code",
   "execution_count": 8,
   "metadata": {},
   "outputs": [
    {
     "data": {
      "text/html": [
       "<div>\n",
       "<style scoped>\n",
       "    .dataframe tbody tr th:only-of-type {\n",
       "        vertical-align: middle;\n",
       "    }\n",
       "\n",
       "    .dataframe tbody tr th {\n",
       "        vertical-align: top;\n",
       "    }\n",
       "\n",
       "    .dataframe thead th {\n",
       "        text-align: right;\n",
       "    }\n",
       "</style>\n",
       "<table border=\"1\" class=\"dataframe\">\n",
       "  <thead>\n",
       "    <tr style=\"text-align: right;\">\n",
       "      <th></th>\n",
       "      <th>FECHA_INICIAL</th>\n",
       "      <th>HORA_INICIAL_PLAN</th>\n",
       "      <th>HORA_INICIAL_REAL</th>\n",
       "      <th>HORA_INICIAL_AUX</th>\n",
       "      <th>FECHA_FINAL</th>\n",
       "      <th>HORA_FINAL_PLAN</th>\n",
       "      <th>HORA_FINAL_REAL</th>\n",
       "      <th>HORA_FINAL_AUX</th>\n",
       "      <th>FK_RUTA</th>\n",
       "      <th>PASAJEROS</th>\n",
       "      <th>DISTANCIA</th>\n",
       "      <th>FK_VEHICULO</th>\n",
       "      <th>FK_CONDUCTOR</th>\n",
       "      <th>ESTADO_DESPACHO</th>\n",
       "      <th>PK_INTERVALO_DESPACHO</th>\n",
       "      <th>PK_INFORMACION_REGISTRADORA</th>\n",
       "      <th>DIA_SEMANA</th>\n",
       "    </tr>\n",
       "  </thead>\n",
       "  <tbody>\n",
       "    <tr>\n",
       "      <th>0</th>\n",
       "      <td>2024-04-22</td>\n",
       "      <td>4:02:00</td>\n",
       "      <td>NaN</td>\n",
       "      <td>0:00:00</td>\n",
       "      <td>2024-04-22</td>\n",
       "      <td>6:02:00</td>\n",
       "      <td>5:41:15</td>\n",
       "      <td>5:41:15</td>\n",
       "      <td>5</td>\n",
       "      <td>38</td>\n",
       "      <td>35000</td>\n",
       "      <td>51</td>\n",
       "      <td>38</td>\n",
       "      <td>2</td>\n",
       "      <td>245816</td>\n",
       "      <td>348363</td>\n",
       "      <td>Monday</td>\n",
       "    </tr>\n",
       "    <tr>\n",
       "      <th>1</th>\n",
       "      <td>2024-04-22</td>\n",
       "      <td>4:27:00</td>\n",
       "      <td>NaN</td>\n",
       "      <td>0:00:00</td>\n",
       "      <td>2024-04-22</td>\n",
       "      <td>7:26:00</td>\n",
       "      <td>6:39:44</td>\n",
       "      <td>6:05:01</td>\n",
       "      <td>3</td>\n",
       "      <td>49</td>\n",
       "      <td>36000</td>\n",
       "      <td>56</td>\n",
       "      <td>255</td>\n",
       "      <td>2</td>\n",
       "      <td>245818</td>\n",
       "      <td>348365</td>\n",
       "      <td>Monday</td>\n",
       "    </tr>\n",
       "    <tr>\n",
       "      <th>2</th>\n",
       "      <td>2024-04-22</td>\n",
       "      <td>4:12:00</td>\n",
       "      <td>NaN</td>\n",
       "      <td>0:00:00</td>\n",
       "      <td>2024-04-22</td>\n",
       "      <td>7:11:00</td>\n",
       "      <td>6:26:05</td>\n",
       "      <td>6:26:05</td>\n",
       "      <td>3</td>\n",
       "      <td>53</td>\n",
       "      <td>43600</td>\n",
       "      <td>22</td>\n",
       "      <td>321</td>\n",
       "      <td>2</td>\n",
       "      <td>245817</td>\n",
       "      <td>348366</td>\n",
       "      <td>Monday</td>\n",
       "    </tr>\n",
       "    <tr>\n",
       "      <th>3</th>\n",
       "      <td>2024-04-22</td>\n",
       "      <td>4:50:00</td>\n",
       "      <td>4:45:37</td>\n",
       "      <td>4:56:42</td>\n",
       "      <td>2024-04-22</td>\n",
       "      <td>7:01:00</td>\n",
       "      <td>6:30:07</td>\n",
       "      <td>6:30:07</td>\n",
       "      <td>6</td>\n",
       "      <td>30</td>\n",
       "      <td>31500</td>\n",
       "      <td>66</td>\n",
       "      <td>304</td>\n",
       "      <td>2</td>\n",
       "      <td>245820</td>\n",
       "      <td>348367</td>\n",
       "      <td>Monday</td>\n",
       "    </tr>\n",
       "    <tr>\n",
       "      <th>4</th>\n",
       "      <td>2024-04-22</td>\n",
       "      <td>4:33:00</td>\n",
       "      <td>NaN</td>\n",
       "      <td>0:00:00</td>\n",
       "      <td>2024-04-22</td>\n",
       "      <td>7:32:00</td>\n",
       "      <td>6:46:17</td>\n",
       "      <td>6:46:17</td>\n",
       "      <td>3</td>\n",
       "      <td>35</td>\n",
       "      <td>41400</td>\n",
       "      <td>37</td>\n",
       "      <td>26</td>\n",
       "      <td>2</td>\n",
       "      <td>245819</td>\n",
       "      <td>348369</td>\n",
       "      <td>Monday</td>\n",
       "    </tr>\n",
       "  </tbody>\n",
       "</table>\n",
       "</div>"
      ],
      "text/plain": [
       "  FECHA_INICIAL HORA_INICIAL_PLAN HORA_INICIAL_REAL HORA_INICIAL_AUX  \\\n",
       "0    2024-04-22           4:02:00               NaN          0:00:00   \n",
       "1    2024-04-22           4:27:00               NaN          0:00:00   \n",
       "2    2024-04-22           4:12:00               NaN          0:00:00   \n",
       "3    2024-04-22           4:50:00           4:45:37          4:56:42   \n",
       "4    2024-04-22           4:33:00               NaN          0:00:00   \n",
       "\n",
       "  FECHA_FINAL HORA_FINAL_PLAN HORA_FINAL_REAL HORA_FINAL_AUX  FK_RUTA  \\\n",
       "0  2024-04-22         6:02:00         5:41:15        5:41:15        5   \n",
       "1  2024-04-22         7:26:00         6:39:44        6:05:01        3   \n",
       "2  2024-04-22         7:11:00         6:26:05        6:26:05        3   \n",
       "3  2024-04-22         7:01:00         6:30:07        6:30:07        6   \n",
       "4  2024-04-22         7:32:00         6:46:17        6:46:17        3   \n",
       "\n",
       "   PASAJEROS  DISTANCIA  FK_VEHICULO  FK_CONDUCTOR  ESTADO_DESPACHO  \\\n",
       "0         38      35000           51            38                2   \n",
       "1         49      36000           56           255                2   \n",
       "2         53      43600           22           321                2   \n",
       "3         30      31500           66           304                2   \n",
       "4         35      41400           37            26                2   \n",
       "\n",
       "   PK_INTERVALO_DESPACHO  PK_INFORMACION_REGISTRADORA DIA_SEMANA  \n",
       "0                 245816                       348363     Monday  \n",
       "1                 245818                       348365     Monday  \n",
       "2                 245817                       348366     Monday  \n",
       "3                 245820                       348367     Monday  \n",
       "4                 245819                       348369     Monday  "
      ]
     },
     "execution_count": 8,
     "metadata": {},
     "output_type": "execute_result"
    }
   ],
   "source": [
    "# Cargar el conjunto de datos desde un archivo CSV\n",
    "# Asegúrate de reemplazar 'ruta_al_archivo.csv' con la ruta real de tu archivo\n",
    "ruta_archivo = 'datos_pasajeros_filtrado.csv'\n",
    "df = pd.read_csv(ruta_archivo)\n",
    "\n",
    "# Mostrar las primeras filas del DataFrame para verificar la carga\n",
    "df.head()"
   ]
  },
  {
   "cell_type": "code",
   "execution_count": 9,
   "metadata": {},
   "outputs": [
    {
     "name": "stdout",
     "output_type": "stream",
     "text": [
      "<class 'pandas.core.frame.DataFrame'>\n",
      "RangeIndex: 54645 entries, 0 to 54644\n",
      "Data columns (total 17 columns):\n",
      " #   Column                       Non-Null Count  Dtype \n",
      "---  ------                       --------------  ----- \n",
      " 0   FECHA_INICIAL                54645 non-null  object\n",
      " 1   HORA_INICIAL_PLAN            54645 non-null  object\n",
      " 2   HORA_INICIAL_REAL            53975 non-null  object\n",
      " 3   HORA_INICIAL_AUX             54645 non-null  object\n",
      " 4   FECHA_FINAL                  54645 non-null  object\n",
      " 5   HORA_FINAL_PLAN              54645 non-null  object\n",
      " 6   HORA_FINAL_REAL              48690 non-null  object\n",
      " 7   HORA_FINAL_AUX               54645 non-null  object\n",
      " 8   FK_RUTA                      54645 non-null  int64 \n",
      " 9   PASAJEROS                    54645 non-null  int64 \n",
      " 10  DISTANCIA                    54645 non-null  int64 \n",
      " 11  FK_VEHICULO                  54645 non-null  int64 \n",
      " 12  FK_CONDUCTOR                 54645 non-null  int64 \n",
      " 13  ESTADO_DESPACHO              54645 non-null  int64 \n",
      " 14  PK_INTERVALO_DESPACHO        54645 non-null  int64 \n",
      " 15  PK_INFORMACION_REGISTRADORA  54645 non-null  int64 \n",
      " 16  DIA_SEMANA                   54645 non-null  object\n",
      "dtypes: int64(8), object(9)\n",
      "memory usage: 7.1+ MB\n"
     ]
    }
   ],
   "source": [
    "df.info()"
   ]
  },
  {
   "cell_type": "code",
   "execution_count": 10,
   "metadata": {},
   "outputs": [
    {
     "name": "stdout",
     "output_type": "stream",
     "text": [
      "      FECHA_INICIAL HORA_INICIAL_PLAN HORA_INICIAL_REAL HORA_INICIAL_AUX  \\\n",
      "0        2024-04-22           4:02:00               NaN          0:00:00   \n",
      "1        2024-04-22           4:27:00               NaN          0:00:00   \n",
      "2        2024-04-22           4:12:00               NaN          0:00:00   \n",
      "4        2024-04-22           4:33:00               NaN          0:00:00   \n",
      "8        2024-04-22           4:40:00               NaN          0:00:00   \n",
      "...             ...               ...               ...              ...   \n",
      "53970    2024-12-08           5:40:00               NaN          0:00:00   \n",
      "54387    2025-02-16           4:30:00               NaN          0:00:00   \n",
      "54476    2025-03-02           9:20:00               NaN          9:16:38   \n",
      "54489    2025-03-02          11:55:00               NaN         11:54:54   \n",
      "54496    2025-03-02           9:20:00               NaN         14:18:18   \n",
      "\n",
      "      FECHA_FINAL HORA_FINAL_PLAN HORA_FINAL_REAL HORA_FINAL_AUX  FK_RUTA  \\\n",
      "0      2024-04-22         6:02:00         5:41:15        5:41:15        5   \n",
      "1      2024-04-22         7:26:00         6:39:44        6:05:01        3   \n",
      "2      2024-04-22         7:11:00         6:26:05        6:26:05        3   \n",
      "4      2024-04-22         7:32:00         6:46:17        6:46:17        3   \n",
      "8      2024-04-22         7:39:00         7:07:12        7:07:12        3   \n",
      "...           ...             ...             ...            ...      ...   \n",
      "53970  2024-12-08         8:09:00         7:32:28        7:32:28        3   \n",
      "54387  2025-02-16         7:17:00         6:19:04        6:19:04        3   \n",
      "54476  2025-03-02        11:46:00        16:34:06       11:39:10        1   \n",
      "54489  2025-03-02        14:21:00             NaN       13:57:39        1   \n",
      "54496  2025-03-02        11:46:00        16:34:06       16:34:06        1   \n",
      "\n",
      "       PASAJEROS  DISTANCIA  FK_VEHICULO  FK_CONDUCTOR  ESTADO_DESPACHO  \\\n",
      "0             38      35000           51            38                2   \n",
      "1             49      36000           56           255                2   \n",
      "2             53      43600           22           321                2   \n",
      "4             35      41400           37            26                2   \n",
      "8             50      35000           43            55                2   \n",
      "...          ...        ...          ...           ...              ...   \n",
      "53970         22      35400           38            48                2   \n",
      "54387         35      31000           43            55                2   \n",
      "54476         49      35200           84            35                4   \n",
      "54489         36      35200           84            35                0   \n",
      "54496         32      38100           84            35                4   \n",
      "\n",
      "       PK_INTERVALO_DESPACHO  PK_INFORMACION_REGISTRADORA DIA_SEMANA  \n",
      "0                     245816                       348363     Monday  \n",
      "1                     245818                       348365     Monday  \n",
      "2                     245817                       348366     Monday  \n",
      "4                     245819                       348369     Monday  \n",
      "8                     245832                       348374     Monday  \n",
      "...                      ...                          ...        ...  \n",
      "53970                 285521                       393910     Sunday  \n",
      "54387                 296209                       406058     Sunday  \n",
      "54476                 298379                       408585     Sunday  \n",
      "54489                 298391                       408598     Sunday  \n",
      "54496                 298379                       408605     Sunday  \n",
      "\n",
      "[670 rows x 17 columns]\n",
      "Total de valores nulos en 'HORA_INICIAL_REAL': 670\n"
     ]
    }
   ],
   "source": [
    "# Filtrar los registros donde 'HORA_INICIAL_REAL' sea nulo o vacío\n",
    "valores_nulos = df[df['HORA_INICIAL_REAL'].isnull()]\n",
    "\n",
    "# Mostrar los registros con valores nulos en 'HORA_INICIAL_REAL'\n",
    "print(valores_nulos)\n",
    "\n",
    "# Mostrar el número total de valores nulos en 'HORA_INICIAL_REAL'\n",
    "print(f\"Total de valores nulos en 'HORA_INICIAL_REAL': {valores_nulos.shape[0]}\")"
   ]
  },
  {
   "cell_type": "markdown",
   "metadata": {},
   "source": [
    "## Por regla del negocio los vehiculos cque han sido planificados para despacho a muy tempranas horas de la mañana no salen del punto de origen, esto ocaciona que en la base de datos existan registros nulos o vacios en el campo HORA_INICIAL_REAL. Pero efectivamente los vehiculos estan prestando el servicio.\n",
    "Por lo tanto aquellos datos nulos o vacios en este campo se reemplazan por los registros en el campo HORA_INICIAL_PLAN\n",
    "A continuación se realiza el procedimiento."
   ]
  },
  {
   "cell_type": "code",
   "execution_count": 11,
   "metadata": {},
   "outputs": [
    {
     "name": "stdout",
     "output_type": "stream",
     "text": [
      "    HORA_INICIAL_PLAN     HORA_FINAL_PLAN   HORA_INICIAL_REAL\n",
      "0 2024-04-22 04:02:00 2024-04-22 06:02:00 2024-04-22 04:02:00\n",
      "1 2024-04-22 04:27:00 2024-04-22 07:26:00 2024-04-22 04:27:00\n",
      "2 2024-04-22 04:12:00 2024-04-22 07:11:00 2024-04-22 04:12:00\n",
      "3 2024-04-22 04:50:00 2024-04-22 07:01:00 2024-04-22 04:45:37\n",
      "4 2024-04-22 04:33:00 2024-04-22 07:32:00 2024-04-22 04:33:00\n"
     ]
    }
   ],
   "source": [
    "# Verificar y convertir las columnas de tiempo solo si no están en formato datetime\n",
    "if not pd.api.types.is_datetime64_any_dtype(df['HORA_FINAL_PLAN']):\n",
    "    df['HORA_FINAL_PLAN'] = pd.to_datetime(df['FECHA_INICIAL'].astype(str) + ' ' + df['HORA_FINAL_PLAN'], errors='coerce')\n",
    "\n",
    "if not pd.api.types.is_datetime64_any_dtype(df['HORA_FINAL_REAL']):\n",
    "    df['HORA_FINAL_REAL'] = pd.to_datetime(df['FECHA_INICIAL'].astype(str) + ' ' + df['HORA_FINAL_REAL'], errors='coerce')\n",
    "\n",
    "if not pd.api.types.is_datetime64_any_dtype(df['HORA_INICIAL_PLAN']):\n",
    "    df['HORA_INICIAL_PLAN'] = pd.to_datetime(df['FECHA_INICIAL'].astype(str) + ' ' + df['HORA_INICIAL_PLAN'], errors='coerce')\n",
    "\n",
    "if not pd.api.types.is_datetime64_any_dtype(df['HORA_INICIAL_REAL']):\n",
    "    df['HORA_INICIAL_REAL'] = pd.to_datetime(df['FECHA_INICIAL'].astype(str) + ' ' + df['HORA_INICIAL_REAL'], errors='coerce')\n",
    "\n",
    "# Reemplazar los valores nulos en 'HORA_INICIAL_REAL' con los valores de 'HORA_INICIAL_PLAN'\n",
    "df['HORA_INICIAL_REAL'] = df['HORA_INICIAL_REAL'].fillna(df['HORA_INICIAL_PLAN'])\n",
    "\n",
    "\n",
    "# Verificar los cambios\n",
    "print(df[['HORA_INICIAL_PLAN', 'HORA_FINAL_PLAN', 'HORA_INICIAL_REAL']].head())"
   ]
  },
  {
   "cell_type": "markdown",
   "metadata": {},
   "source": [
    "## Calculo de la frecuencia de despacho por ruta y por dia"
   ]
  },
  {
   "cell_type": "code",
   "execution_count": 12,
   "metadata": {},
   "outputs": [
    {
     "name": "stderr",
     "output_type": "stream",
     "text": [
      "C:\\Users\\regis\\AppData\\Local\\Temp\\ipykernel_16088\\550021721.py:38: DeprecationWarning: DataFrameGroupBy.apply operated on the grouping columns. This behavior is deprecated, and in a future version of pandas the grouping columns will be excluded from the operation. Either pass `include_groups=False` to exclude the groupings or explicitly select the grouping columns after groupby to silence this warning.\n",
      "  df = df.groupby('FK_RUTA', group_keys=False).apply(calcular_frecuencia_despacho)\n"
     ]
    },
    {
     "name": "stdout",
     "output_type": "stream",
     "text": [
      "      FK_RUTA FECHA_INICIAL   HORA_INICIAL_REAL  F_DESPACHO\n",
      "7992        1    2024-04-16 2024-04-16 04:38:24    0.000000\n",
      "7994        1    2024-04-16 2024-04-16 04:44:35    6.183333\n",
      "7995        1    2024-04-16 2024-04-16 04:49:51    5.266667\n",
      "7996        1    2024-04-16 2024-04-16 04:56:18    6.450000\n",
      "7998        1    2024-04-16 2024-04-16 05:03:01    6.716667\n"
     ]
    }
   ],
   "source": [
    "# Asegúrate de que las columnas de tiempo estén en formato datetime\n",
    "if not pd.api.types.is_datetime64_any_dtype(df['FECHA_INICIAL']):\n",
    "    df['FECHA_INICIAL'] = pd.to_datetime(df['FECHA_INICIAL'], errors='coerce')\n",
    "\n",
    "if not pd.api.types.is_datetime64_any_dtype(df['HORA_INICIAL_REAL']):\n",
    "    df['HORA_INICIAL_REAL'] = pd.to_datetime(df['HORA_INICIAL_REAL'], errors='coerce')\n",
    "\n",
    "# Crear el nuevo campo 'F_DESPACHO'\n",
    "def calcular_frecuencia_despacho(grupo):\n",
    "    try:\n",
    "        # Ordenar por fecha y hora para asegurar el cálculo correcto\n",
    "        grupo = grupo.sort_values(by=['FECHA_INICIAL', 'HORA_INICIAL_REAL'])\n",
    "        \n",
    "        # Calcular la diferencia en minutos entre registros consecutivos\n",
    "        grupo['F_DESPACHO'] = grupo['HORA_INICIAL_REAL'].diff().dt.total_seconds() / 60\n",
    "        \n",
    "        # Reemplazar el primer valor de cada día con 0 minutos\n",
    "        grupo['DIF_FECHA'] = grupo['FECHA_INICIAL'].diff().dt.days.fillna(0)\n",
    "        grupo.loc[grupo['DIF_FECHA'] != 0, 'F_DESPACHO'] = 0\n",
    "        \n",
    "        # Asegurar que no haya valores nulos en 'F_DESPACHO'\n",
    "        grupo['F_DESPACHO'] = grupo['F_DESPACHO'].fillna(0)\n",
    "        \n",
    "        # Eliminar la columna auxiliar 'DIF_FECHA'\n",
    "        grupo = grupo.drop(columns=['DIF_FECHA'])\n",
    "        \n",
    "    except Exception as e:\n",
    "        # Imprimir el error y los valores problemáticos\n",
    "        print(\"Error en el cálculo de frecuencia de despacho:\")\n",
    "        print(f\"Grupo problemático (FK_RUTA): {grupo['FK_RUTA'].iloc[0] if not grupo.empty else 'Desconocido'}\")\n",
    "        print(f\"Valores del grupo:\\n{grupo[['FECHA_INICIAL', 'HORA_INICIAL_REAL']]}\")\n",
    "        print(f\"Error: {e}\")\n",
    "        raise  # Volver a lanzar la excepción para depuración adicional\n",
    "    \n",
    "    return grupo\n",
    "\n",
    "# Agrupar por 'FK_RUTA' y aplicar la función\n",
    "df = df.groupby('FK_RUTA', group_keys=False).apply(calcular_frecuencia_despacho)\n",
    "\n",
    "# Exportar el DataFrame a un archivo CSV\n",
    "df.to_csv('datos_pasajeros_filtrado_con_frecuencia.csv', index=False)\n",
    "\n",
    "# Verificar los resultados\n",
    "print(df[['FK_RUTA', 'FECHA_INICIAL', 'HORA_INICIAL_REAL', 'F_DESPACHO']].head())"
   ]
  },
  {
   "cell_type": "code",
   "execution_count": 13,
   "metadata": {},
   "outputs": [
    {
     "name": "stdout",
     "output_type": "stream",
     "text": [
      "   DIA_SEMANA  FK_RUTA  CANTIDAD_DESPACHOS\n",
      "4      Monday        1                3855\n",
      "5      Monday        3                3877\n",
      "6      Monday        5                 111\n",
      "7      Monday        6                 142\n",
      "20    Tuesday        1                4604\n",
      "21    Tuesday        3                4537\n",
      "22    Tuesday        5                 141\n",
      "23    Tuesday        6                 169\n",
      "24  Wednesday        1                4281\n",
      "25  Wednesday        3                4241\n",
      "26  Wednesday        5                 131\n",
      "27  Wednesday        6                 164\n",
      "16   Thursday        1                4521\n",
      "17   Thursday        3                4496\n",
      "18   Thursday        5                 141\n",
      "19   Thursday        6                 178\n",
      "0      Friday        1                4574\n",
      "1      Friday        3                4557\n",
      "2      Friday        5                 141\n",
      "3      Friday        6                 178\n",
      "8    Saturday        1                3410\n",
      "9    Saturday        3                3545\n",
      "10   Saturday        5                 124\n",
      "11   Saturday        6                 146\n",
      "12     Sunday        1                1138\n",
      "13     Sunday        3                1234\n",
      "14     Sunday        5                   6\n",
      "15     Sunday        6                   3\n"
     ]
    }
   ],
   "source": [
    "# Asegúrate de que la columna 'DIA_SEMANA' esté correctamente configurada\n",
    "df['DIA_SEMANA'] = pd.to_datetime(df['FECHA_INICIAL']).dt.day_name()\n",
    "\n",
    "# Calcular la cantidad de despachos por día de la semana y por ruta\n",
    "despachos_por_dia_ruta = df.groupby(['DIA_SEMANA', 'FK_RUTA']).size().reset_index(name='CANTIDAD_DESPACHOS')\n",
    "\n",
    "# Ordenar los resultados por día de la semana y ruta\n",
    "dias_ordenados = ['Monday', 'Tuesday', 'Wednesday', 'Thursday', 'Friday', 'Saturday', 'Sunday']\n",
    "despachos_por_dia_ruta['DIA_SEMANA'] = pd.Categorical(despachos_por_dia_ruta['DIA_SEMANA'], categories=dias_ordenados, ordered=True)\n",
    "despachos_por_dia_ruta = despachos_por_dia_ruta.sort_values(by=['DIA_SEMANA', 'FK_RUTA'])\n",
    "\n",
    "# Mostrar los resultados\n",
    "print(despachos_por_dia_ruta)\n",
    "\n",
    "# Opcional: Exportar los resultados a un archivo CSV\n",
    "despachos_por_dia_ruta.to_csv('despachos_por_dia_ruta.csv', index=False)"
   ]
  },
  {
   "cell_type": "code",
   "execution_count": 14,
   "metadata": {},
   "outputs": [
    {
     "data": {
      "image/png": "[encoded data removed]",
      "text/plain": [
       "<Figure size 1400x800 with 1 Axes>"
      ]
     },
     "metadata": {},
     "output_type": "display_data"
    },
    {
     "data": {
      "image/png": "[encoded data removed]",
      "text/plain": [
       "<Figure size 1400x800 with 1 Axes>"
      ]
     },
     "metadata": {},
     "output_type": "display_data"
    }
   ],
   "source": [
    "import matplotlib.pyplot as plt\n",
    "import seaborn as sns\n",
    "\n",
    "# Asegúrate de que la columna 'HORA_INICIAL_REAL' esté en formato datetime\n",
    "df['HORA_INICIAL_REAL'] = pd.to_datetime(df['HORA_INICIAL_REAL'], errors='coerce')\n",
    "\n",
    "# Crear una nueva columna para la hora (sin minutos ni segundos)\n",
    "df['HORA'] = df['HORA_INICIAL_REAL'].dt.hour\n",
    "\n",
    "# Calcular el promedio de la frecuencia de despacho por hora, día de la semana y ruta\n",
    "promedio_frecuencia = (\n",
    "    df.groupby(['DIA_SEMANA', 'FK_RUTA', 'HORA'])['F_DESPACHO']\n",
    "    .mean()\n",
    "    .reset_index(name='PROMEDIO_FRECUENCIA')\n",
    ")\n",
    "\n",
    "# Filtrar solo las rutas con FK_RUTA 1 y 3\n",
    "rutas_filtradas = [1, 3]\n",
    "promedio_frecuencia = promedio_frecuencia[promedio_frecuencia['FK_RUTA'].isin(rutas_filtradas)]\n",
    "\n",
    "# Ordenar los días de la semana\n",
    "dias_ordenados = ['Monday', 'Tuesday', 'Wednesday', 'Thursday', 'Friday', 'Saturday', 'Sunday']\n",
    "promedio_frecuencia['DIA_SEMANA'] = pd.Categorical(promedio_frecuencia['DIA_SEMANA'], categories=dias_ordenados, ordered=True)\n",
    "\n",
    "# Crear gráficos independientes por ruta\n",
    "for ruta in rutas_filtradas:\n",
    "    plt.figure(figsize=(14, 8))\n",
    "    sns.lineplot(\n",
    "        data=promedio_frecuencia[promedio_frecuencia['FK_RUTA'] == ruta],\n",
    "        x='HORA',\n",
    "        y='PROMEDIO_FRECUENCIA',\n",
    "        hue='DIA_SEMANA',\n",
    "        markers=True,\n",
    "        dashes=False,\n",
    "        palette='tab10'\n",
    "    )\n",
    "    \n",
    "    # Configurar el gráfico\n",
    "    plt.title(f'Promedio de Frecuencia de Despacho por Hora (Ruta {ruta})', fontsize=14)\n",
    "    plt.xlabel('Hora del Día', fontsize=12)\n",
    "    plt.ylabel('Promedio de Frecuencia (minutos)', fontsize=12)\n",
    "    plt.legend(title='Día de la Semana', bbox_to_anchor=(1.05, 1), loc='upper left')\n",
    "    plt.grid(axis='y', linestyle='--', alpha=0.7)\n",
    "    plt.tight_layout()\n",
    "    \n",
    "    # Mostrar el gráfico\n",
    "    plt.show()"
   ]
  },
  {
   "cell_type": "code",
   "execution_count": 15,
   "metadata": {},
   "outputs": [
    {
     "data": {
      "application/vnd.plotly.v1+json": {
       "config": {
        "plotlyServerURL": "https://plot.ly"
       },
       "data": [
        {
         "hovertemplate": "Día de la Semana=Friday<br>FK_RUTA=1<br>Hora del Día=%{x}<br>Promedio de Frecuencia (minutos)=%{y}<extra></extra>",
         "legendgroup": "Friday",
         "line": {
          "color": "#636efa",
          "dash": "solid"
         },
         "marker": {
          "symbol": "circle"
         },
         "mode": "lines+markers",
         "name": "Friday",
         "orientation": "v",
         "showlegend": true,
         "type": "scatter",
         "x": {
          "bdata": "BAAAAAUAAAAGAAAABwAAAAgAAAAJAAAACgAAAAsAAAAMAAAADQAAAA4AAAAPAAAAEAAAABEAAAASAAAA",
          "dtype": "i4"
         },
         "xaxis": "x",
         "y": {
          "bdata": "3KjG+G84E0BhLfrGk2AbQA27AuRecxxAgAo1RgUGIUBlkDp/e34hQIQPPvjgsyBAbZYBzGapIEA9KcH8BYsjQGAX1gKi9SBAXPYb4olWIEBCeJizQ1EjQFyYasqZ7yBA4rIRVM8YIkCul98eGSspQLy7u7u7Mz9A",
          "dtype": "f8"
         },
         "yaxis": "y"
        },
        {
         "hovertemplate": "Día de la Semana=Friday<br>FK_RUTA=3<br>Hora del Día=%{x}<br>Promedio de Frecuencia (minutos)=%{y}<extra></extra>",
         "legendgroup": "Friday",
         "line": {
          "color": "#636efa",
          "dash": "solid"
         },
         "marker": {
          "symbol": "circle"
         },
         "mode": "lines+markers",
         "name": "Friday",
         "orientation": "v",
         "showlegend": false,
         "type": "scatter",
         "x": {
          "bdata": "BAAAAAUAAAAGAAAABwAAAAgAAAAJAAAACgAAAAsAAAAMAAAADQAAAA4AAAAPAAAAEAAAABEAAAASAAAA",
          "dtype": "i4"
         },
         "xaxis": "x2",
         "y": {
          "bdata": "HMdxHMdxFkAzEKhvxmoZQFAmH9tU2RpA9uZSZwMaIUD8eQRQ1rYfQG+LXp63AyBAR4R3RHhHIUCR/9fcXqoiQI19OUFjXyFAxB1xR9xBIUBdeiP7jAciQLS5CGm2pCFAox7nTBJTJ0BaNSUOpBUyQOM4juM47j5A",
          "dtype": "f8"
         },
         "yaxis": "y2"
        },
        {
         "hovertemplate": "Día de la Semana=Monday<br>FK_RUTA=1<br>Hora del Día=%{x}<br>Promedio de Frecuencia (minutos)=%{y}<extra></extra>",
         "legendgroup": "Monday",
         "line": {
          "color": "#EF553B",
          "dash": "solid"
         },
         "marker": {
          "symbol": "circle"
         },
         "mode": "lines+markers",
         "name": "Monday",
         "orientation": "v",
         "showlegend": true,
         "type": "scatter",
         "x": {
          "bdata": "BAAAAAUAAAAGAAAABwAAAAgAAAAJAAAACgAAAAsAAAAMAAAADQAAAA4AAAAPAAAAEAAAABEAAAASAAAAEwAAAA==",
          "dtype": "i4"
         },
         "xaxis": "x",
         "y": {
          "bdata": "yDZV9vA9EkDfm1cTz4odQN0w2SnLDSFASDtWIIwEJEDlAck6VzokQGusxmqsViNAlMoU0kHgIkBuO+zMH7kkQHAF2VsSiSJAFm6CrriOI0CM9pvyXMImQHu38y9sKCRA9zFiOUg0IkB7GaaFtGktQLdt27ZteztAd3d3d3enY0A=",
          "dtype": "f8"
         },
         "yaxis": "y"
        },
        {
         "hovertemplate": "Día de la Semana=Monday<br>FK_RUTA=3<br>Hora del Día=%{x}<br>Promedio de Frecuencia (minutos)=%{y}<extra></extra>",
         "legendgroup": "Monday",
         "line": {
          "color": "#EF553B",
          "dash": "solid"
         },
         "marker": {
          "symbol": "circle"
         },
         "mode": "lines+markers",
         "name": "Monday",
         "orientation": "v",
         "showlegend": false,
         "type": "scatter",
         "x": {
          "bdata": "BAAAAAUAAAAGAAAABwAAAAgAAAAJAAAACgAAAAsAAAAMAAAADQAAAA4AAAAPAAAAEAAAABEAAAASAAAA",
          "dtype": "i4"
         },
         "xaxis": "x2",
         "y": {
          "bdata": "ua0pmCH1FUDD0K5mrQMeQN26k4sUsSBAN96+pLm1I0DvpztflYMiQAEN0AANeCFA3u07T4gEI0CSbZJtkm0mQC4LBPzSZCRAUCHoMgxwJEDCFmzBFigkQO+RGdco0iRAk90Rgg0OJkDj8jgTxccxQED2Yz/2ozpA",
          "dtype": "f8"
         },
         "yaxis": "y2"
        },
        {
         "hovertemplate": "Día de la Semana=Saturday<br>FK_RUTA=1<br>Hora del Día=%{x}<br>Promedio de Frecuencia (minutos)=%{y}<extra></extra>",
         "legendgroup": "Saturday",
         "line": {
          "color": "#00cc96",
          "dash": "solid"
         },
         "marker": {
          "symbol": "circle"
         },
         "mode": "lines+markers",
         "name": "Saturday",
         "orientation": "v",
         "showlegend": true,
         "type": "scatter",
         "x": {
          "bdata": "BAAAAAUAAAAGAAAABwAAAAgAAAAJAAAACgAAAAsAAAAMAAAADQAAAA4AAAAPAAAAEAAAABEAAAASAAAA",
          "dtype": "i4"
         },
         "xaxis": "x",
         "y": {
          "bdata": "UyCymOFUFUCkTme2xasjQOINztiIix5AA1Vo9KteH0DlnYwFt9whQG0rPUJoBSNAbMEWbMH2J0DbLRXtC/4mQH0kNsxHIilAqDHPpzFPK0AZKB565/MrQImIiIiI2CxAu/ktBIySMkAzMzMzM783QOM4juM47khA",
          "dtype": "f8"
         },
         "yaxis": "y"
        },
        {
         "hovertemplate": "Día de la Semana=Saturday<br>FK_RUTA=3<br>Hora del Día=%{x}<br>Promedio de Frecuencia (minutos)=%{y}<extra></extra>",
         "legendgroup": "Saturday",
         "line": {
          "color": "#00cc96",
          "dash": "solid"
         },
         "marker": {
          "symbol": "circle"
         },
         "mode": "lines+markers",
         "name": "Saturday",
         "orientation": "v",
         "showlegend": false,
         "type": "scatter",
         "x": {
          "bdata": "BAAAAAUAAAAGAAAABwAAAAgAAAAJAAAACgAAAAsAAAAMAAAADQAAAA4AAAAPAAAAEAAAABEAAAASAAAA",
          "dtype": "i4"
         },
         "xaxis": "x2",
         "y": {
          "bdata": "b3nITfW3FkAVnFHBGVUbQBjxiraEdBxAQVz5mUH3H0CTDuzXNq4gQDqogzqooyJAk18s+cVqJ0BbElIaa0QqQIX9JGT87ylANfxtilFDLECzoxYhfw0tQCS2wTn3RDBAIiIiIiLINEBa9tTJcOg9QImIiIiIuFNA",
          "dtype": "f8"
         },
         "yaxis": "y2"
        },
        {
         "hovertemplate": "Día de la Semana=Sunday<br>FK_RUTA=1<br>Hora del Día=%{x}<br>Promedio de Frecuencia (minutos)=%{y}<extra></extra>",
         "legendgroup": "Sunday",
         "line": {
          "color": "#ab63fa",
          "dash": "solid"
         },
         "marker": {
          "symbol": "circle"
         },
         "mode": "lines+markers",
         "name": "Sunday",
         "orientation": "v",
         "showlegend": true,
         "type": "scatter",
         "x": {
          "bdata": "BAAAAAUAAAAGAAAABwAAAAgAAAAJAAAACgAAAAsAAAAMAAAADQAAAA4AAAAPAAAAEAAAABEAAAA=",
          "dtype": "i4"
         },
         "xaxis": "x",
         "y": {
          "bdata": "AAAAAAAAAADH/L02Yl0jQAPwSMr6TDVAFOgraT1BN0BmsLy+6XA3QDMzMzMzKzhApTyC/gBqPUCf+Qd2bDg6QObtDIl5uz1AibEPMMNlPkB3d3d3d7lAQOi0gU4bTkBAFwJGqSbPQkAmYRImYXJMQA==",
          "dtype": "f8"
         },
         "yaxis": "y"
        },
        {
         "hovertemplate": "Día de la Semana=Sunday<br>FK_RUTA=3<br>Hora del Día=%{x}<br>Promedio de Frecuencia (minutos)=%{y}<extra></extra>",
         "legendgroup": "Sunday",
         "line": {
          "color": "#ab63fa",
          "dash": "solid"
         },
         "marker": {
          "symbol": "circle"
         },
         "mode": "lines+markers",
         "name": "Sunday",
         "orientation": "v",
         "showlegend": false,
         "type": "scatter",
         "x": {
          "bdata": "BAAAAAUAAAAGAAAABwAAAAgAAAAJAAAACgAAAAsAAAAMAAAADQAAAA4AAAAPAAAAEAAAABEAAAA=",
          "dtype": "i4"
         },
         "xaxis": "x2",
         "y": {
          "bdata": "G8prKK+hEkDlpu8qgaEyQCoqKioqKjhA+B+qTHXfNEBGJqq59581QCaeFY0EbDhA061k0q1kOkAhsHJokX05QApC/+g2dj5ALgCPpKzvQEDkYRWLc6s/QE+W6dCop0BAAbnXXEgqQkBKn/RJn5RSQA==",
          "dtype": "f8"
         },
         "yaxis": "y2"
        },
        {
         "hovertemplate": "Día de la Semana=Thursday<br>FK_RUTA=1<br>Hora del Día=%{x}<br>Promedio de Frecuencia (minutos)=%{y}<extra></extra>",
         "legendgroup": "Thursday",
         "line": {
          "color": "#FFA15A",
          "dash": "solid"
         },
         "marker": {
          "symbol": "circle"
         },
         "mode": "lines+markers",
         "name": "Thursday",
         "orientation": "v",
         "showlegend": true,
         "type": "scatter",
         "x": {
          "bdata": "BAAAAAUAAAAGAAAABwAAAAgAAAAJAAAACgAAAAsAAAAMAAAADQAAAA4AAAAPAAAAEAAAABEAAAASAAAA",
          "dtype": "i4"
         },
         "xaxis": "x",
         "y": {
          "bdata": "uw7OtUwFEkBVVVVVVY0cQLAFW7AFkx1AtzYOSabAIUCQ9Yeb/NghQBkOteypAyBAHwwkhsu0IkA/v5y7JkAkQHTfqUT3PSFAQHtHKHRBIEC/a/jsaoEiQEkkqHzyqiBAw50z3DmjIUCGoxRcOMoqQHW5/UGGSjZA",
          "dtype": "f8"
         },
         "yaxis": "y"
        },
        {
         "hovertemplate": "Día de la Semana=Thursday<br>FK_RUTA=3<br>Hora del Día=%{x}<br>Promedio de Frecuencia (minutos)=%{y}<extra></extra>",
         "legendgroup": "Thursday",
         "line": {
          "color": "#FFA15A",
          "dash": "solid"
         },
         "marker": {
          "symbol": "circle"
         },
         "mode": "lines+markers",
         "name": "Thursday",
         "orientation": "v",
         "showlegend": false,
         "type": "scatter",
         "x": {
          "bdata": "BAAAAAUAAAAGAAAABwAAAAgAAAAJAAAACgAAAAsAAAAMAAAADQAAAA4AAAAPAAAAEAAAABEAAAASAAAA",
          "dtype": "i4"
         },
         "xaxis": "x2",
         "y": {
          "bdata": "wkg7ViBMFkC3oRQQlKAaQHejJHJtNxpAtcih71OLIUC4SM76XiAgQLYaPEegaB9AkNNMWj/1IUBvjKrI5oQkQAYXXHDBhSFA7Md+7MfOIECFSFMNVIgiQBT5LsOaayFAI30JMCPSJUCx9g1r37AzQCIiIiIiIiFA",
          "dtype": "f8"
         },
         "yaxis": "y2"
        },
        {
         "hovertemplate": "Día de la Semana=Tuesday<br>FK_RUTA=1<br>Hora del Día=%{x}<br>Promedio de Frecuencia (minutos)=%{y}<extra></extra>",
         "legendgroup": "Tuesday",
         "line": {
          "color": "#19d3f3",
          "dash": "solid"
         },
         "marker": {
          "symbol": "circle"
         },
         "mode": "lines+markers",
         "name": "Tuesday",
         "orientation": "v",
         "showlegend": true,
         "type": "scatter",
         "x": {
          "bdata": "BAAAAAUAAAAGAAAABwAAAAgAAAAJAAAACgAAAAsAAAAMAAAADQAAAA4AAAAPAAAAEAAAABEAAAASAAAAEwAAAA==",
          "dtype": "i4"
         },
         "xaxis": "x",
         "y": {
          "bdata": "xQoif/PEE0DvHRJVhHgaQN7JfEh3sh1AilYj8LwJIkCgvc8kqSEjQHZlV3ZlVyBA993PGi6EIECGNxw0f10jQFnyiyW/qCBANrK6DHtlIEA6baDTBvohQD4K16NwPSFAYP7lX/5dIUD2eZywURopQPdjP/Zj3z9AzczMzMzMVUA=",
          "dtype": "f8"
         },
         "yaxis": "y"
        },
        {
         "hovertemplate": "Día de la Semana=Tuesday<br>FK_RUTA=3<br>Hora del Día=%{x}<br>Promedio de Frecuencia (minutos)=%{y}<extra></extra>",
         "legendgroup": "Tuesday",
         "line": {
          "color": "#19d3f3",
          "dash": "solid"
         },
         "marker": {
          "symbol": "circle"
         },
         "mode": "lines+markers",
         "name": "Tuesday",
         "orientation": "v",
         "showlegend": false,
         "type": "scatter",
         "x": {
          "bdata": "BAAAAAUAAAAGAAAABwAAAAgAAAAJAAAACgAAAAsAAAAMAAAADQAAAA4AAAAPAAAAEAAAABEAAAASAAAA",
          "dtype": "i4"
         },
         "xaxis": "x2",
         "y": {
          "bdata": "vs9l4fv8FkAHLYSUJ1MaQMPphPGjLRxARERERETEIUDrM6vEF1YgQI6PcXaNHh9Ao6SN5rCVIUDZ5ssBlq0jQNKPEwwbPSFAJ9wkdcjpIEDjiiuuuOIhQORqXXhCRiJAxJ0KQdxpJkCe2Imd2AkwQOAETuAEjkpA",
          "dtype": "f8"
         },
         "yaxis": "y2"
        },
        {
         "hovertemplate": "Día de la Semana=Wednesday<br>FK_RUTA=1<br>Hora del Día=%{x}<br>Promedio de Frecuencia (minutos)=%{y}<extra></extra>",
         "legendgroup": "Wednesday",
         "line": {
          "color": "#FF6692",
          "dash": "solid"
         },
         "marker": {
          "symbol": "circle"
         },
         "mode": "lines+markers",
         "name": "Wednesday",
         "orientation": "v",
         "showlegend": true,
         "type": "scatter",
         "x": {
          "bdata": "BAAAAAUAAAAGAAAABwAAAAgAAAAJAAAACgAAAAsAAAAMAAAADQAAAA4AAAAPAAAAEAAAABEAAAASAAAAEwAAAA==",
          "dtype": "i4"
         },
         "xaxis": "x",
         "y": {
          "bdata": "9T7e0hy8EkBz5/3QKncbQF0onOJ37h1AiOsIV0ghIUDopxtVWc4iQHWMVPlxEyFAr9j1zgKTIkB6QLLOlXskQCJ49jjVyiJAaPzTJIOGIUAoNgb1XUIjQPG9ilckkSFAQNVxCU9LIUC0lkQxpW0oQJ7neZ7n+TZAd3d3d3cHWEA=",
          "dtype": "f8"
         },
         "yaxis": "y"
        },
        {
         "hovertemplate": "Día de la Semana=Wednesday<br>FK_RUTA=3<br>Hora del Día=%{x}<br>Promedio de Frecuencia (minutos)=%{y}<extra></extra>",
         "legendgroup": "Wednesday",
         "line": {
          "color": "#FF6692",
          "dash": "solid"
         },
         "marker": {
          "symbol": "circle"
         },
         "mode": "lines+markers",
         "name": "Wednesday",
         "orientation": "v",
         "showlegend": false,
         "type": "scatter",
         "x": {
          "bdata": "BAAAAAUAAAAGAAAABwAAAAgAAAAJAAAACgAAAAsAAAAMAAAADQAAAA4AAAAPAAAAEAAAABEAAAASAAAA",
          "dtype": "i4"
         },
         "xaxis": "x2",
         "y": {
          "bdata": "tGKvBq3YFUC0Uk7tPxwbQPTgWajNUhtAf+7nfu4XIkBomdc8F5EgQF0cemQupyBAw+W3pDH/IUBAba+tSKYkQM9K/Fs/eiNAff+tv8x3IUAtI3et37QiQELTol0fVCNAPMIjPMKjJ0DAv7+/v18wQKuqqqqqSkZA",
          "dtype": "f8"
         },
         "yaxis": "y2"
        }
       ],
       "layout": {
        "annotations": [
         {
          "font": {},
          "showarrow": false,
          "text": "FK_RUTA=1",
          "x": 0.245,
          "xanchor": "center",
          "xref": "paper",
          "y": 1,
          "yanchor": "bottom",
          "yref": "paper"
         },
         {
          "font": {},
          "showarrow": false,
          "text": "FK_RUTA=3",
          "x": 0.755,
          "xanchor": "center",
          "xref": "paper",
          "y": 1,
          "yanchor": "bottom",
          "yref": "paper"
         }
        ],
        "hovermode": "x unified",
        "legend": {
         "title": {
          "text": "Día de la Semana"
         },
         "tracegroupgap": 0
        },
        "template": {
         "data": {
          "bar": [
           {
            "error_x": {
             "color": "#2a3f5f"
            },
            "error_y": {
             "color": "#2a3f5f"
            },
            "marker": {
             "line": {
              "color": "#E5ECF6",
              "width": 0.5
             },
             "pattern": {
              "fillmode": "overlay",
              "size": 10,
              "solidity": 0.2
             }
            },
            "type": "bar"
           }
          ],
          "barpolar": [
           {
            "marker": {
             "line": {
              "color": "#E5ECF6",
              "width": 0.5
             },
             "pattern": {
              "fillmode": "overlay",
              "size": 10,
              "solidity": 0.2
             }
            },
            "type": "barpolar"
           }
          ],
          "carpet": [
           {
            "aaxis": {
             "endlinecolor": "#2a3f5f",
             "gridcolor": "white",
             "linecolor": "white",
             "minorgridcolor": "white",
             "startlinecolor": "#2a3f5f"
            },
            "baxis": {
             "endlinecolor": "#2a3f5f",
             "gridcolor": "white",
             "linecolor": "white",
             "minorgridcolor": "white",
             "startlinecolor": "#2a3f5f"
            },
            "type": "carpet"
           }
          ],
          "choropleth": [
           {
            "colorbar": {
             "outlinewidth": 0,
             "ticks": ""
            },
            "type": "choropleth"
           }
          ],
          "contour": [
           {
            "colorbar": {
             "outlinewidth": 0,
             "ticks": ""
            },
            "colorscale": [
             [
              0,
              "#0d0887"
             ],
             [
              0.1111111111111111,
              "#46039f"
             ],
             [
              0.2222222222222222,
              "#7201a8"
             ],
             [
              0.3333333333333333,
              "#9c179e"
             ],
             [
              0.4444444444444444,
              "#bd3786"
             ],
             [
              0.5555555555555556,
              "#d8576b"
             ],
             [
              0.6666666666666666,
              "#ed7953"
             ],
             [
              0.7777777777777778,
              "#fb9f3a"
             ],
             [
              0.8888888888888888,
              "#fdca26"
             ],
             [
              1,
              "#f0f921"
             ]
            ],
            "type": "contour"
           }
          ],
          "contourcarpet": [
           {
            "colorbar": {
             "outlinewidth": 0,
             "ticks": ""
            },
            "type": "contourcarpet"
           }
          ],
          "heatmap": [
           {
            "colorbar": {
             "outlinewidth": 0,
             "ticks": ""
            },
            "colorscale": [
             [
              0,
              "#0d0887"
             ],
             [
              0.1111111111111111,
              "#46039f"
             ],
             [
              0.2222222222222222,
              "#7201a8"
             ],
             [
              0.3333333333333333,
              "#9c179e"
             ],
             [
              0.4444444444444444,
              "#bd3786"
             ],
             [
              0.5555555555555556,
              "#d8576b"
             ],
             [
              0.6666666666666666,
              "#ed7953"
             ],
             [
              0.7777777777777778,
              "#fb9f3a"
             ],
             [
              0.8888888888888888,
              "#fdca26"
             ],
             [
              1,
              "#f0f921"
             ]
            ],
            "type": "heatmap"
           }
          ],
          "histogram": [
           {
            "marker": {
             "pattern": {
              "fillmode": "overlay",
              "size": 10,
              "solidity": 0.2
             }
            },
            "type": "histogram"
           }
          ],
          "histogram2d": [
           {
            "colorbar": {
             "outlinewidth": 0,
             "ticks": ""
            },
            "colorscale": [
             [
              0,
              "#0d0887"
             ],
             [
              0.1111111111111111,
              "#46039f"
             ],
             [
              0.2222222222222222,
              "#7201a8"
             ],
             [
              0.3333333333333333,
              "#9c179e"
             ],
             [
              0.4444444444444444,
              "#bd3786"
             ],
             [
              0.5555555555555556,
              "#d8576b"
             ],
             [
              0.6666666666666666,
              "#ed7953"
             ],
             [
              0.7777777777777778,
              "#fb9f3a"
             ],
             [
              0.8888888888888888,
              "#fdca26"
             ],
             [
              1,
              "#f0f921"
             ]
            ],
            "type": "histogram2d"
           }
          ],
          "histogram2dcontour": [
           {
            "colorbar": {
             "outlinewidth": 0,
             "ticks": ""
            },
            "colorscale": [
             [
              0,
              "#0d0887"
             ],
             [
              0.1111111111111111,
              "#46039f"
             ],
             [
              0.2222222222222222,
              "#7201a8"
             ],
             [
              0.3333333333333333,
              "#9c179e"
             ],
             [
              0.4444444444444444,
              "#bd3786"
             ],
             [
              0.5555555555555556,
              "#d8576b"
             ],
             [
              0.6666666666666666,
              "#ed7953"
             ],
             [
              0.7777777777777778,
              "#fb9f3a"
             ],
             [
              0.8888888888888888,
              "#fdca26"
             ],
             [
              1,
              "#f0f921"
             ]
            ],
            "type": "histogram2dcontour"
           }
          ],
          "mesh3d": [
           {
            "colorbar": {
             "outlinewidth": 0,
             "ticks": ""
            },
            "type": "mesh3d"
           }
          ],
          "parcoords": [
           {
            "line": {
             "colorbar": {
              "outlinewidth": 0,
              "ticks": ""
             }
            },
            "type": "parcoords"
           }
          ],
          "pie": [
           {
            "automargin": true,
            "type": "pie"
           }
          ],
          "scatter": [
           {
            "fillpattern": {
             "fillmode": "overlay",
             "size": 10,
             "solidity": 0.2
            },
            "type": "scatter"
           }
          ],
          "scatter3d": [
           {
            "line": {
             "colorbar": {
              "outlinewidth": 0,
              "ticks": ""
             }
            },
            "marker": {
             "colorbar": {
              "outlinewidth": 0,
              "ticks": ""
             }
            },
            "type": "scatter3d"
           }
          ],
          "scattercarpet": [
           {
            "marker": {
             "colorbar": {
              "outlinewidth": 0,
              "ticks": ""
             }
            },
            "type": "scattercarpet"
           }
          ],
          "scattergeo": [
           {
            "marker": {
             "colorbar": {
              "outlinewidth": 0,
              "ticks": ""
             }
            },
            "type": "scattergeo"
           }
          ],
          "scattergl": [
           {
            "marker": {
             "colorbar": {
              "outlinewidth": 0,
              "ticks": ""
             }
            },
            "type": "scattergl"
           }
          ],
          "scattermap": [
           {
            "marker": {
             "colorbar": {
              "outlinewidth": 0,
              "ticks": ""
             }
            },
            "type": "scattermap"
           }
          ],
          "scattermapbox": [
           {
            "marker": {
             "colorbar": {
              "outlinewidth": 0,
              "ticks": ""
             }
            },
            "type": "scattermapbox"
           }
          ],
          "scatterpolar": [
           {
            "marker": {
             "colorbar": {
              "outlinewidth": 0,
              "ticks": ""
             }
            },
            "type": "scatterpolar"
           }
          ],
          "scatterpolargl": [
           {
            "marker": {
             "colorbar": {
              "outlinewidth": 0,
              "ticks": ""
             }
            },
            "type": "scatterpolargl"
           }
          ],
          "scatterternary": [
           {
            "marker": {
             "colorbar": {
              "outlinewidth": 0,
              "ticks": ""
             }
            },
            "type": "scatterternary"
           }
          ],
          "surface": [
           {
            "colorbar": {
             "outlinewidth": 0,
             "ticks": ""
            },
            "colorscale": [
             [
              0,
              "#0d0887"
             ],
             [
              0.1111111111111111,
              "#46039f"
             ],
             [
              0.2222222222222222,
              "#7201a8"
             ],
             [
              0.3333333333333333,
              "#9c179e"
             ],
             [
              0.4444444444444444,
              "#bd3786"
             ],
             [
              0.5555555555555556,
              "#d8576b"
             ],
             [
              0.6666666666666666,
              "#ed7953"
             ],
             [
              0.7777777777777778,
              "#fb9f3a"
             ],
             [
              0.8888888888888888,
              "#fdca26"
             ],
             [
              1,
              "#f0f921"
             ]
            ],
            "type": "surface"
           }
          ],
          "table": [
           {
            "cells": {
             "fill": {
              "color": "#EBF0F8"
             },
             "line": {
              "color": "white"
             }
            },
            "header": {
             "fill": {
              "color": "#C8D4E3"
             },
             "line": {
              "color": "white"
             }
            },
            "type": "table"
           }
          ]
         },
         "layout": {
          "annotationdefaults": {
           "arrowcolor": "#2a3f5f",
           "arrowhead": 0,
           "arrowwidth": 1
          },
          "autotypenumbers": "strict",
          "coloraxis": {
           "colorbar": {
            "outlinewidth": 0,
            "ticks": ""
           }
          },
          "colorscale": {
           "diverging": [
            [
             0,
             "#8e0152"
            ],
            [
             0.1,
             "#c51b7d"
            ],
            [
             0.2,
             "#de77ae"
            ],
            [
             0.3,
             "#f1b6da"
            ],
            [
             0.4,
             "#fde0ef"
            ],
            [
             0.5,
             "#f7f7f7"
            ],
            [
             0.6,
             "#e6f5d0"
            ],
            [
             0.7,
             "#b8e186"
            ],
            [
             0.8,
             "#7fbc41"
            ],
            [
             0.9,
             "#4d9221"
            ],
            [
             1,
             "#276419"
            ]
           ],
           "sequential": [
            [
             0,
             "#0d0887"
            ],
            [
             0.1111111111111111,
             "#46039f"
            ],
            [
             0.2222222222222222,
             "#7201a8"
            ],
            [
             0.3333333333333333,
             "#9c179e"
            ],
            [
             0.4444444444444444,
             "#bd3786"
            ],
            [
             0.5555555555555556,
             "#d8576b"
            ],
            [
             0.6666666666666666,
             "#ed7953"
            ],
            [
             0.7777777777777778,
             "#fb9f3a"
            ],
            [
             0.8888888888888888,
             "#fdca26"
            ],
            [
             1,
             "#f0f921"
            ]
           ],
           "sequentialminus": [
            [
             0,
             "#0d0887"
            ],
            [
             0.1111111111111111,
             "#46039f"
            ],
            [
             0.2222222222222222,
             "#7201a8"
            ],
            [
             0.3333333333333333,
             "#9c179e"
            ],
            [
             0.4444444444444444,
             "#bd3786"
            ],
            [
             0.5555555555555556,
             "#d8576b"
            ],
            [
             0.6666666666666666,
             "#ed7953"
            ],
            [
             0.7777777777777778,
             "#fb9f3a"
            ],
            [
             0.8888888888888888,
             "#fdca26"
            ],
            [
             1,
             "#f0f921"
            ]
           ]
          },
          "colorway": [
           "#636efa",
           "#EF553B",
           "#00cc96",
           "#ab63fa",
           "#FFA15A",
           "#19d3f3",
           "#FF6692",
           "#B6E880",
           "#FF97FF",
           "#FECB52"
          ],
          "font": {
           "color": "#2a3f5f"
          },
          "geo": {
           "bgcolor": "white",
           "lakecolor": "white",
           "landcolor": "#E5ECF6",
           "showlakes": true,
           "showland": true,
           "subunitcolor": "white"
          },
          "hoverlabel": {
           "align": "left"
          },
          "hovermode": "closest",
          "mapbox": {
           "style": "light"
          },
          "paper_bgcolor": "white",
          "plot_bgcolor": "#E5ECF6",
          "polar": {
           "angularaxis": {
            "gridcolor": "white",
            "linecolor": "white",
            "ticks": ""
           },
           "bgcolor": "#E5ECF6",
           "radialaxis": {
            "gridcolor": "white",
            "linecolor": "white",
            "ticks": ""
           }
          },
          "scene": {
           "xaxis": {
            "backgroundcolor": "#E5ECF6",
            "gridcolor": "white",
            "gridwidth": 2,
            "linecolor": "white",
            "showbackground": true,
            "ticks": "",
            "zerolinecolor": "white"
           },
           "yaxis": {
            "backgroundcolor": "#E5ECF6",
            "gridcolor": "white",
            "gridwidth": 2,
            "linecolor": "white",
            "showbackground": true,
            "ticks": "",
            "zerolinecolor": "white"
           },
           "zaxis": {
            "backgroundcolor": "#E5ECF6",
            "gridcolor": "white",
            "gridwidth": 2,
            "linecolor": "white",
            "showbackground": true,
            "ticks": "",
            "zerolinecolor": "white"
           }
          },
          "shapedefaults": {
           "line": {
            "color": "#2a3f5f"
           }
          },
          "ternary": {
           "aaxis": {
            "gridcolor": "white",
            "linecolor": "white",
            "ticks": ""
           },
           "baxis": {
            "gridcolor": "white",
            "linecolor": "white",
            "ticks": ""
           },
           "bgcolor": "#E5ECF6",
           "caxis": {
            "gridcolor": "white",
            "linecolor": "white",
            "ticks": ""
           }
          },
          "title": {
           "x": 0.05
          },
          "xaxis": {
           "automargin": true,
           "gridcolor": "white",
           "linecolor": "white",
           "ticks": "",
           "title": {
            "standoff": 15
           },
           "zerolinecolor": "white",
           "zerolinewidth": 2
          },
          "yaxis": {
           "automargin": true,
           "gridcolor": "white",
           "linecolor": "white",
           "ticks": "",
           "title": {
            "standoff": 15
           },
           "zerolinecolor": "white",
           "zerolinewidth": 2
          }
         }
        },
        "title": {
         "text": "Promedio de Frecuencia de Despacho por Hora (Rutas 1 y 3)"
        },
        "xaxis": {
         "anchor": "y",
         "domain": [
          0,
          0.49
         ],
         "tickmode": "linear",
         "title": {
          "text": "Hora del Día"
         }
        },
        "xaxis2": {
         "anchor": "y2",
         "domain": [
          0.51,
          1
         ],
         "matches": "x",
         "title": {
          "text": "Hora del Día"
         }
        },
        "yaxis": {
         "anchor": "x",
         "domain": [
          0,
          1
         ],
         "title": {
          "text": "Promedio de Frecuencia (minutos)"
         }
        },
        "yaxis2": {
         "anchor": "x2",
         "domain": [
          0,
          1
         ],
         "matches": "y",
         "showticklabels": false
        }
       }
      }
     },
     "metadata": {},
     "output_type": "display_data"
    }
   ],
   "source": [
    "import plotly.express as px\n",
    "\n",
    "# Crear un DataFrame filtrado para las rutas 1 y 3\n",
    "rutas_filtradas = [1, 3]\n",
    "promedio_frecuencia = promedio_frecuencia[promedio_frecuencia['FK_RUTA'].isin(rutas_filtradas)]\n",
    "\n",
    "# Crear un gráfico interactivo con Plotly\n",
    "fig = px.line(\n",
    "    promedio_frecuencia,\n",
    "    x='HORA',\n",
    "    y='PROMEDIO_FRECUENCIA',\n",
    "    color='DIA_SEMANA',\n",
    "    facet_col='FK_RUTA',  # Crear gráficos separados por ruta\n",
    "    title='Promedio de Frecuencia de Despacho por Hora (Rutas 1 y 3)',\n",
    "    labels={'HORA': 'Hora del Día', 'PROMEDIO_FRECUENCIA': 'Promedio de Frecuencia (minutos)', 'DIA_SEMANA': 'Día de la Semana'},\n",
    "    markers=True\n",
    ")\n",
    "\n",
    "# Configurar el diseño\n",
    "fig.update_layout(\n",
    "    legend_title_text='Día de la Semana',\n",
    "    xaxis=dict(tickmode='linear'),\n",
    "    hovermode='x unified'\n",
    ")\n",
    "\n",
    "# Mostrar el gráfico interactivo\n",
    "fig.show()"
   ]
  },
  {
   "cell_type": "markdown",
   "metadata": {},
   "source": [
    "Observaciones técnicas clave\n",
    "Frecuencias muy altas al final del día (17–19h): Explicado por el hecho de que los conductores se van a sus casas lo que baja la disponibilidad de vehiculos\n",
    "\n",
    "Hasta 160 min en algunos días.\n",
    "\n",
    "Se comprueba la desorganización, saturación o abandono de ruta.\n",
    "\n",
    "Altísima variabilidad entre días:\n",
    "\n",
    "Domingo y viernes tienen frecuencias muy distintas del resto.\n",
    "\n",
    "Esto afecta la confiabilidad del servicio.\n",
    "\n",
    "Estabilidad aceptable entre 5:00 y 13:00 aprox., pero no óptima:\n",
    "\n",
    "Aunque hay consistencia, la frecuencia supera los 10–15 min en algunos tramos.\n",
    "\n",
    "Ruta 3 parece más homogénea que Ruta 1, pero ambas tienen problemas después de las 16h."
   ]
  },
  {
   "cell_type": "code",
   "execution_count": null,
   "metadata": {},
   "outputs": [],
   "source": [
    "df.info()\n"
   ]
  },
  {
   "cell_type": "markdown",
   "metadata": {},
   "source": [
    "## Calculo de KPI 'Mejora en los tiempos de despacho'"
   ]
  },
  {
   "cell_type": "code",
   "execution_count": 32,
   "metadata": {},
   "outputs": [],
   "source": [
    "# Definir las rutas que deseas incluir\n",
    "rutas_filtradas = [1, 3]\n",
    "\n",
    "# Filtrar el DataFrame por las rutas deseadas\n",
    "df_filtrado = df[df['FK_RUTA'].isin(rutas_filtradas)].copy()\n",
    "df['MES'] = df['FECHA_INICIAL'].dt.to_period('M')  \n"
   ]
  },
  {
   "cell_type": "code",
   "execution_count": 33,
   "metadata": {},
   "outputs": [],
   "source": [
    "df_promedios = df_filtrado.groupby(['MES', 'FK_RUTA', 'HORA'])['F_DESPACHO'].mean().reset_index()\n"
   ]
  },
  {
   "cell_type": "code",
   "execution_count": 34,
   "metadata": {},
   "outputs": [],
   "source": [
    "# Ordenar por mes para asegurar el orden cronológico\n",
    "df_promedios.sort_values(by=['FK_RUTA', 'HORA', 'MES'], inplace=True)\n",
    "\n",
    "# Usar shift para obtener la frecuencia del mes anterior\n",
    "df_promedios['F_ANTERIOR'] = df_promedios.groupby(['FK_RUTA', 'HORA'])['F_DESPACHO'].shift(1)\n",
    "\n",
    "# Calcular mejora: positivo es mejora (menor tiempo entre despachos)\n",
    "df_promedios['MEJORA_FRECUENCIA'] = df_promedios['F_ANTERIOR'] - df_promedios['F_DESPACHO']\n"
   ]
  },
  {
   "cell_type": "code",
   "execution_count": null,
   "metadata": {},
   "outputs": [],
   "source": [
    "kpi_mensual = df_promedios.groupby(['MES', 'FK_RUTA'])['MEJORA_FRECUENCIA'].mean().reset_index()\n",
    "\n",
    "kpi_mensual"
   ]
  },
  {
   "cell_type": "code",
   "execution_count": 40,
   "metadata": {},
   "outputs": [
    {
     "data": {
      "application/vnd.plotly.v1+json": {
       "config": {
        "plotlyServerURL": "https://plot.ly"
       },
       "data": [
        {
         "hovertemplate": "Ruta=1<br>Mes=%{x}<br>Mejora de Frecuencia (minutos)=%{y}<extra></extra>",
         "legendgroup": "1",
         "line": {
          "color": "#636efa",
          "dash": "solid"
         },
         "marker": {
          "symbol": "circle"
         },
         "mode": "lines+markers",
         "name": "1",
         "orientation": "v",
         "showlegend": true,
         "type": "scatter",
         "x": [
          "2024-04-01T00:00:00.000000000",
          "2024-05-01T00:00:00.000000000",
          "2024-06-01T00:00:00.000000000",
          "2024-07-01T00:00:00.000000000",
          "2024-08-01T00:00:00.000000000",
          "2024-09-01T00:00:00.000000000",
          "2024-10-01T00:00:00.000000000",
          "2024-11-01T00:00:00.000000000",
          "2024-12-01T00:00:00.000000000",
          "2025-01-01T00:00:00.000000000",
          "2025-02-01T00:00:00.000000000",
          "2025-03-01T00:00:00.000000000"
         ],
         "xaxis": "x",
         "y": {
          "bdata": "AAAAAAAA+H9Bs5O0liv5Pw+cCB3TbgNAPp+0jokz5z+IPKLkDsjEP6adFFTGQtm/4N0hFmvy7T/awlYhohLxv34cYp8uquY/RwiFhHE1+r+i8vTLeDbxP7Tn/ZpVY/C/",
          "dtype": "f8"
         },
         "yaxis": "y"
        },
        {
         "hovertemplate": "Ruta=3<br>Mes=%{x}<br>Mejora de Frecuencia (minutos)=%{y}<extra></extra>",
         "legendgroup": "3",
         "line": {
          "color": "#EF553B",
          "dash": "solid"
         },
         "marker": {
          "symbol": "circle"
         },
         "mode": "lines+markers",
         "name": "3",
         "orientation": "v",
         "showlegend": true,
         "type": "scatter",
         "x": [
          "2024-04-01T00:00:00.000000000",
          "2024-05-01T00:00:00.000000000",
          "2024-06-01T00:00:00.000000000",
          "2024-07-01T00:00:00.000000000",
          "2024-08-01T00:00:00.000000000",
          "2024-09-01T00:00:00.000000000",
          "2024-10-01T00:00:00.000000000",
          "2024-11-01T00:00:00.000000000",
          "2024-12-01T00:00:00.000000000",
          "2025-01-01T00:00:00.000000000",
          "2025-02-01T00:00:00.000000000",
          "2025-03-01T00:00:00.000000000"
         ],
         "xaxis": "x",
         "y": {
          "bdata": "AAAAAAAA+H/g7f6tdg3JvyZi3HvQqhTA6+NqbVehEUCzZjlS7JTBvyY2cHciyPC/GsRkh/p737+vlPNdcQ7Yv5FqVlIfm/O/lWH4JeMr3b8syPsG2E4MQKUl2xjvlgDA",
          "dtype": "f8"
         },
         "yaxis": "y"
        }
       ],
       "layout": {
        "annotations": [
         {
          "showarrow": false,
          "text": "Sin Mejora",
          "x": 0,
          "xanchor": "left",
          "xref": "x domain",
          "y": 0,
          "yanchor": "bottom",
          "yref": "y"
         }
        ],
        "hovermode": "x unified",
        "legend": {
         "title": {
          "text": "Ruta"
         },
         "tracegroupgap": 0
        },
        "shapes": [
         {
          "line": {
           "color": "gray",
           "dash": "dash"
          },
          "type": "line",
          "x0": 0,
          "x1": 1,
          "xref": "x domain",
          "y0": 0,
          "y1": 0,
          "yref": "y"
         }
        ],
        "template": {
         "data": {
          "bar": [
           {
            "error_x": {
             "color": "#2a3f5f"
            },
            "error_y": {
             "color": "#2a3f5f"
            },
            "marker": {
             "line": {
              "color": "white",
              "width": 0.5
             },
             "pattern": {
              "fillmode": "overlay",
              "size": 10,
              "solidity": 0.2
             }
            },
            "type": "bar"
           }
          ],
          "barpolar": [
           {
            "marker": {
             "line": {
              "color": "white",
              "width": 0.5
             },
             "pattern": {
              "fillmode": "overlay",
              "size": 10,
              "solidity": 0.2
             }
            },
            "type": "barpolar"
           }
          ],
          "carpet": [
           {
            "aaxis": {
             "endlinecolor": "#2a3f5f",
             "gridcolor": "#C8D4E3",
             "linecolor": "#C8D4E3",
             "minorgridcolor": "#C8D4E3",
             "startlinecolor": "#2a3f5f"
            },
            "baxis": {
             "endlinecolor": "#2a3f5f",
             "gridcolor": "#C8D4E3",
             "linecolor": "#C8D4E3",
             "minorgridcolor": "#C8D4E3",
             "startlinecolor": "#2a3f5f"
            },
            "type": "carpet"
           }
          ],
          "choropleth": [
           {
            "colorbar": {
             "outlinewidth": 0,
             "ticks": ""
            },
            "type": "choropleth"
           }
          ],
          "contour": [
           {
            "colorbar": {
             "outlinewidth": 0,
             "ticks": ""
            },
            "colorscale": [
             [
              0,
              "#0d0887"
             ],
             [
              0.1111111111111111,
              "#46039f"
             ],
             [
              0.2222222222222222,
              "#7201a8"
             ],
             [
              0.3333333333333333,
              "#9c179e"
             ],
             [
              0.4444444444444444,
              "#bd3786"
             ],
             [
              0.5555555555555556,
              "#d8576b"
             ],
             [
              0.6666666666666666,
              "#ed7953"
             ],
             [
              0.7777777777777778,
              "#fb9f3a"
             ],
             [
              0.8888888888888888,
              "#fdca26"
             ],
             [
              1,
              "#f0f921"
             ]
            ],
            "type": "contour"
           }
          ],
          "contourcarpet": [
           {
            "colorbar": {
             "outlinewidth": 0,
             "ticks": ""
            },
            "type": "contourcarpet"
           }
          ],
          "heatmap": [
           {
            "colorbar": {
             "outlinewidth": 0,
             "ticks": ""
            },
            "colorscale": [
             [
              0,
              "#0d0887"
             ],
             [
              0.1111111111111111,
              "#46039f"
             ],
             [
              0.2222222222222222,
              "#7201a8"
             ],
             [
              0.3333333333333333,
              "#9c179e"
             ],
             [
              0.4444444444444444,
              "#bd3786"
             ],
             [
              0.5555555555555556,
              "#d8576b"
             ],
             [
              0.6666666666666666,
              "#ed7953"
             ],
             [
              0.7777777777777778,
              "#fb9f3a"
             ],
             [
              0.8888888888888888,
              "#fdca26"
             ],
             [
              1,
              "#f0f921"
             ]
            ],
            "type": "heatmap"
           }
          ],
          "histogram": [
           {
            "marker": {
             "pattern": {
              "fillmode": "overlay",
              "size": 10,
              "solidity": 0.2
             }
            },
            "type": "histogram"
           }
          ],
          "histogram2d": [
           {
            "colorbar": {
             "outlinewidth": 0,
             "ticks": ""
            },
            "colorscale": [
             [
              0,
              "#0d0887"
             ],
             [
              0.1111111111111111,
              "#46039f"
             ],
             [
              0.2222222222222222,
              "#7201a8"
             ],
             [
              0.3333333333333333,
              "#9c179e"
             ],
             [
              0.4444444444444444,
              "#bd3786"
             ],
             [
              0.5555555555555556,
              "#d8576b"
             ],
             [
              0.6666666666666666,
              "#ed7953"
             ],
             [
              0.7777777777777778,
              "#fb9f3a"
             ],
             [
              0.8888888888888888,
              "#fdca26"
             ],
             [
              1,
              "#f0f921"
             ]
            ],
            "type": "histogram2d"
           }
          ],
          "histogram2dcontour": [
           {
            "colorbar": {
             "outlinewidth": 0,
             "ticks": ""
            },
            "colorscale": [
             [
              0,
              "#0d0887"
             ],
             [
              0.1111111111111111,
              "#46039f"
             ],
             [
              0.2222222222222222,
              "#7201a8"
             ],
             [
              0.3333333333333333,
              "#9c179e"
             ],
             [
              0.4444444444444444,
              "#bd3786"
             ],
             [
              0.5555555555555556,
              "#d8576b"
             ],
             [
              0.6666666666666666,
              "#ed7953"
             ],
             [
              0.7777777777777778,
              "#fb9f3a"
             ],
             [
              0.8888888888888888,
              "#fdca26"
             ],
             [
              1,
              "#f0f921"
             ]
            ],
            "type": "histogram2dcontour"
           }
          ],
          "mesh3d": [
           {
            "colorbar": {
             "outlinewidth": 0,
             "ticks": ""
            },
            "type": "mesh3d"
           }
          ],
          "parcoords": [
           {
            "line": {
             "colorbar": {
              "outlinewidth": 0,
              "ticks": ""
             }
            },
            "type": "parcoords"
           }
          ],
          "pie": [
           {
            "automargin": true,
            "type": "pie"
           }
          ],
          "scatter": [
           {
            "fillpattern": {
             "fillmode": "overlay",
             "size": 10,
             "solidity": 0.2
            },
            "type": "scatter"
           }
          ],
          "scatter3d": [
           {
            "line": {
             "colorbar": {
              "outlinewidth": 0,
              "ticks": ""
             }
            },
            "marker": {
             "colorbar": {
              "outlinewidth": 0,
              "ticks": ""
             }
            },
            "type": "scatter3d"
           }
          ],
          "scattercarpet": [
           {
            "marker": {
             "colorbar": {
              "outlinewidth": 0,
              "ticks": ""
             }
            },
            "type": "scattercarpet"
           }
          ],
          "scattergeo": [
           {
            "marker": {
             "colorbar": {
              "outlinewidth": 0,
              "ticks": ""
             }
            },
            "type": "scattergeo"
           }
          ],
          "scattergl": [
           {
            "marker": {
             "colorbar": {
              "outlinewidth": 0,
              "ticks": ""
             }
            },
            "type": "scattergl"
           }
          ],
          "scattermap": [
           {
            "marker": {
             "colorbar": {
              "outlinewidth": 0,
              "ticks": ""
             }
            },
            "type": "scattermap"
           }
          ],
          "scattermapbox": [
           {
            "marker": {
             "colorbar": {
              "outlinewidth": 0,
              "ticks": ""
             }
            },
            "type": "scattermapbox"
           }
          ],
          "scatterpolar": [
           {
            "marker": {
             "colorbar": {
              "outlinewidth": 0,
              "ticks": ""
             }
            },
            "type": "scatterpolar"
           }
          ],
          "scatterpolargl": [
           {
            "marker": {
             "colorbar": {
              "outlinewidth": 0,
              "ticks": ""
             }
            },
            "type": "scatterpolargl"
           }
          ],
          "scatterternary": [
           {
            "marker": {
             "colorbar": {
              "outlinewidth": 0,
              "ticks": ""
             }
            },
            "type": "scatterternary"
           }
          ],
          "surface": [
           {
            "colorbar": {
             "outlinewidth": 0,
             "ticks": ""
            },
            "colorscale": [
             [
              0,
              "#0d0887"
             ],
             [
              0.1111111111111111,
              "#46039f"
             ],
             [
              0.2222222222222222,
              "#7201a8"
             ],
             [
              0.3333333333333333,
              "#9c179e"
             ],
             [
              0.4444444444444444,
              "#bd3786"
             ],
             [
              0.5555555555555556,
              "#d8576b"
             ],
             [
              0.6666666666666666,
              "#ed7953"
             ],
             [
              0.7777777777777778,
              "#fb9f3a"
             ],
             [
              0.8888888888888888,
              "#fdca26"
             ],
             [
              1,
              "#f0f921"
             ]
            ],
            "type": "surface"
           }
          ],
          "table": [
           {
            "cells": {
             "fill": {
              "color": "#EBF0F8"
             },
             "line": {
              "color": "white"
             }
            },
            "header": {
             "fill": {
              "color": "#C8D4E3"
             },
             "line": {
              "color": "white"
             }
            },
            "type": "table"
           }
          ]
         },
         "layout": {
          "annotationdefaults": {
           "arrowcolor": "#2a3f5f",
           "arrowhead": 0,
           "arrowwidth": 1
          },
          "autotypenumbers": "strict",
          "coloraxis": {
           "colorbar": {
            "outlinewidth": 0,
            "ticks": ""
           }
          },
          "colorscale": {
           "diverging": [
            [
             0,
             "#8e0152"
            ],
            [
             0.1,
             "#c51b7d"
            ],
            [
             0.2,
             "#de77ae"
            ],
            [
             0.3,
             "#f1b6da"
            ],
            [
             0.4,
             "#fde0ef"
            ],
            [
             0.5,
             "#f7f7f7"
            ],
            [
             0.6,
             "#e6f5d0"
            ],
            [
             0.7,
             "#b8e186"
            ],
            [
             0.8,
             "#7fbc41"
            ],
            [
             0.9,
             "#4d9221"
            ],
            [
             1,
             "#276419"
            ]
           ],
           "sequential": [
            [
             0,
             "#0d0887"
            ],
            [
             0.1111111111111111,
             "#46039f"
            ],
            [
             0.2222222222222222,
             "#7201a8"
            ],
            [
             0.3333333333333333,
             "#9c179e"
            ],
            [
             0.4444444444444444,
             "#bd3786"
            ],
            [
             0.5555555555555556,
             "#d8576b"
            ],
            [
             0.6666666666666666,
             "#ed7953"
            ],
            [
             0.7777777777777778,
             "#fb9f3a"
            ],
            [
             0.8888888888888888,
             "#fdca26"
            ],
            [
             1,
             "#f0f921"
            ]
           ],
           "sequentialminus": [
            [
             0,
             "#0d0887"
            ],
            [
             0.1111111111111111,
             "#46039f"
            ],
            [
             0.2222222222222222,
             "#7201a8"
            ],
            [
             0.3333333333333333,
             "#9c179e"
            ],
            [
             0.4444444444444444,
             "#bd3786"
            ],
            [
             0.5555555555555556,
             "#d8576b"
            ],
            [
             0.6666666666666666,
             "#ed7953"
            ],
            [
             0.7777777777777778,
             "#fb9f3a"
            ],
            [
             0.8888888888888888,
             "#fdca26"
            ],
            [
             1,
             "#f0f921"
            ]
           ]
          },
          "colorway": [
           "#636efa",
           "#EF553B",
           "#00cc96",
           "#ab63fa",
           "#FFA15A",
           "#19d3f3",
           "#FF6692",
           "#B6E880",
           "#FF97FF",
           "#FECB52"
          ],
          "font": {
           "color": "#2a3f5f"
          },
          "geo": {
           "bgcolor": "white",
           "lakecolor": "white",
           "landcolor": "white",
           "showlakes": true,
           "showland": true,
           "subunitcolor": "#C8D4E3"
          },
          "hoverlabel": {
           "align": "left"
          },
          "hovermode": "closest",
          "mapbox": {
           "style": "light"
          },
          "paper_bgcolor": "white",
          "plot_bgcolor": "white",
          "polar": {
           "angularaxis": {
            "gridcolor": "#EBF0F8",
            "linecolor": "#EBF0F8",
            "ticks": ""
           },
           "bgcolor": "white",
           "radialaxis": {
            "gridcolor": "#EBF0F8",
            "linecolor": "#EBF0F8",
            "ticks": ""
           }
          },
          "scene": {
           "xaxis": {
            "backgroundcolor": "white",
            "gridcolor": "#DFE8F3",
            "gridwidth": 2,
            "linecolor": "#EBF0F8",
            "showbackground": true,
            "ticks": "",
            "zerolinecolor": "#EBF0F8"
           },
           "yaxis": {
            "backgroundcolor": "white",
            "gridcolor": "#DFE8F3",
            "gridwidth": 2,
            "linecolor": "#EBF0F8",
            "showbackground": true,
            "ticks": "",
            "zerolinecolor": "#EBF0F8"
           },
           "zaxis": {
            "backgroundcolor": "white",
            "gridcolor": "#DFE8F3",
            "gridwidth": 2,
            "linecolor": "#EBF0F8",
            "showbackground": true,
            "ticks": "",
            "zerolinecolor": "#EBF0F8"
           }
          },
          "shapedefaults": {
           "line": {
            "color": "#2a3f5f"
           }
          },
          "ternary": {
           "aaxis": {
            "gridcolor": "#DFE8F3",
            "linecolor": "#A2B1C6",
            "ticks": ""
           },
           "baxis": {
            "gridcolor": "#DFE8F3",
            "linecolor": "#A2B1C6",
            "ticks": ""
           },
           "bgcolor": "white",
           "caxis": {
            "gridcolor": "#DFE8F3",
            "linecolor": "#A2B1C6",
            "ticks": ""
           }
          },
          "title": {
           "x": 0.05
          },
          "xaxis": {
           "automargin": true,
           "gridcolor": "#EBF0F8",
           "linecolor": "#EBF0F8",
           "ticks": "",
           "title": {
            "standoff": 15
           },
           "zerolinecolor": "#EBF0F8",
           "zerolinewidth": 2
          },
          "yaxis": {
           "automargin": true,
           "gridcolor": "#EBF0F8",
           "linecolor": "#EBF0F8",
           "ticks": "",
           "title": {
            "standoff": 15
           },
           "zerolinecolor": "#EBF0F8",
           "zerolinewidth": 2
          }
         }
        },
        "title": {
         "text": "KPI: Mejora de Tiempo Promedio entre Despachos (por Mes y Ruta)"
        },
        "xaxis": {
         "anchor": "y",
         "domain": [
          0,
          1
         ],
         "tickformat": "%b %Y",
         "title": {
          "text": "Mes"
         }
        },
        "yaxis": {
         "anchor": "x",
         "domain": [
          0,
          1
         ],
         "title": {
          "text": "Mejora de Frecuencia (minutos)"
         }
        }
       }
      }
     },
     "metadata": {},
     "output_type": "display_data"
    }
   ],
   "source": [
    "import plotly.express as px\n",
    "import plotly.graph_objects as go\n",
    "\n",
    "# Asegurar que la columna MES esté en formato datetime\n",
    "df_kpi = kpi_mensual.copy()\n",
    "df_kpi['MES'] = pd.to_datetime(df_kpi['MES'].astype(str))\n",
    "\n",
    "# Crear gráfico con líneas y marcadores por ruta\n",
    "fig = px.line(\n",
    "    df_kpi,\n",
    "    x='MES',\n",
    "    y='MEJORA_FRECUENCIA',\n",
    "    color='FK_RUTA',\n",
    "    markers=True,\n",
    "    title='KPI: Mejora de Tiempo Promedio entre Despachos (por Mes y Ruta)',\n",
    "    labels={\n",
    "        'MES': 'Mes',\n",
    "        'MEJORA_FRECUENCIA': 'Mejora de Frecuencia (minutos)',\n",
    "        'FK_RUTA': 'Ruta'\n",
    "    }\n",
    ")\n",
    "\n",
    "# Línea base horizontal en y=0 (sin mejora)\n",
    "fig.add_hline(\n",
    "    y=0,\n",
    "    line_dash=\"dash\",\n",
    "    line_color=\"gray\",\n",
    "    annotation_text=\"Sin Mejora\",\n",
    "    annotation_position=\"top left\"\n",
    ")\n",
    "\n",
    "# Estilo del gráfico\n",
    "fig.update_layout(\n",
    "    xaxis=dict(\n",
    "        title=\"Mes\",\n",
    "        tickformat=\"%b %Y\"\n",
    "    ),\n",
    "    yaxis_title=\"Mejora de Frecuencia (minutos)\",\n",
    "    hovermode=\"x unified\",\n",
    "    template=\"plotly_white\",\n",
    "    legend_title_text=\"Ruta\"\n",
    ")\n",
    "\n",
    "fig.show()\n"
   ]
  },
  {
   "cell_type": "markdown",
   "metadata": {},
   "source": [
    "Valores por encima de 0: indican que la frecuencia de despacho mejoró (se redujo el tiempo entre despachos).\n",
    "\n",
    "Valores por debajo de 0: indican que la frecuencia empeoró respecto al mes anterior."
   ]
  },
  {
   "cell_type": "markdown",
   "metadata": {},
   "source": [
    "En junio 2024, la Ruta 3 presenta un gran empeoramiento de casi -5 minutos.\n",
    "\n",
    "En julio 2024, hay una fuerte mejora para la Ruta 3, lo cual puede indicar algún cambio operativo positivo.\n",
    "\n",
    "Para la Ruta 1, se observa una mejora sostenida entre mayo y julio, pero cierta inestabilidad posterior.\n",
    "\n",
    "En febrero 2025, ambas rutas muestran mejora, especialmente la Ruta 3.\n",
    "\n"
   ]
  }
 ],
 "metadata": {
  "kernelspec": {
   "display_name": "etl",
   "language": "python",
   "name": "python3"
  },
  "language_info": {
   "codemirror_mode": {
    "name": "ipython",
    "version": 3
   },
   "file_extension": ".py",
   "mimetype": "text/x-python",
   "name": "python",
   "nbconvert_exporter": "python",
   "pygments_lexer": "ipython3",
   "version": "3.13.2"
  }
 },
 "nbformat": 4,
 "nbformat_minor": 2
}
